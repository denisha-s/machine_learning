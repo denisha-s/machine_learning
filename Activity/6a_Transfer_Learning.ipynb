{
 "cells": [
  {
   "cell_type": "markdown",
   "metadata": {},
   "source": [
    "## CSCI 470 Activities and Case Studies\n",
    "\n",
    "1. For all activities, you are allowed to collaborate with a partner. \n",
    "1. For case studies, you should work individually and are **not** allowed to collaborate.\n",
    "\n",
    "By filling out this notebook and submitting it, you acknowledge that you are aware of the above policies and are agreeing to comply with them."
   ]
  },
  {
   "cell_type": "markdown",
   "metadata": {},
   "source": [
    "Some considerations with regard to how these notebooks will be graded:\n",
    "\n",
    "1. Cells in which \"# YOUR CODE HERE\" is found are the cells where your graded code should be written.\n",
    "2. In order to test out or debug your code you may also create notebook cells or edit existing notebook cells other than \"# YOUR CODE HERE\". We actually highly recommend you do so to gain a better understanding of what is happening. However, during grading, **these changes are ignored**. \n",
    "2. You must ensure that all your code for the particular task is available in the cells that say \"# YOUR CODE HERE\"\n",
    "3. Every cell that says \"# YOUR CODE HERE\" is followed by a \"raise NotImplementedError\". You need to remove that line. During grading, if an error occurs then you will not receive points for your work in that section.\n",
    "4. If your code passes the \"assert\" statements, then no output will result. If your code fails the \"assert\" statements, you will get an \"AssertionError\". Getting an assertion error means you will not receive points for that particular task.\n",
    "5. If you edit the \"assert\" statements to make your code pass, they will still fail when they are graded since the \"assert\" statements will revert to the original. Make sure you don't edit the assert statements.\n",
    "6. We may sometimes have \"hidden\" tests for grading. This means that passing the visible \"assert\" statements is not sufficient. The \"assert\" statements are there as a guide but you need to make sure you understand what you're required to do and ensure that you are doing it correctly. Passing the visible tests is necessary but not sufficient to get the grade for that cell.\n",
    "7. When you are asked to define a function, make sure you **don't** use any variables outside of the parameters passed to the function. You can think of the parameters being passed to the function as a hint. Make sure you're using all of those variables.\n",
    "8. Finally, **make sure you run \"Kernel > Restart and Run All\"** and pass all the asserts before submitting. If you don't restart the kernel, there may be some code that you ran and deleted that is still being used and that was why your asserts were passing."
   ]
  },
  {
   "cell_type": "markdown",
   "metadata": {
    "deletable": false,
    "editable": false,
    "nbgrader": {
     "cell_type": "markdown",
     "checksum": "3a3b267c03d969d8512c4547ca52880f",
     "grade": false,
     "grade_id": "cell-c9d79ad28495f780",
     "locked": true,
     "schema_version": 3,
     "solution": false
    }
   },
   "source": [
    "# Transfer Learning\n",
    "\n",
    "We've already looked at one example of transfer learning. For NLP topic classification, we used various feature representations including using GloVe representations as the chosen word embedding. That was one example of transfer learning where the approach we used was a feature representation transfer.\n",
    "\n",
    "In this exercise we will apply transfer learning to computer vision where we will incorporate both parameter transfer as well as feature representation transfer. You can take a look at the available pre-trained models in keras on the [applications page](https://keras.io/applications) in the documentation. In modern ML practice, we often use transfer learning to gain the benefit of state of the art models, rather than build a model from scratch.\n",
    "\n",
    "For thie exercise, we will use the [CIFAR10 dataset](https://keras.io/datasets/#cifar10-small-image-classification)."
   ]
  },
  {
   "cell_type": "code",
   "execution_count": null,
   "metadata": {
    "nbgrader": {
     "grade": false,
     "grade_id": "cell-efba043cb3f09871",
     "locked": false,
     "schema_version": 3,
     "solution": false
    }
   },
   "outputs": [],
   "source": [
    "import numpy as np\n",
    "import matplotlib\n",
    "import matplotlib.pyplot as plt\n",
    "\n",
    "import tensorflow as tf\n",
    "import tensorflow.keras as keras\n",
    "\n",
    "from tensorflow.keras.datasets import cifar10\n",
    "from tensorflow.keras.applications.vgg16 import VGG16\n",
    "from tensorflow.keras.layers import Dense, Flatten\n",
    "from tensorflow.keras import Model"
   ]
  },
  {
   "cell_type": "markdown",
   "metadata": {},
   "source": [
    "## Load, examine, and prepare the data"
   ]
  },
  {
   "cell_type": "code",
   "execution_count": null,
   "metadata": {},
   "outputs": [],
   "source": [
    "(x_train, y_train), (x_test, y_test) = cifar10.load_data()\n",
    "num_classes = 10"
   ]
  },
  {
   "cell_type": "code",
   "execution_count": null,
   "metadata": {},
   "outputs": [],
   "source": [
    "# This code simply lets us know if the TensorFlow has access\n",
    "# to a GPU, or just a CPU\n",
    "\n",
    "from tensorflow.python.client import device_lib\n",
    "device_lib.list_local_devices()"
   ]
  },
  {
   "cell_type": "code",
   "execution_count": null,
   "metadata": {
    "nbgrader": {
     "grade": false,
     "grade_id": "cell-da2aa308afa6cd45",
     "locked": false,
     "schema_version": 3,
     "solution": false
    }
   },
   "outputs": [],
   "source": [
    "# Let's see how many training samples we have, and the size of the images\n",
    "\n",
    "x_train.shape, y_train.shape"
   ]
  },
  {
   "cell_type": "code",
   "execution_count": null,
   "metadata": {},
   "outputs": [],
   "source": [
    "# CIFAR-10 consists of 10 object classes. Let's confirm this.\n",
    "\n",
    "np.unique(y_train)"
   ]
  },
  {
   "cell_type": "code",
   "execution_count": null,
   "metadata": {
    "nbgrader": {
     "grade": false,
     "grade_id": "cell-00565449f93db419",
     "locked": false,
     "schema_version": 3,
     "solution": false
    }
   },
   "outputs": [],
   "source": [
    "# See how many test samples we have, and confirm that array sizes meet our expectations\n",
    "\n",
    "x_test.shape, y_test.shape"
   ]
  },
  {
   "cell_type": "code",
   "execution_count": null,
   "metadata": {},
   "outputs": [],
   "source": [
    "# We need to convert the integer-based class labels to categorical, one-hot\n",
    "# encoding vectors. Note that this is analogous to our use of get_dummies()\n",
    "# in pandas, which serves the same purpose except for DataFrames rather than\n",
    "# numpy arrays.\n",
    "\n",
    "y_train = keras.utils.to_categorical(y_train, num_classes)\n",
    "y_test = keras.utils.to_categorical(y_test, num_classes)\n",
    "\n",
    "y_train.shape, y_test.shape, y_train.min(), y_train.max()"
   ]
  },
  {
   "cell_type": "markdown",
   "metadata": {
    "deletable": false,
    "editable": false,
    "nbgrader": {
     "cell_type": "markdown",
     "checksum": "50f583dad12a72fea9f8dce818d8391f",
     "grade": false,
     "grade_id": "cell-46a3e8197a25e135",
     "locked": true,
     "schema_version": 3,
     "solution": false
    }
   },
   "source": [
    "## Extract parameters from a pre-trained model\n",
    "\n",
    "We'll use a VGG-16 model which has been trained on the [ImageNet ILSVRC](https://www.image-net.org/challenges/LSVRC/) image corpus of 1000 image categories. VGG-16 is a 16-layered CNN model. We'll keep the early convolutional layers and use them as a front-end for our new model, leveraging those convolutional layers for feature extraction. We'll discard the subsequent fully-connected layers (the \"top\") of the VGG-16 model, and instead, build a new \"top\" and train it for classification of CIFAR-10 images.\n",
    "\n",
    "Note that this process is taking the feature extraction knowledge learned from the ImageNet data and \"transferring\" it to our new model.\n",
    "\n",
    "You'll need to reference the [VGG16 Keras documentation](https://keras.io/api/applications/vgg/#vgg16-function) to accomplish this."
   ]
  },
  {
   "cell_type": "code",
   "execution_count": null,
   "metadata": {
    "deletable": false,
    "nbgrader": {
     "cell_type": "code",
     "checksum": "db0fd117651360de3fe6e8d5d4de26ec",
     "grade": false,
     "grade_id": "cell-cbf2a8f1fde34aa8",
     "locked": false,
     "schema_version": 3,
     "solution": true
    }
   },
   "outputs": [],
   "source": [
    "# Load a VGG16 model with ImageNet weights, without the fully-connected (\"top\") layers.\n",
    "#\n",
    "# Note that convolutional layers are independent of actual height and width image\n",
    "# dimesions, so you have to use \"input_shape\" to inform the VGG16 object/model what\n",
    "# the those dimensions will be.\n",
    "#\n",
    "# Save your model as \"vgg_model\".\n",
    "\n",
    "# YOUR CODE HERE\n",
    "raise NotImplementedError()"
   ]
  },
  {
   "cell_type": "code",
   "execution_count": null,
   "metadata": {
    "deletable": false,
    "editable": false,
    "nbgrader": {
     "cell_type": "code",
     "checksum": "c0ef0c7b96d2bce168920de695e896d4",
     "grade": true,
     "grade_id": "cell-7cc41b089035d39a",
     "locked": true,
     "points": 5,
     "schema_version": 3,
     "solution": false
    }
   },
   "outputs": [],
   "source": [
    "assert vgg_model"
   ]
  },
  {
   "cell_type": "code",
   "execution_count": null,
   "metadata": {},
   "outputs": [],
   "source": [
    "vgg_model.summary()"
   ]
  },
  {
   "cell_type": "code",
   "execution_count": null,
   "metadata": {},
   "outputs": [],
   "source": [
    "# Let's look at an image sample, and then you'll confirm that you\n",
    "# can use the pre-trained model for feature extraction.\n",
    "\n",
    "example = x_train[4]\n",
    "example.shape"
   ]
  },
  {
   "cell_type": "code",
   "execution_count": null,
   "metadata": {},
   "outputs": [],
   "source": [
    "plt.imshow(example)\n",
    "plt.show()"
   ]
  },
  {
   "cell_type": "code",
   "execution_count": null,
   "metadata": {
    "deletable": false,
    "nbgrader": {
     "cell_type": "code",
     "checksum": "c48c0df88a2511c20f597fde3c82f8ae",
     "grade": false,
     "grade_id": "cell-9efc493f08237ae8",
     "locked": false,
     "schema_version": 3,
     "solution": true
    }
   },
   "outputs": [],
   "source": [
    "# Use vgg_model to extract the features for the example image.\n",
    "# Save the output as \"example_vgg\".\n",
    "\n",
    "# YOUR CODE HERE\n",
    "raise NotImplementedError()"
   ]
  },
  {
   "cell_type": "code",
   "execution_count": null,
   "metadata": {
    "deletable": false,
    "editable": false,
    "nbgrader": {
     "cell_type": "code",
     "checksum": "5a354bd81201b8539fa818c87b10bd40",
     "grade": true,
     "grade_id": "cell-0c7351fe695136f1",
     "locked": true,
     "points": 5,
     "schema_version": 3,
     "solution": false
    }
   },
   "outputs": [],
   "source": [
    "assert np.squeeze(example_vgg).shape == (512,)"
   ]
  },
  {
   "cell_type": "markdown",
   "metadata": {
    "deletable": false,
    "editable": false,
    "nbgrader": {
     "cell_type": "markdown",
     "checksum": "5af710269a5562573d0839264f3b0832",
     "grade": false,
     "grade_id": "cell-8d58e4bfcd6581ec",
     "locked": true,
     "schema_version": 3,
     "solution": false
    }
   },
   "source": [
    "##  Build and train a CIFAR-10 classifier model\n",
    "\n",
    "Now let's create our own fully-connected layers and append those to the top of the `vgg_model`. We can then train our model on the CIFAR10 dataset and predict its classes. In the following code, you'll want to use Keras' [functional API](https://www.tensorflow.org/guide/keras/functional) that we've used before."
   ]
  },
  {
   "cell_type": "code",
   "execution_count": null,
   "metadata": {
    "deletable": false,
    "nbgrader": {
     "cell_type": "code",
     "checksum": "03dbffda429732ed16f9b7b1b77cd4c2",
     "grade": false,
     "grade_id": "cell-2dbbcd51c1a9bcf5",
     "locked": false,
     "schema_version": 3,
     "solution": true
    }
   },
   "outputs": [],
   "source": [
    "# Use the Keras function API to create a new set of layers that\n",
    "# will take input from the output of the VGG convolutional layers.\n",
    "# \n",
    "# - Flatten the output of the VGG convolutional layers\n",
    "# - Add 3 Dense layers with 256 units each and an appropriate activation function.\n",
    "# - Add a final output layer of proper size and activation function.\n",
    "#\n",
    "# Save the output of the final layer as \"predictions\".\n",
    "\n",
    "# Below, \"x\" is the output of the VGG16 layers. It will serve as the\n",
    "# input to the new layers you'll create below.\n",
    "x = vgg_model.output\n",
    "\n",
    "# YOUR CODE HERE\n",
    "raise NotImplementedError()\n",
    "\n",
    "# Now we can create a single Model that takes data from the input layer\n",
    "# of the VGG convolutional layers to the output of your fully-connected layers.\n",
    "vgg_complete = Model(vgg_model.input, predictions)"
   ]
  },
  {
   "cell_type": "code",
   "execution_count": null,
   "metadata": {
    "deletable": false,
    "editable": false,
    "nbgrader": {
     "cell_type": "code",
     "checksum": "97cf91aa294f3ffbbab690eebec68821",
     "grade": true,
     "grade_id": "cell-ccdc0af6567cf083",
     "locked": true,
     "points": 5,
     "schema_version": 3,
     "solution": false
    }
   },
   "outputs": [],
   "source": [
    "assert len(vgg_complete.layers) - len(vgg_model.layers) == 5\n",
    "assert vgg_complete.layers[-2].units == 256\n",
    "assert vgg_complete.layers[-3].units == 256\n",
    "assert vgg_complete.layers[-4].units == 256"
   ]
  },
  {
   "cell_type": "code",
   "execution_count": null,
   "metadata": {},
   "outputs": [],
   "source": [
    "vgg_complete.summary()"
   ]
  },
  {
   "cell_type": "markdown",
   "metadata": {},
   "source": [
    "### Train\n",
    "\n",
    "Train your model using as many epochs as you'd like, observing it's convergence behavior.  \n",
    "__But you must set `epochs=1` and re-run your notebook before turning it in.__"
   ]
  },
  {
   "cell_type": "code",
   "execution_count": null,
   "metadata": {},
   "outputs": [],
   "source": [
    "# We want to train the parameters of your new fully-connected layers,\n",
    "# but not those of the convolutional layers. This is because we want to\n",
    "# preserve the feature extraction capabilities of those layers as\n",
    "# learned from the much larger ImageNet ILSVRC data set. \"Freezing\"\n",
    "# the convolutional parameters will also allow our model to train more quickly.\n",
    "#\n",
    "# Briefly run this and the code cell below both with and without with \"trainable\" setting\n",
    "# set to False, while observing the estimated epoch training duration (\"ETA\").\n",
    "# Aterwards, but sure to set it back to False, and restart/rerun your notebook.\n",
    "for layer in vgg_model.layers:\n",
    "    layer.trainable = False"
   ]
  },
  {
   "cell_type": "code",
   "execution_count": null,
   "metadata": {
    "nbgrader": {
     "grade": false,
     "grade_id": "cell-555ef11edc47dba7",
     "locked": false,
     "schema_version": 3,
     "solution": false
    }
   },
   "outputs": [],
   "source": [
    "# This cell will take a while. Double check your work before continuing.\n",
    "#\n",
    "# If you set n_epochs greater than 1, to better observe convergence,\n",
    "# reset it to 1 before turning in our notebook.\n",
    "\n",
    "n_epochs = 1\n",
    "vgg_complete.compile(\"adam\", loss=\"categorical_crossentropy\", metrics=[\"accuracy\"])\n",
    "vgg_complete.fit(x_train, y_train, epochs=n_epochs, batch_size=128)"
   ]
  },
  {
   "cell_type": "code",
   "execution_count": null,
   "metadata": {
    "deletable": false,
    "nbgrader": {
     "cell_type": "code",
     "checksum": "66508aa829c910e32af725078e9b4718",
     "grade": false,
     "grade_id": "cell-ce8717f26f9f5d79",
     "locked": false,
     "schema_version": 3,
     "solution": true
    }
   },
   "outputs": [],
   "source": [
    "# Using your model, get the accuracy score for the test set\n",
    "# and save it as \"acc\".\n",
    "\n",
    "# YOUR CODE HERE\n",
    "raise NotImplementedError()"
   ]
  },
  {
   "cell_type": "code",
   "execution_count": null,
   "metadata": {
    "nbgrader": {
     "grade": false,
     "grade_id": "cell-7de667b2ebfee86b",
     "locked": false,
     "schema_version": 3,
     "solution": false
    }
   },
   "outputs": [],
   "source": [
    "print(f\"Random chance accuracy on this task is approximately 0.1.\\nYour model's accuracy is {acc:.3f}.\")"
   ]
  },
  {
   "cell_type": "code",
   "execution_count": null,
   "metadata": {
    "deletable": false,
    "editable": false,
    "nbgrader": {
     "cell_type": "code",
     "checksum": "18b16fcf9ae16b9cd14912d902f038db",
     "grade": true,
     "grade_id": "cell-eb960da5a7f7d0ab",
     "locked": true,
     "points": 5,
     "schema_version": 3,
     "solution": false
    }
   },
   "outputs": [],
   "source": [
    "assert acc > 0.3"
   ]
  },
  {
   "cell_type": "code",
   "execution_count": null,
   "metadata": {
    "deletable": false,
    "editable": false,
    "nbgrader": {
     "cell_type": "code",
     "checksum": "b03df30093f3dd39ef4d52fc85c91fd4",
     "grade": true,
     "grade_id": "cell-b6bf06c40977fcab",
     "locked": true,
     "points": 0,
     "schema_version": 3,
     "solution": false,
     "task": false
    }
   },
   "outputs": [],
   "source": [
    "assert n_epochs==1"
   ]
  },
  {
   "cell_type": "markdown",
   "metadata": {},
   "source": [
    "## Additional Exercises [optional]\n",
    "\n",
    "For further edification, consider comparing results from up to four models/situations. The ones using VGG16 will take longer to compute, but still only 10-15 minutes each if you train only for ~5 epochs. Consider training them for 10 epochs each, for clear differentiation of results.\n",
    "\n",
    "Be sure to look at the final accuracy score of the __test set__, not just those of the training set.\n",
    "\n",
    "1. Use the VGG-16 convolutional layers, but train all model parameters __from scratch__. To do so, simply set `weights=None` when you create `vgg_model` using `VGG16`.\n",
    "2. [You did this one already] Use pre-trained VGG-16 convolutional layers, and keep those layers \"frozen\" during training on CIFAR-10 data.\n",
    "3. Use pre-trained VGG-16 convolutional layers but in contrast to #2 above, do not freeze those layers during training on CIFAR-10 data (set `layer.trainable=True` a few cells above). This is called __fine-tuning__.\n",
    "4. VGG-16 is a large model. How well does a __smaller CNN model__ do, when trained from scratch? We did that for the MNIST model in the CNN Activity. Copy that model here, adjust the input shape to (32, 32, 3) rather than (28, 28, 1), then train and evalutate that model.\n",
    "\n",
    "__Which of the above approaches gives the best test set performance (after sufficient training epochs)?__\n",
    "\n",
    "\n",
    "__Be sure to restore all original settings before your final notebook run and submittal__:\n",
    "- `weights = 'imagenet'`\n",
    "- `layer.trainable = False`\n",
    "- `n_epochs = 1`"
   ]
  },
  {
   "cell_type": "markdown",
   "metadata": {
    "deletable": false,
    "editable": false,
    "nbgrader": {
     "cell_type": "markdown",
     "checksum": "feac2b34a20fc9f52ac6606cac738ac9",
     "grade": false,
     "grade_id": "cell-d77ae0b5a37d13a7",
     "locked": true,
     "schema_version": 3,
     "solution": false
    }
   },
   "source": [
    "## Feedback"
   ]
  },
  {
   "cell_type": "code",
   "execution_count": null,
   "metadata": {
    "deletable": false,
    "nbgrader": {
     "cell_type": "code",
     "checksum": "ed936ab53a1391c5e6af8df699a1dbf5",
     "grade": false,
     "grade_id": "feedback",
     "locked": false,
     "schema_version": 3,
     "solution": true
    }
   },
   "outputs": [],
   "source": [
    "def feedback():\n",
    "    \"\"\"Provide feedback on the contents of this exercise\n",
    "    \n",
    "    Returns:\n",
    "        string\n",
    "    \"\"\"\n",
    "    # YOUR CODE HERE\n",
    "    raise NotImplementedError()"
   ]
  },
  {
   "cell_type": "code",
   "execution_count": null,
   "metadata": {
    "deletable": false,
    "editable": false,
    "nbgrader": {
     "cell_type": "code",
     "checksum": "f39f6185a54850c2f1f9b5b2a17b7543",
     "grade": true,
     "grade_id": "feedback-tests",
     "locked": true,
     "points": 0,
     "schema_version": 3,
     "solution": false
    }
   },
   "outputs": [],
   "source": []
  }
 ],
 "metadata": {
  "kernelspec": {
   "display_name": "Python 3",
   "language": "python",
   "name": "python3"
  },
  "language_info": {
   "codemirror_mode": {
    "name": "ipython",
    "version": 3
   },
   "file_extension": ".py",
   "mimetype": "text/x-python",
   "name": "python",
   "nbconvert_exporter": "python",
   "pygments_lexer": "ipython3",
   "version": "3.7.4"
  }
 },
 "nbformat": 4,
 "nbformat_minor": 2
}
