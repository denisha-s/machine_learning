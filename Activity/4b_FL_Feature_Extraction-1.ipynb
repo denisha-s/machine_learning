{
 "cells": [
  {
   "cell_type": "markdown",
   "metadata": {},
   "source": [
    "## CSCI 470 Activities and Case Studies\n",
    "\n",
    "1. For all activities, you are allowed to collaborate with a partner. \n",
    "1. For case studies, you should work individually and are **not** allowed to collaborate.\n",
    "\n",
    "By filling out this notebook and submitting it, you acknowledge that you are aware of the above policies and are agreeing to comply with them."
   ]
  },
  {
   "cell_type": "markdown",
   "metadata": {},
   "source": [
    "Some considerations with regard to how these notebooks will be graded:\n",
    "\n",
    "1. Cells in which \"# YOUR CODE HERE\" is found are the cells where your graded code should be written.\n",
    "2. In order to test out or debug your code you may also create notebook cells or edit existing notebook cells other than \"# YOUR CODE HERE\". We actually highly recommend you do so to gain a better understanding of what is happening. However, during grading, **these changes are ignored**. \n",
    "2. You must ensure that all your code for the particular task is available in the cells that say \"# YOUR CODE HERE\"\n",
    "3. Every cell that says \"# YOUR CODE HERE\" is followed by a \"raise NotImplementedError\". You need to remove that line. During grading, if an error occurs then you will not receive points for your work in that section.\n",
    "4. If your code passes the \"assert\" statements, then no output will result. If your code fails the \"assert\" statements, you will get an \"AssertionError\". Getting an assertion error means you will not receive points for that particular task.\n",
    "5. If you edit the \"assert\" statements to make your code pass, they will still fail when they are graded since the \"assert\" statements will revert to the original. Make sure you don't edit the assert statements.\n",
    "6. We may sometimes have \"hidden\" tests for grading. This means that passing the visible \"assert\" statements is not sufficient. The \"assert\" statements are there as a guide but you need to make sure you understand what you're required to do and ensure that you are doing it correctly. Passing the visible tests is necessary but not sufficient to get the grade for that cell.\n",
    "7. When you are asked to define a function, make sure you **don't** use any variables outside of the parameters passed to the function. You can think of the parameters being passed to the function as a hint. Make sure you're using all of those variables.\n",
    "8. Finally, **make sure you run \"Kernel > Restart and Run All\"** and pass all the asserts before submitting. If you don't restart the kernel, there may be some code that you ran and deleted that is still being used and that was why your asserts were passing."
   ]
  },
  {
   "cell_type": "markdown",
   "metadata": {
    "deletable": false,
    "editable": false,
    "nbgrader": {
     "cell_type": "markdown",
     "checksum": "bda5d1ce5f569bf71b870e7625e8525a",
     "grade": false,
     "grade_id": "cell-11be055db50f00f3",
     "locked": true,
     "schema_version": 3,
     "solution": false
    }
   },
   "source": [
    "# Feature Extraction\n",
    "\n",
    "In this exercise you'll apply a variety of dimensionality reduction to a relatively high dimensional dataset and investigate how they perform in visualizing the data as well as working with a simple supervised learning algorithm.\n"
   ]
  },
  {
   "cell_type": "code",
   "execution_count": null,
   "metadata": {
    "nbgrader": {
     "grade": false,
     "grade_id": "cell-e716ed5f9d1a7489",
     "locked": false,
     "schema_version": 3,
     "solution": false
    }
   },
   "outputs": [],
   "source": [
    "import numpy as np\n",
    "import matplotlib\n",
    "import matplotlib.pyplot as plt\n",
    "import pandas as pd\n",
    "import sklearn as sk\n",
    "import scipy\n",
    "\n",
    "np.random.seed(0)\n",
    "plt.style.use(\"ggplot\")"
   ]
  },
  {
   "cell_type": "code",
   "execution_count": null,
   "metadata": {
    "nbgrader": {
     "grade": false,
     "grade_id": "cell-b2b2abe49e3f282e",
     "locked": false,
     "schema_version": 3,
     "solution": false
    }
   },
   "outputs": [],
   "source": [
    "from sklearn.datasets import load_breast_cancer\n",
    "from sklearn.model_selection import train_test_split\n",
    "from sklearn.decomposition import PCA, KernelPCA\n",
    "from sklearn.manifold import TSNE, SpectralEmbedding\n",
    "from sklearn.discriminant_analysis import LinearDiscriminantAnalysis\n",
    "from sklearn.svm import LinearSVC\n",
    "from sklearn.metrics import f1_score\n"
   ]
  },
  {
   "cell_type": "code",
   "execution_count": null,
   "metadata": {
    "nbgrader": {
     "grade": false,
     "grade_id": "cell-930fcd0a2642e182",
     "locked": false,
     "schema_version": 3,
     "solution": false
    }
   },
   "outputs": [],
   "source": [
    "data = load_breast_cancer()"
   ]
  },
  {
   "cell_type": "code",
   "execution_count": null,
   "metadata": {
    "nbgrader": {
     "grade": false,
     "grade_id": "cell-b36f4c557f29cc53",
     "locked": false,
     "schema_version": 3,
     "solution": false
    }
   },
   "outputs": [],
   "source": [
    "features = pd.DataFrame(data[\"data\"], columns=data[\"feature_names\"])\n",
    "target = pd.Series(data[\"target\"], name=\"class\")\n",
    "print(data[\"DESCR\"])"
   ]
  },
  {
   "cell_type": "code",
   "execution_count": null,
   "metadata": {
    "nbgrader": {
     "grade": false,
     "grade_id": "cell-2afd203af51ebd57",
     "locked": false,
     "schema_version": 3,
     "solution": false
    }
   },
   "outputs": [],
   "source": [
    "features.head()"
   ]
  },
  {
   "cell_type": "code",
   "execution_count": null,
   "metadata": {
    "nbgrader": {
     "grade": false,
     "grade_id": "cell-b9b1c727ee241ca2",
     "locked": false,
     "schema_version": 3,
     "solution": false
    }
   },
   "outputs": [],
   "source": [
    "features.describe()"
   ]
  },
  {
   "cell_type": "code",
   "execution_count": null,
   "metadata": {
    "nbgrader": {
     "grade": false,
     "grade_id": "cell-cdb95f68e1264a43",
     "locked": false,
     "schema_version": 3,
     "solution": false
    }
   },
   "outputs": [],
   "source": [
    "target.head()"
   ]
  },
  {
   "cell_type": "code",
   "execution_count": null,
   "metadata": {
    "nbgrader": {
     "grade": false,
     "grade_id": "cell-57d30e6cb847b0a3",
     "locked": false,
     "schema_version": 3,
     "solution": false
    }
   },
   "outputs": [],
   "source": [
    "X_train, X_test, y_train, y_test = train_test_split(features, target, test_size=0.2, random_state=0)"
   ]
  },
  {
   "cell_type": "code",
   "execution_count": null,
   "metadata": {},
   "outputs": [],
   "source": [
    "y_train"
   ]
  },
  {
   "cell_type": "markdown",
   "metadata": {},
   "source": [
    "First, we'll visualize the data with Principal Component Analysis. We can use the scikit-learn [PCA](https://scikit-learn.org/stable/modules/generated/sklearn.decomposition.PCA.html) and [KernelPCA](https://scikit-learn.org/stable/modules/generated/sklearn.decomposition.KernelPCA.html?highlight=kernelpca) classes. We'll want to visualize the data in just 2 dimensions."
   ]
  },
  {
   "cell_type": "code",
   "execution_count": null,
   "metadata": {},
   "outputs": [],
   "source": [
    "pca = PCA(n_components=2)\n",
    "# We can use fit transform to fit and transform the training data\n",
    "X_train_pca = pca.fit_transform(X_train)\n",
    "\n",
    "\n",
    "plt.scatter(X_train_pca[:,0], X_train_pca[:,1], c=y_train)\n",
    "plt.title(\"PCA\")\n",
    "plt.xlabel(\"PC 1\")\n",
    "plt.ylabel(\"PC 2\")\n",
    "plt.show()\n"
   ]
  },
  {
   "cell_type": "code",
   "execution_count": null,
   "metadata": {},
   "outputs": [],
   "source": [
    "# When we decide to visualize the test data, we now have to make sure we **do not fit**\n",
    "# We just use the transform method\n",
    "\n",
    "X_test_pca = pca.transform(X_test)\n",
    "\n",
    "plt.scatter(X_test_pca[:,0], X_test_pca[:,1], c=y_test)\n",
    "plt.title(\"PCA\")\n",
    "plt.xlabel(\"PC 1\")\n",
    "plt.ylabel(\"PC 2\")\n",
    "plt.show()"
   ]
  },
  {
   "cell_type": "code",
   "execution_count": null,
   "metadata": {},
   "outputs": [],
   "source": [
    "for degree in [2,3,4,5]:\n",
    "    \n",
    "    kpca = KernelPCA(n_components=2, kernel=\"poly\", degree=degree)\n",
    "    X_train_kpca = kpca.fit_transform(X_train)\n",
    "    \n",
    "    plt.scatter(X_train_kpca[:,0], X_train_kpca[:,1], c=y_train)\n",
    "    plt.title(f\" Polynomial Kernel PCA with degree {degree}\")\n",
    "    plt.xlabel(\"PC 1\")\n",
    "    plt.ylabel(\"PC 2\")\n",
    "    plt.show()\n",
    "    "
   ]
  },
  {
   "cell_type": "markdown",
   "metadata": {},
   "source": [
    "Next, we'll try out the t-Distributed Stochastic Neighborhood Embeddings. We can use the [TSNE](https://scikit-learn.org/stable/modules/generated/sklearn.manifold.TSNE.html?highlight=tsne#sklearn.manifold.TSNE) class from scikit-learn. We'll start by doing a hyperparameter search to see multiple variations of visualizations. As we covered in the lecture, this is recommended to make sure we're understanding the neighborhoods identified in the data."
   ]
  },
  {
   "cell_type": "code",
   "execution_count": null,
   "metadata": {
    "nbgrader": {
     "grade": false,
     "grade_id": "cell-9d9e0cf6218006bd",
     "locked": false,
     "schema_version": 3,
     "solution": false
    }
   },
   "outputs": [],
   "source": [
    "perplexities = [5, 20, 30, 50, 100]\n",
    "iters = [250, 1000, 3000]"
   ]
  },
  {
   "cell_type": "markdown",
   "metadata": {
    "deletable": false,
    "editable": false,
    "nbgrader": {
     "cell_type": "markdown",
     "checksum": "949291e27febaffa17f467883696208e",
     "grade": false,
     "grade_id": "cell-8ad1bcb75c936dd8",
     "locked": true,
     "schema_version": 3,
     "solution": false
    }
   },
   "source": [
    "Create an embedding using [t-SNE](https://scikit-learn.org/stable/modules/generated/sklearn.manifold.TSNE.html) using number of iterations (n), a random state of 0 and specified perplexity. Save that embedding to tsne_embedding.\n",
    "\n",
    "The next code block will take some time to run, you might want to come back to this later or continue to the next part while it runs."
   ]
  },
  {
   "cell_type": "code",
   "execution_count": null,
   "metadata": {
    "deletable": false,
    "nbgrader": {
     "cell_type": "code",
     "checksum": "52b82f15d28db2f3a324dd90483bf0d5",
     "grade": false,
     "grade_id": "cell-6496a65779b75c51",
     "locked": false,
     "schema_version": 3,
     "solution": true
    }
   },
   "outputs": [],
   "source": [
    "tsne_embeddings = []\n",
    "for perplexity in perplexities:\n",
    "    fig, axes = plt.subplots(nrows=1, ncols=len(iters), figsize=(16, 8), sharex=True, sharey=True)\n",
    "    for i,n in enumerate(iters):\n",
    "        # Create an embedding using t-SNE using number of iterations (n), a random state of 0 and specified perplexity\n",
    "        # Save that embedding to tsne_embedding\n",
    "        # YOUR CODE HERE\n",
    "        raise NotImplementedError()\n",
    "        axes[i].scatter(tsne_embedding[:, 0], tsne_embedding[:, 1], c=y_train)\n",
    "        axes[i].set_title(f\"t-SNE\\nPerplexity={perplexity}, {n} steps\")\n",
    "    tsne_embeddings.append(tsne_embedding)\n",
    "    plt.show()"
   ]
  },
  {
   "cell_type": "code",
   "execution_count": null,
   "metadata": {
    "deletable": false,
    "editable": false,
    "nbgrader": {
     "cell_type": "code",
     "checksum": "85fd73cc7ed53068672eebc122690493",
     "grade": true,
     "grade_id": "cell-3aaaac8e5f1d0e8d",
     "locked": true,
     "points": 5,
     "schema_version": 3,
     "solution": false
    }
   },
   "outputs": [],
   "source": [
    "assert tsne_embedding.shape == (455,2)\n",
    "assert len(tsne_embeddings) == 5"
   ]
  },
  {
   "cell_type": "markdown",
   "metadata": {},
   "source": [
    "Next, we'll calculate the [spectral embedding](https://scikit-learn.org/stable/modules/generated/sklearn.manifold.SpectralEmbedding.html#sklearn.manifold.SpectralEmbedding) for the data. You can use the [SpectralEmbedding](https://scikit-learn.org/stable/modules/generated/sklearn.manifold.SpectralEmbedding.html?highlight=spectralembedding) class from scikit-learn.\n",
    "\n",
    "> *Optional* - select an affinity to create the affinity matrix for the manifold graph. You can select a [pairwise distance method](https://docs.scipy.org/doc/scipy-0.14.0/reference/generated/scipy.spatial.distance.pdist.html) to call with [squareform](https://docs.scipy.org/doc/scipy-0.14.0/reference/generated/scipy.spatial.distance.squareform.html#scipy.spatial.distance.squareform). "
   ]
  },
  {
   "cell_type": "code",
   "execution_count": null,
   "metadata": {
    "deletable": false,
    "nbgrader": {
     "cell_type": "code",
     "checksum": "b1c966bfe5f59b1113e21cb3f31d49af",
     "grade": false,
     "grade_id": "cell-d493197be1a73a1b",
     "locked": false,
     "schema_version": 3,
     "solution": true
    }
   },
   "outputs": [],
   "source": [
    "# Now use Spectral Embeddings to calculate the embedding of the data\n",
    "# Save the embedding to spectral_embedding, and transformer to spectral\n",
    "# YOUR CODE HERE\n",
    "raise NotImplementedError()\n",
    "plt.scatter(spectral_embedding[:, 0], spectral_embedding[:, 1], c=y_train)\n",
    "plt.title(\"Spectral Embedding\")\n",
    "plt.show()"
   ]
  },
  {
   "cell_type": "code",
   "execution_count": null,
   "metadata": {
    "deletable": false,
    "editable": false,
    "nbgrader": {
     "cell_type": "code",
     "checksum": "97619252e43c7a2d75722587035cd757",
     "grade": true,
     "grade_id": "cell-1a4d67d3b8d11830",
     "locked": true,
     "points": 5,
     "schema_version": 3,
     "solution": false
    }
   },
   "outputs": [],
   "source": [
    "assert spectral\n",
    "assert spectral_embedding.shape == (455, 2)"
   ]
  },
  {
   "cell_type": "markdown",
   "metadata": {},
   "source": [
    "Next, we'll repeat this process with Linear Discriminant Analysis. You can use the [LinearDiscriminantAnalysis](https://scikit-learn.org/stable/modules/generated/sklearn.discriminant_analysis.LinearDiscriminantAnalysis.html) class from scikit-learn."
   ]
  },
  {
   "cell_type": "code",
   "execution_count": null,
   "metadata": {
    "deletable": false,
    "nbgrader": {
     "cell_type": "code",
     "checksum": "8504a61c97c95efa78774ce6b9f81d38",
     "grade": false,
     "grade_id": "cell-8146ee5ea848bb50",
     "locked": false,
     "schema_version": 3,
     "solution": true
    }
   },
   "outputs": [],
   "source": [
    "# Save the embedding to lda_embedding, and transformer to lda\n",
    "# YOUR CODE HERE\n",
    "raise NotImplementedError()\n",
    "plt.scatter(lda_embedding, [0]*len(lda_embedding), c=y_train)\n",
    "plt.yticks([])\n",
    "plt.title(\"LDA Embedding\")\n",
    "plt.show()"
   ]
  },
  {
   "cell_type": "code",
   "execution_count": null,
   "metadata": {
    "deletable": false,
    "editable": false,
    "nbgrader": {
     "cell_type": "code",
     "checksum": "614c8660eddd32b3c63ea73d15241762",
     "grade": true,
     "grade_id": "cell-103231412099ed08",
     "locked": true,
     "points": 5,
     "schema_version": 3,
     "solution": false
    }
   },
   "outputs": [],
   "source": [
    "assert lda\n",
    "assert lda_embedding.shape == (455, 1)"
   ]
  },
  {
   "cell_type": "markdown",
   "metadata": {
    "deletable": false,
    "editable": false,
    "nbgrader": {
     "cell_type": "markdown",
     "checksum": "875d0e9c5f68f1166d31637a0dc4f1c4",
     "grade": false,
     "grade_id": "cell-028c026d90dc774b",
     "locked": true,
     "schema_version": 3,
     "solution": false
    }
   },
   "source": [
    "We will now investigate how these methods perform on classification with a basic Linear SVM Classifier.\n",
    "\n",
    "Since t-SNE, and Spectral Embedding do not save a projection, we can not transform the test data using the trained model. You will need to concatenate both X_train and X_test then select the training and test rows from the embeddings after. The [guide on merging dataframes](http://pandas.pydata.org/pandas-docs/stable/merging.html) may be useful.\n"
   ]
  },
  {
   "cell_type": "code",
   "execution_count": null,
   "metadata": {
    "deletable": false,
    "nbgrader": {
     "cell_type": "code",
     "checksum": "541bb1cc2df977d0f77692e4176dc1f9",
     "grade": false,
     "grade_id": "cell-d2c099d0099575ce",
     "locked": false,
     "schema_version": 3,
     "solution": true
    }
   },
   "outputs": [],
   "source": [
    "# Select a perplexity for t-SNE and save it to selectedPerplexity\n",
    "# Create 2 embeddings `tsne_train` and `tsne_test` using a new TSNE model saved to `tsne_model`\n",
    "#        fitted and transforming the whole data then manually selecting each group\n",
    "# Create a LinearSVC model with default settings fitted to the training embeddings\n",
    "#       save it as tsne_svc\n",
    "# YOUR CODE HERE\n",
    "raise NotImplementedError()"
   ]
  },
  {
   "cell_type": "code",
   "execution_count": null,
   "metadata": {
    "deletable": false,
    "nbgrader": {
     "cell_type": "code",
     "checksum": "32def479a645ba3c44138811f578095e",
     "grade": false,
     "grade_id": "cell-44d03a408fee76c3",
     "locked": false,
     "schema_version": 3,
     "solution": true,
     "task": false
    }
   },
   "outputs": [],
   "source": [
    "# Create 2 embeddings `spectral_train` and `spectral_test` using a new Spectral Embedding model\n",
    "#        saved to `spectral_model` fitted and transforming the whole data then manually \n",
    "#        selecting each group.\n",
    "# Create a LinearSVC model with default settings fitted to the training embeddings\n",
    "#       save it as spectral_svc\n",
    "# YOUR CODE HERE\n",
    "raise NotImplementedError()"
   ]
  },
  {
   "cell_type": "code",
   "execution_count": null,
   "metadata": {
    "deletable": false,
    "nbgrader": {
     "cell_type": "code",
     "checksum": "c953d8aa0d4ba112510efecdbcdfce2f",
     "grade": false,
     "grade_id": "cell-c4ecd86394c06bf0",
     "locked": false,
     "schema_version": 3,
     "solution": true,
     "task": false
    }
   },
   "outputs": [],
   "source": [
    "# Create an embedding `lda_test` from the test data using the lda model you trained\n",
    "# Create a LinearSVC model with default settings fitted to the training embeddings\n",
    "#       save it as lda_svc\n",
    "# YOUR CODE HERE\n",
    "raise NotImplementedError()"
   ]
  },
  {
   "cell_type": "code",
   "execution_count": null,
   "metadata": {
    "deletable": false,
    "editable": false,
    "nbgrader": {
     "cell_type": "code",
     "checksum": "5c5e335b076eb8f4ad22138f87032ad8",
     "grade": true,
     "grade_id": "cell-376bd4b551a13434",
     "locked": true,
     "points": 5,
     "schema_version": 3,
     "solution": false
    }
   },
   "outputs": [],
   "source": [
    "assert selectedPerplexity >= 2\n",
    "assert selectedPerplexity <= 100\n",
    "assert tsne_model\n",
    "assert tsne_model.n_components == 2\n",
    "assert tsne_model.perplexity == selectedPerplexity\n",
    "assert tsne_model.n_iter >= 3000\n",
    "assert tsne_train.shape == (455,2)\n",
    "assert tsne_test.shape == (114,2)\n",
    "\n",
    "assert spectral_model\n",
    "assert spectral_model.n_components == 2\n",
    "assert spectral_train.shape == (455,2)\n",
    "assert spectral_test.shape == (114, 2)\n",
    "\n",
    "assert lda_test.shape == (114, 1)\n",
    "\n",
    "assert tsne_svc\n",
    "assert tsne_svc.coef_.shape[1] == 2\n",
    "assert spectral_svc\n",
    "assert spectral_svc.coef_.shape[1] == 2\n",
    "assert lda_svc\n",
    "assert lda_svc.coef_.shape[1] == 1"
   ]
  },
  {
   "cell_type": "code",
   "execution_count": null,
   "metadata": {
    "nbgrader": {
     "grade": false,
     "grade_id": "cell-a03cb4bdb0d536d6",
     "locked": false,
     "schema_version": 3,
     "solution": false
    }
   },
   "outputs": [],
   "source": [
    "print(f\"The t-SNE embedding + Linear SVM scores an F-1 = {f1_score(y_test, tsne_svc.predict(tsne_test)):.3f}.\")\n",
    "print(f\"The Spectral Embedding + Linear SVM scores an F-1 = {f1_score(y_test, spectral_svc.predict(spectral_test)):.3f}.\")\n",
    "print(f\"The LDA + Linear SVM scores an F-1 = {f1_score(y_test, lda_svc.predict(lda_test)):.3f}.\")"
   ]
  },
  {
   "cell_type": "markdown",
   "metadata": {
    "deletable": false,
    "editable": false,
    "nbgrader": {
     "cell_type": "markdown",
     "checksum": "fede1654fae158fbeae4beb0b28c3465",
     "grade": false,
     "grade_id": "cell-135741228f248a28",
     "locked": true,
     "schema_version": 3,
     "solution": false
    }
   },
   "source": [
    "Can you think of why we get these scores for the respective models? What happens if we train the same Linear SVM model on all the features?"
   ]
  },
  {
   "cell_type": "code",
   "execution_count": null,
   "metadata": {
    "nbgrader": {
     "grade": false,
     "grade_id": "cell-2b05fd101b07b7de",
     "locked": false,
     "schema_version": 3,
     "solution": false
    }
   },
   "outputs": [],
   "source": [
    "all_feat_score = f1_score(y_test, LinearSVC().fit(X_train, y_train).predict(X_test))\n",
    "print(f\"The Linear SVM with all features scores an F-1 = {all_feat_score:.3f}.\")"
   ]
  },
  {
   "cell_type": "markdown",
   "metadata": {
    "deletable": false,
    "editable": false,
    "nbgrader": {
     "cell_type": "markdown",
     "checksum": "b30a58a2933a3c7ea21a4d5b2857fda3",
     "grade": false,
     "grade_id": "cell-890fee6a3c488958",
     "locked": true,
     "schema_version": 3,
     "solution": false
    }
   },
   "source": [
    "## Feedback"
   ]
  },
  {
   "cell_type": "code",
   "execution_count": null,
   "metadata": {
    "deletable": false,
    "nbgrader": {
     "cell_type": "code",
     "checksum": "06e086d1373c2070bdeb08d191b23f2b",
     "grade": false,
     "grade_id": "cell-5f0e6260ae297411",
     "locked": false,
     "schema_version": 3,
     "solution": true
    }
   },
   "outputs": [],
   "source": [
    "def feedback():\n",
    "    \"\"\"Provide feedback on the contents of this exercise\n",
    "    \n",
    "    Returns:\n",
    "        string\n",
    "    \"\"\"\n",
    "    # YOUR CODE HERE\n",
    "    raise NotImplementedError()"
   ]
  },
  {
   "cell_type": "code",
   "execution_count": null,
   "metadata": {
    "deletable": false,
    "editable": false,
    "nbgrader": {
     "cell_type": "code",
     "checksum": "7573fed9264fc4627142fae8322f12d4",
     "grade": true,
     "grade_id": "cell-0b512eef2429477f",
     "locked": true,
     "points": 0,
     "schema_version": 3,
     "solution": false
    }
   },
   "outputs": [],
   "source": []
  }
 ],
 "metadata": {
  "kernelspec": {
   "display_name": "Python 3",
   "language": "python",
   "name": "python3"
  },
  "language_info": {
   "codemirror_mode": {
    "name": "ipython",
    "version": 3
   },
   "file_extension": ".py",
   "mimetype": "text/x-python",
   "name": "python",
   "nbconvert_exporter": "python",
   "pygments_lexer": "ipython3",
   "version": "3.7.4"
  }
 },
 "nbformat": 4,
 "nbformat_minor": 2
}
