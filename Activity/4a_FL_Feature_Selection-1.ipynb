{
 "cells": [
  {
   "cell_type": "markdown",
   "metadata": {},
   "source": [
    "## CSCI 470 Activities and Case Studies\n",
    "\n",
    "1. For all activities, you are allowed to collaborate with a partner. \n",
    "1. For case studies, you should work individually and are **not** allowed to collaborate.\n",
    "\n",
    "By filling out this notebook and submitting it, you acknowledge that you are aware of the above policies and are agreeing to comply with them."
   ]
  },
  {
   "cell_type": "markdown",
   "metadata": {},
   "source": [
    "Some considerations with regard to how these notebooks will be graded:\n",
    "\n",
    "1. Cells in which \"# YOUR CODE HERE\" is found are the cells where your graded code should be written.\n",
    "2. In order to test out or debug your code you may also create notebook cells or edit existing notebook cells other than \"# YOUR CODE HERE\". We actually highly recommend you do so to gain a better understanding of what is happening. However, during grading, **these changes are ignored**. \n",
    "2. You must ensure that all your code for the particular task is available in the cells that say \"# YOUR CODE HERE\"\n",
    "3. Every cell that says \"# YOUR CODE HERE\" is followed by a \"raise NotImplementedError\". You need to remove that line. During grading, if an error occurs then you will not receive points for your work in that section.\n",
    "4. If your code passes the \"assert\" statements, then no output will result. If your code fails the \"assert\" statements, you will get an \"AssertionError\". Getting an assertion error means you will not receive points for that particular task.\n",
    "5. If you edit the \"assert\" statements to make your code pass, they will still fail when they are graded since the \"assert\" statements will revert to the original. Make sure you don't edit the assert statements.\n",
    "6. We may sometimes have \"hidden\" tests for grading. This means that passing the visible \"assert\" statements is not sufficient. The \"assert\" statements are there as a guide but you need to make sure you understand what you're required to do and ensure that you are doing it correctly. Passing the visible tests is necessary but not sufficient to get the grade for that cell.\n",
    "7. When you are asked to define a function, make sure you **don't** use any variables outside of the parameters passed to the function. You can think of the parameters being passed to the function as a hint. Make sure you're using all of those variables.\n",
    "8. Finally, **make sure you run \"Kernel > Restart and Run All\"** and pass all the asserts before submitting. If you don't restart the kernel, there may be some code that you ran and deleted that is still being used and that was why your asserts were passing."
   ]
  },
  {
   "cell_type": "markdown",
   "metadata": {
    "deletable": false,
    "editable": false,
    "id": "T_2JoQv4f-GN",
    "nbgrader": {
     "cell_type": "markdown",
     "checksum": "7549448ad2c14f6dd4289a8ed77b0c6c",
     "grade": false,
     "grade_id": "cell-9aa804aaaa8f9bca",
     "locked": true,
     "schema_version": 3,
     "solution": false
    }
   },
   "source": [
    "# Feature Learning\n",
    "\n",
    "In this exercise we will run feature learning methods on a dataset to identify the key features to use for predicting a target within it."
   ]
  },
  {
   "cell_type": "code",
   "execution_count": null,
   "metadata": {
    "executionInfo": {
     "elapsed": 1946,
     "status": "ok",
     "timestamp": 1601496122865,
     "user": {
      "displayName": "Matthew Roos",
      "photoUrl": "https://lh3.googleusercontent.com/a-/AOh14GiyeRFdVCLS_PQVkktJp66dmuu4m19N-Ck1xi8AIA=s64",
      "userId": "16478366312534994918"
     },
     "user_tz": 360
    },
    "id": "Edm3DJnuf-GP",
    "nbgrader": {
     "grade": false,
     "grade_id": "cell-675ea75b33420748",
     "locked": false,
     "schema_version": 3,
     "solution": false
    }
   },
   "outputs": [],
   "source": [
    "import numpy as np\n",
    "import pandas as pd\n",
    "import matplotlib\n",
    "import matplotlib.pyplot as plt\n",
    "import sklearn as sk\n",
    "\n",
    "plt.style.use(\"ggplot\")"
   ]
  },
  {
   "cell_type": "code",
   "execution_count": null,
   "metadata": {
    "executionInfo": {
     "elapsed": 2336,
     "status": "ok",
     "timestamp": 1601496123261,
     "user": {
      "displayName": "Matthew Roos",
      "photoUrl": "https://lh3.googleusercontent.com/a-/AOh14GiyeRFdVCLS_PQVkktJp66dmuu4m19N-Ck1xi8AIA=s64",
      "userId": "16478366312534994918"
     },
     "user_tz": 360
    },
    "id": "9ABNy9yqf-GX",
    "nbgrader": {
     "grade": false,
     "grade_id": "cell-dcc937bc7b3f119b",
     "locked": false,
     "schema_version": 3,
     "solution": false
    }
   },
   "outputs": [],
   "source": [
    "from sklearn.datasets import fetch_california_housing\n",
    "from sklearn.model_selection import train_test_split, GridSearchCV\n",
    "from sklearn.feature_selection import SelectKBest, mutual_info_regression, RFE\n",
    "from sklearn.linear_model import LinearRegression, LassoCV\n",
    "from sklearn.decomposition import PCA\n",
    "from sklearn.metrics import mean_squared_error\n",
    "from sklearn.preprocessing import StandardScaler"
   ]
  },
  {
   "cell_type": "markdown",
   "metadata": {
    "deletable": false,
    "editable": false,
    "id": "CrtnuM-7f-Gf",
    "nbgrader": {
     "cell_type": "markdown",
     "checksum": "efaa5584418a51fb0bb196ecd64a09dc",
     "grade": false,
     "grade_id": "cell-700c5cdb1419069b",
     "locked": true,
     "schema_version": 3,
     "solution": false
    }
   },
   "source": [
    "The data we'll be working with is the [California housing dataset](https://scikit-learn.org/stable/datasets/real_world.html#california-housing-dataset)."
   ]
  },
  {
   "cell_type": "code",
   "execution_count": null,
   "metadata": {
    "executionInfo": {
     "elapsed": 2331,
     "status": "ok",
     "timestamp": 1601496123261,
     "user": {
      "displayName": "Matthew Roos",
      "photoUrl": "https://lh3.googleusercontent.com/a-/AOh14GiyeRFdVCLS_PQVkktJp66dmuu4m19N-Ck1xi8AIA=s64",
      "userId": "16478366312534994918"
     },
     "user_tz": 360
    },
    "id": "-KDRnvGXf-Gf",
    "nbgrader": {
     "grade": false,
     "grade_id": "cell-5ec1b36cba18af4d",
     "locked": false,
     "schema_version": 3,
     "solution": false
    }
   },
   "outputs": [],
   "source": [
    "house_data = fetch_california_housing()"
   ]
  },
  {
   "cell_type": "code",
   "execution_count": null,
   "metadata": {
    "colab": {
     "base_uri": "https://localhost:8080/",
     "height": 729
    },
    "executionInfo": {
     "elapsed": 2326,
     "status": "ok",
     "timestamp": 1601496123262,
     "user": {
      "displayName": "Matthew Roos",
      "photoUrl": "https://lh3.googleusercontent.com/a-/AOh14GiyeRFdVCLS_PQVkktJp66dmuu4m19N-Ck1xi8AIA=s64",
      "userId": "16478366312534994918"
     },
     "user_tz": 360
    },
    "id": "DQDhiDQsf-Gk",
    "outputId": "bf852c02-e1b8-4b70-a444-40584bb9bd1f"
   },
   "outputs": [],
   "source": [
    "print(house_data[\"DESCR\"])"
   ]
  },
  {
   "cell_type": "markdown",
   "metadata": {
    "id": "brdgZXskf-Gp"
   },
   "source": [
    "By reading the above information about the data, which features do you intuit meaningful for predicting the target? Which are not meaningful?"
   ]
  },
  {
   "cell_type": "code",
   "execution_count": null,
   "metadata": {
    "executionInfo": {
     "elapsed": 2320,
     "status": "ok",
     "timestamp": 1601496123262,
     "user": {
      "displayName": "Matthew Roos",
      "photoUrl": "https://lh3.googleusercontent.com/a-/AOh14GiyeRFdVCLS_PQVkktJp66dmuu4m19N-Ck1xi8AIA=s64",
      "userId": "16478366312534994918"
     },
     "user_tz": 360
    },
    "id": "xP0XQHKFf-Gq",
    "nbgrader": {
     "grade": false,
     "grade_id": "cell-f7103f854887d832",
     "locked": false,
     "schema_version": 3,
     "solution": false
    }
   },
   "outputs": [],
   "source": [
    "house_features = pd.DataFrame(house_data[\"data\"], columns=house_data[\"feature_names\"])\n",
    "house_prices = pd.Series(house_data[\"target\"])"
   ]
  },
  {
   "cell_type": "code",
   "execution_count": null,
   "metadata": {
    "colab": {
     "base_uri": "https://localhost:8080/",
     "height": 206
    },
    "executionInfo": {
     "elapsed": 2315,
     "status": "ok",
     "timestamp": 1601496123264,
     "user": {
      "displayName": "Matthew Roos",
      "photoUrl": "https://lh3.googleusercontent.com/a-/AOh14GiyeRFdVCLS_PQVkktJp66dmuu4m19N-Ck1xi8AIA=s64",
      "userId": "16478366312534994918"
     },
     "user_tz": 360
    },
    "id": "UeLpqrdbf-Gv",
    "nbgrader": {
     "grade": false,
     "grade_id": "cell-10562d702c478147",
     "locked": false,
     "schema_version": 3,
     "solution": false
    },
    "outputId": "f6fbe77f-365d-4220-9423-16c698058b34"
   },
   "outputs": [],
   "source": [
    "house_features.head()"
   ]
  },
  {
   "cell_type": "code",
   "execution_count": null,
   "metadata": {
    "colab": {
     "base_uri": "https://localhost:8080/",
     "height": 300
    },
    "executionInfo": {
     "elapsed": 2307,
     "status": "ok",
     "timestamp": 1601496123264,
     "user": {
      "displayName": "Matthew Roos",
      "photoUrl": "https://lh3.googleusercontent.com/a-/AOh14GiyeRFdVCLS_PQVkktJp66dmuu4m19N-Ck1xi8AIA=s64",
      "userId": "16478366312534994918"
     },
     "user_tz": 360
    },
    "id": "losFXUUkf-Gz",
    "nbgrader": {
     "grade": false,
     "grade_id": "cell-f287bd15a4b23bc5",
     "locked": false,
     "schema_version": 3,
     "solution": false
    },
    "outputId": "4bc2daa3-1f23-4292-d901-6110223bb93b"
   },
   "outputs": [],
   "source": [
    "house_features.describe()"
   ]
  },
  {
   "cell_type": "code",
   "execution_count": null,
   "metadata": {
    "colab": {
     "base_uri": "https://localhost:8080/",
     "height": 121
    },
    "executionInfo": {
     "elapsed": 2302,
     "status": "ok",
     "timestamp": 1601496123266,
     "user": {
      "displayName": "Matthew Roos",
      "photoUrl": "https://lh3.googleusercontent.com/a-/AOh14GiyeRFdVCLS_PQVkktJp66dmuu4m19N-Ck1xi8AIA=s64",
      "userId": "16478366312534994918"
     },
     "user_tz": 360
    },
    "id": "yM_VmB22f-G2",
    "nbgrader": {
     "grade": false,
     "grade_id": "cell-399de11feef27c9f",
     "locked": false,
     "schema_version": 3,
     "solution": false
    },
    "outputId": "8980ba7b-3998-4598-d745-77df7da6fe21"
   },
   "outputs": [],
   "source": [
    "house_prices.head()"
   ]
  },
  {
   "cell_type": "code",
   "execution_count": null,
   "metadata": {
    "colab": {
     "base_uri": "https://localhost:8080/",
     "height": 173
    },
    "executionInfo": {
     "elapsed": 2294,
     "status": "ok",
     "timestamp": 1601496123266,
     "user": {
      "displayName": "Matthew Roos",
      "photoUrl": "https://lh3.googleusercontent.com/a-/AOh14GiyeRFdVCLS_PQVkktJp66dmuu4m19N-Ck1xi8AIA=s64",
      "userId": "16478366312534994918"
     },
     "user_tz": 360
    },
    "id": "hkg2UDIuf-G6",
    "nbgrader": {
     "grade": false,
     "grade_id": "cell-20fdd83710664f14",
     "locked": false,
     "schema_version": 3,
     "solution": false
    },
    "outputId": "2501c3f9-eaa9-4adf-b169-77c1a4f27f5d"
   },
   "outputs": [],
   "source": [
    "house_prices.describe()"
   ]
  },
  {
   "cell_type": "markdown",
   "metadata": {},
   "source": [
    "First, we'll [standardize](https://scikit-learn.org/stable/modules/preprocessing.html#standardization-or-mean-removal-and-variance-scaling) our data to be used by our model. We'll use the [StandardScaler](https://scikit-learn.org/stable/modules/generated/sklearn.preprocessing.StandardScaler.html#sklearn.preprocessing.StandardScaler) which just adjusts the mean to be 0 and scales the variance of the data.\n",
    "\n",
    "This class is a scikit-learn transformer which follows a two phase process:\n",
    "1. First it fits to the data to learn something (in this case how to scale the data)\n",
    "1. Then it transforms any desired dataset based on the scale it learned.\n",
    "\n",
    "We also have a helper function that is `fit_transform` that allows us to do both processes at the same time.\n",
    "\n",
    "Now since we only ever want to fit our model once, we should never use fit_transform more than once. We can use `fit_transform` on training data but then just `transform` the test data."
   ]
  },
  {
   "cell_type": "code",
   "execution_count": null,
   "metadata": {
    "executionInfo": {
     "elapsed": 2291,
     "status": "ok",
     "timestamp": 1601496123266,
     "user": {
      "displayName": "Matthew Roos",
      "photoUrl": "https://lh3.googleusercontent.com/a-/AOh14GiyeRFdVCLS_PQVkktJp66dmuu4m19N-Ck1xi8AIA=s64",
      "userId": "16478366312534994918"
     },
     "user_tz": 360
    },
    "id": "d2_XRXYtf-G_",
    "nbgrader": {
     "grade": false,
     "grade_id": "cell-74fc4b2531172f7d",
     "locked": false,
     "schema_version": 3,
     "solution": false
    }
   },
   "outputs": [],
   "source": [
    "X_train, X_test, y_train, y_test = train_test_split(house_features, house_prices, test_size=0.2, random_state=0)"
   ]
  },
  {
   "cell_type": "code",
   "execution_count": null,
   "metadata": {
    "deletable": false,
    "nbgrader": {
     "cell_type": "code",
     "checksum": "55c0fb6df206079dbe5e4e8f6e1e72ba",
     "grade": false,
     "grade_id": "cell-bdaabddc6717cfff",
     "locked": false,
     "schema_version": 3,
     "solution": true,
     "task": false
    }
   },
   "outputs": [],
   "source": [
    "# Use a StandardScaler to standardize the house_features.\n",
    "# Update (overwrite) the older values of X_train and X_test with the\n",
    "# scaled values that are output by the StandardScaler object.\n",
    "# YOUR CODE HERE\n",
    "raise NotImplementedError()"
   ]
  },
  {
   "cell_type": "code",
   "execution_count": null,
   "metadata": {},
   "outputs": [],
   "source": [
    "X_test.mean(axis = 0)"
   ]
  },
  {
   "cell_type": "code",
   "execution_count": null,
   "metadata": {
    "deletable": false,
    "editable": false,
    "nbgrader": {
     "cell_type": "code",
     "checksum": "58ba9c64c9e90cb789bbe2bbd706ee2c",
     "grade": true,
     "grade_id": "cell-4046c94b9fe9f389",
     "locked": true,
     "points": 5,
     "schema_version": 3,
     "solution": false,
     "task": false
    }
   },
   "outputs": [],
   "source": [
    "assert np.all(X_train.mean(axis=0)< 0.0000000001)\n",
    "\n",
    "# Note that if you do a fit_transform on the test data you did that part wrong\n",
    "assert np.all(np.abs(X_test.mean(axis=0)) > 0.0000001)\n",
    "assert np.all(np.abs(X_test.mean(axis=0)) < 0.04) "
   ]
  },
  {
   "cell_type": "markdown",
   "metadata": {
    "deletable": false,
    "editable": false,
    "id": "4ove3H2of-G-",
    "nbgrader": {
     "cell_type": "markdown",
     "checksum": "939ac14d8703e823f1c6cd491e47a24c",
     "grade": false,
     "grade_id": "cell-a6d14e9cfadf9cbe",
     "locked": true,
     "schema_version": 3,
     "solution": false
    }
   },
   "source": [
    "Next, we'll split our data in order to follow the process we had outlined several lectures ago for effectively evaluating supervised learning problems."
   ]
  },
  {
   "cell_type": "markdown",
   "metadata": {
    "deletable": false,
    "editable": false,
    "id": "0e070l9Pf-HD",
    "nbgrader": {
     "cell_type": "markdown",
     "checksum": "4e3db2f09632243d29c1229462a3c09a",
     "grade": false,
     "grade_id": "cell-73f4d23f398ef242",
     "locked": true,
     "schema_version": 3,
     "solution": false
    }
   },
   "source": [
    "## Filter Feature Selection\n",
    "\n",
    "Select the best features based on [mutual information score](http://scikit-learn.org/stable/modules/generated/sklearn.feature_selection.mutual_info_regression.html#sklearn.feature_selection.mutual_info_regression) from the __training data__, then transform X_train and X_test into the new subset of selected features. See [SelectKBest](http://scikit-learn.org/stable/modules/generated/sklearn.feature_selection.SelectKBest.html#sklearn.feature_selection.SelectKBest)."
   ]
  },
  {
   "cell_type": "code",
   "execution_count": null,
   "metadata": {
    "executionInfo": {
     "elapsed": 2286,
     "status": "ok",
     "timestamp": 1601496123267,
     "user": {
      "displayName": "Matthew Roos",
      "photoUrl": "https://lh3.googleusercontent.com/a-/AOh14GiyeRFdVCLS_PQVkktJp66dmuu4m19N-Ck1xi8AIA=s64",
      "userId": "16478366312534994918"
     },
     "user_tz": 360
    },
    "id": "w-bMPOGrf-HE",
    "nbgrader": {
     "grade": false,
     "grade_id": "cell-07907cf1d043fed9",
     "locked": false,
     "schema_version": 3,
     "solution": false
    }
   },
   "outputs": [],
   "source": [
    "# We will select the best k features from all feature selection methods\n",
    "k = 4"
   ]
  },
  {
   "cell_type": "code",
   "execution_count": null,
   "metadata": {
    "deletable": false,
    "executionInfo": {
     "elapsed": 3382,
     "status": "ok",
     "timestamp": 1601496124367,
     "user": {
      "displayName": "Matthew Roos",
      "photoUrl": "https://lh3.googleusercontent.com/a-/AOh14GiyeRFdVCLS_PQVkktJp66dmuu4m19N-Ck1xi8AIA=s64",
      "userId": "16478366312534994918"
     },
     "user_tz": 360
    },
    "id": "AEXYrhV9f-HI",
    "nbgrader": {
     "cell_type": "code",
     "checksum": "5c2569dd0da2accf380d75734b15fecb",
     "grade": false,
     "grade_id": "cell-279e39610c47c8f8",
     "locked": false,
     "schema_version": 3,
     "solution": true
    }
   },
   "outputs": [],
   "source": [
    "# Save the transformer you use (fit) as \"mi_transformer\".\n",
    "# Save the transformed set of features as as \"mi_X_train\" and \"mi_X_test\".\n",
    "# YOUR CODE HERE\n",
    "raise NotImplementedError()"
   ]
  },
  {
   "cell_type": "code",
   "execution_count": null,
   "metadata": {
    "colab": {
     "base_uri": "https://localhost:8080/",
     "height": 156
    },
    "executionInfo": {
     "elapsed": 3377,
     "status": "ok",
     "timestamp": 1601496124368,
     "user": {
      "displayName": "Matthew Roos",
      "photoUrl": "https://lh3.googleusercontent.com/a-/AOh14GiyeRFdVCLS_PQVkktJp66dmuu4m19N-Ck1xi8AIA=s64",
      "userId": "16478366312534994918"
     },
     "user_tz": 360
    },
    "id": "yusvojeGf-HM",
    "nbgrader": {
     "grade": false,
     "grade_id": "cell-377847abf96c374c",
     "locked": false,
     "schema_version": 3,
     "solution": false
    },
    "outputId": "ac53942d-4bf2-4dce-afcd-c782abceb331"
   },
   "outputs": [],
   "source": [
    "for feature, importance in zip(house_features.columns, mi_transformer.scores_):\n",
    "    print(f\"The MI score for {feature} is {importance}\")"
   ]
  },
  {
   "cell_type": "markdown",
   "metadata": {
    "id": "_MzRxjDqf-HP"
   },
   "source": [
    "Do these values match what you expected? What are the most important features to use for predicting house prices?"
   ]
  },
  {
   "cell_type": "code",
   "execution_count": null,
   "metadata": {
    "deletable": false,
    "editable": false,
    "executionInfo": {
     "elapsed": 3372,
     "status": "ok",
     "timestamp": 1601496124368,
     "user": {
      "displayName": "Matthew Roos",
      "photoUrl": "https://lh3.googleusercontent.com/a-/AOh14GiyeRFdVCLS_PQVkktJp66dmuu4m19N-Ck1xi8AIA=s64",
      "userId": "16478366312534994918"
     },
     "user_tz": 360
    },
    "id": "YHu9-O3Sf-HQ",
    "nbgrader": {
     "cell_type": "code",
     "checksum": "802f9b55b98b872ea4be999d1459edc7",
     "grade": true,
     "grade_id": "cell-d7ebf063a0a3ce74",
     "locked": true,
     "points": 5,
     "schema_version": 3,
     "solution": false
    }
   },
   "outputs": [],
   "source": [
    "assert mi_transformer.k == k\n",
    "assert isinstance(mi_transformer, SelectKBest)\n",
    "assert len(mi_transformer.scores_) == 8\n",
    "assert mi_X_train.shape == (16512, k)\n",
    "assert mi_X_test.shape == (4128, k)"
   ]
  },
  {
   "cell_type": "markdown",
   "metadata": {
    "deletable": false,
    "editable": false,
    "id": "431Iy64bf-HS",
    "nbgrader": {
     "cell_type": "markdown",
     "checksum": "b201dbd371d118f334add32ccf2a7cc9",
     "grade": false,
     "grade_id": "cell-1c4269050710987f",
     "locked": true,
     "schema_version": 3,
     "solution": false
    }
   },
   "source": [
    "Since the focus in this exercise is on the feature learning and not on the supervised learning portion, we will use a simple estimator (linear regression) for the model training portions."
   ]
  },
  {
   "cell_type": "code",
   "execution_count": null,
   "metadata": {
    "executionInfo": {
     "elapsed": 3368,
     "status": "ok",
     "timestamp": 1601496124368,
     "user": {
      "displayName": "Matthew Roos",
      "photoUrl": "https://lh3.googleusercontent.com/a-/AOh14GiyeRFdVCLS_PQVkktJp66dmuu4m19N-Ck1xi8AIA=s64",
      "userId": "16478366312534994918"
     },
     "user_tz": 360
    },
    "id": "XsPZB6Xaf-HT",
    "nbgrader": {
     "grade": false,
     "grade_id": "cell-26d261acabd92043",
     "locked": false,
     "schema_version": 3,
     "solution": false
    }
   },
   "outputs": [],
   "source": [
    "miEst = LinearRegression().fit(mi_X_train, y_train)"
   ]
  },
  {
   "cell_type": "code",
   "execution_count": null,
   "metadata": {
    "colab": {
     "base_uri": "https://localhost:8080/",
     "height": 52
    },
    "executionInfo": {
     "elapsed": 3365,
     "status": "ok",
     "timestamp": 1601496124370,
     "user": {
      "displayName": "Matthew Roos",
      "photoUrl": "https://lh3.googleusercontent.com/a-/AOh14GiyeRFdVCLS_PQVkktJp66dmuu4m19N-Ck1xi8AIA=s64",
      "userId": "16478366312534994918"
     },
     "user_tz": 360
    },
    "id": "0SMSOZUlf-HW",
    "nbgrader": {
     "grade": false,
     "grade_id": "cell-509cc8db3043cda3",
     "locked": false,
     "schema_version": 3,
     "solution": false
    },
    "outputId": "9ba9ae37-c1bf-4332-f2a6-d0a67163ee8a"
   },
   "outputs": [],
   "source": [
    "print(f\"The mean squared error when training on the MI selected features is {mean_squared_error(y_train, miEst.predict(mi_X_train))}.\")\n",
    "print(f\"When testing on the test data, the mean squared error is {mean_squared_error(y_test, miEst.predict(mi_X_test))}\")"
   ]
  },
  {
   "cell_type": "markdown",
   "metadata": {
    "deletable": false,
    "editable": false,
    "id": "_k91dhOBf-HZ",
    "nbgrader": {
     "cell_type": "markdown",
     "checksum": "fd24db1e64710f55f6f4cdaa0897bb30",
     "grade": false,
     "grade_id": "cell-188bc386a321fe4a",
     "locked": true,
     "schema_version": 3,
     "solution": false
    }
   },
   "source": [
    "## Wrapper Feature Selection\n",
    "\n",
    "Now try using [recursive feature elimination](http://scikit-learn.org/stable/modules/generated/sklearn.feature_selection.RFE.html) to select the 4 features we will use instead.\n",
    "\n",
    "Note that after calling the ```.fit()``` method of the RFE object, a Boolean array that indicates which features are selected is stored as ```rfe_transformer.support_```."
   ]
  },
  {
   "cell_type": "code",
   "execution_count": null,
   "metadata": {
    "deletable": false,
    "executionInfo": {
     "elapsed": 3360,
     "status": "ok",
     "timestamp": 1601496124370,
     "user": {
      "displayName": "Matthew Roos",
      "photoUrl": "https://lh3.googleusercontent.com/a-/AOh14GiyeRFdVCLS_PQVkktJp66dmuu4m19N-Ck1xi8AIA=s64",
      "userId": "16478366312534994918"
     },
     "user_tz": 360
    },
    "id": "x0y0Nr_Rf-Ha",
    "nbgrader": {
     "cell_type": "code",
     "checksum": "048a6ac9821645c7f8fd98a5bdcb4d3f",
     "grade": false,
     "grade_id": "cell-55f80656b8a4988d",
     "locked": false,
     "schema_version": 3,
     "solution": true
    }
   },
   "outputs": [],
   "source": [
    "# Use an RFE object to determine the k features to select from X_train using a step of 2\n",
    "# Save the rfe object as rfe_transformer\n",
    "# Create rfe_X_train and rfe_X_test as the updated features based on the RFE output\n",
    "\n",
    "rfeEst = LinearRegression()\n",
    "\n",
    "# YOUR CODE HERE\n",
    "raise NotImplementedError()"
   ]
  },
  {
   "cell_type": "code",
   "execution_count": null,
   "metadata": {
    "deletable": false,
    "editable": false,
    "executionInfo": {
     "elapsed": 3358,
     "status": "ok",
     "timestamp": 1601496124371,
     "user": {
      "displayName": "Matthew Roos",
      "photoUrl": "https://lh3.googleusercontent.com/a-/AOh14GiyeRFdVCLS_PQVkktJp66dmuu4m19N-Ck1xi8AIA=s64",
      "userId": "16478366312534994918"
     },
     "user_tz": 360
    },
    "id": "KJx8KNo_f-Hc",
    "nbgrader": {
     "cell_type": "code",
     "checksum": "cfcc2b405c8895bd3191c9725173824d",
     "grade": true,
     "grade_id": "cell-b331e2be0d0e31be",
     "locked": true,
     "points": 5,
     "schema_version": 3,
     "solution": false
    }
   },
   "outputs": [],
   "source": [
    "assert isinstance(rfe_transformer, RFE)\n",
    "assert rfe_transformer.step == 2\n",
    "assert len(rfe_transformer.support_) == 8\n",
    "assert rfe_X_train.shape == (16512, k)\n",
    "assert rfe_X_test.shape == (4128, k)"
   ]
  },
  {
   "cell_type": "code",
   "execution_count": null,
   "metadata": {
    "executionInfo": {
     "elapsed": 3355,
     "status": "ok",
     "timestamp": 1601496124371,
     "user": {
      "displayName": "Matthew Roos",
      "photoUrl": "https://lh3.googleusercontent.com/a-/AOh14GiyeRFdVCLS_PQVkktJp66dmuu4m19N-Ck1xi8AIA=s64",
      "userId": "16478366312534994918"
     },
     "user_tz": 360
    },
    "id": "xo3GXcnVf-Hf",
    "nbgrader": {
     "grade": false,
     "grade_id": "cell-8b5e64094fc56786",
     "locked": false,
     "schema_version": 3,
     "solution": false
    }
   },
   "outputs": [],
   "source": [
    "rfeEst = LinearRegression().fit(rfe_X_train, y_train)"
   ]
  },
  {
   "cell_type": "code",
   "execution_count": null,
   "metadata": {
    "colab": {
     "base_uri": "https://localhost:8080/",
     "height": 52
    },
    "executionInfo": {
     "elapsed": 3350,
     "status": "ok",
     "timestamp": 1601496124372,
     "user": {
      "displayName": "Matthew Roos",
      "photoUrl": "https://lh3.googleusercontent.com/a-/AOh14GiyeRFdVCLS_PQVkktJp66dmuu4m19N-Ck1xi8AIA=s64",
      "userId": "16478366312534994918"
     },
     "user_tz": 360
    },
    "id": "KcxNKz7wf-Hi",
    "nbgrader": {
     "grade": false,
     "grade_id": "cell-23d00cc293b154f8",
     "locked": false,
     "schema_version": 3,
     "solution": false
    },
    "outputId": "70a03a3d-4ae2-4d97-d0b0-ec592f45650f"
   },
   "outputs": [],
   "source": [
    "print(f\"The mean squared error when training on the RFE selected features is {mean_squared_error(y_train, rfeEst.predict(rfe_X_train))}.\")\n",
    "print(f\"When testing on the test data, the mean squared error is {mean_squared_error(y_test, rfeEst.predict(rfe_X_test))}\")"
   ]
  },
  {
   "cell_type": "code",
   "execution_count": null,
   "metadata": {},
   "outputs": [],
   "source": [
    "print(f\"The most important features as determined by RFE were {list(house_features.columns[rfe_transformer.support_])}\")"
   ]
  },
  {
   "cell_type": "markdown",
   "metadata": {
    "deletable": false,
    "editable": false,
    "id": "MyVVZaMyf-Hl",
    "nbgrader": {
     "cell_type": "markdown",
     "checksum": "2fab1553b908cc0d0f9f47e5de40bfb9",
     "grade": false,
     "grade_id": "cell-b851aa52ef728d9f",
     "locked": true,
     "schema_version": 3,
     "solution": false
    }
   },
   "source": [
    "## Embedded Methods\n",
    "\n",
    "For the embedded methods feature selection example, we will use Lasso. For this task you should use [LassoCV](http://scikit-learn.org/stable/modules/generated/sklearn.linear_model.LassoCV.html#sklearn.linear_model.LassoCV) and **not** [Lasso](http://scikit-learn.org/stable/modules/generated/sklearn.linear_model.Lasso.html) so that it trains with various values for alpha.\n",
    "\n",
    "Since this is an embedded method, the feature selection will occur directly in the model."
   ]
  },
  {
   "cell_type": "code",
   "execution_count": null,
   "metadata": {
    "colab": {
     "base_uri": "https://localhost:8080/",
     "height": 86
    },
    "deletable": false,
    "executionInfo": {
     "elapsed": 3345,
     "status": "ok",
     "timestamp": 1601496124373,
     "user": {
      "displayName": "Matthew Roos",
      "photoUrl": "https://lh3.googleusercontent.com/a-/AOh14GiyeRFdVCLS_PQVkktJp66dmuu4m19N-Ck1xi8AIA=s64",
      "userId": "16478366312534994918"
     },
     "user_tz": 360
    },
    "id": "dGFxLkbhf-Hm",
    "nbgrader": {
     "cell_type": "code",
     "checksum": "20640debdf468232227b931e9ac4661a",
     "grade": false,
     "grade_id": "cell-1cedfcb1fb61f7ff",
     "locked": false,
     "schema_version": 3,
     "solution": true
    },
    "outputId": "08103c64-df08-4804-f682-2b6e24d6a6f2"
   },
   "outputs": [],
   "source": [
    "# Create a LassoCV model trained with 10 alphas and save it to lassoEst\n",
    "# YOUR CODE HERE\n",
    "raise NotImplementedError()"
   ]
  },
  {
   "cell_type": "code",
   "execution_count": null,
   "metadata": {
    "colab": {
     "base_uri": "https://localhost:8080/",
     "height": 52
    },
    "executionInfo": {
     "elapsed": 3339,
     "status": "ok",
     "timestamp": 1601496124374,
     "user": {
      "displayName": "Matthew Roos",
      "photoUrl": "https://lh3.googleusercontent.com/a-/AOh14GiyeRFdVCLS_PQVkktJp66dmuu4m19N-Ck1xi8AIA=s64",
      "userId": "16478366312534994918"
     },
     "user_tz": 360
    },
    "id": "JBOjg9aIf-Hp",
    "nbgrader": {
     "grade": false,
     "grade_id": "cell-e0ef99dd29a079d0",
     "locked": false,
     "schema_version": 3,
     "solution": false
    },
    "outputId": "41ff43c0-92c1-4b93-b55c-fbdbd6c8d607"
   },
   "outputs": [],
   "source": [
    "lassoEst.coef_"
   ]
  },
  {
   "cell_type": "code",
   "execution_count": null,
   "metadata": {},
   "outputs": [],
   "source": [
    "for feature, coef in zip(house_features.columns, lassoEst.coef_):\n",
    "    print(f\"The magniture of the feature coefficient for {feature} is {abs(coef)}.\")"
   ]
  },
  {
   "cell_type": "code",
   "execution_count": null,
   "metadata": {
    "colab": {
     "base_uri": "https://localhost:8080/",
     "height": 34
    },
    "executionInfo": {
     "elapsed": 3333,
     "status": "ok",
     "timestamp": 1601496124375,
     "user": {
      "displayName": "Matthew Roos",
      "photoUrl": "https://lh3.googleusercontent.com/a-/AOh14GiyeRFdVCLS_PQVkktJp66dmuu4m19N-Ck1xi8AIA=s64",
      "userId": "16478366312534994918"
     },
     "user_tz": 360
    },
    "id": "Q36ODCosf-Hs",
    "nbgrader": {
     "grade": false,
     "grade_id": "cell-13ec10079ead686f",
     "locked": false,
     "schema_version": 3,
     "solution": false
    },
    "outputId": "905943cb-98ec-43fc-a124-099f406c5a00"
   },
   "outputs": [],
   "source": [
    "lassoEst.alpha_"
   ]
  },
  {
   "cell_type": "code",
   "execution_count": null,
   "metadata": {
    "deletable": false,
    "editable": false,
    "executionInfo": {
     "elapsed": 3329,
     "status": "ok",
     "timestamp": 1601496124375,
     "user": {
      "displayName": "Matthew Roos",
      "photoUrl": "https://lh3.googleusercontent.com/a-/AOh14GiyeRFdVCLS_PQVkktJp66dmuu4m19N-Ck1xi8AIA=s64",
      "userId": "16478366312534994918"
     },
     "user_tz": 360
    },
    "id": "yCDszhJNf-Hu",
    "nbgrader": {
     "cell_type": "code",
     "checksum": "dcf3862d7564bd0223f67c9afa92c5ba",
     "grade": true,
     "grade_id": "cell-14338e2d22cac6c8",
     "locked": true,
     "points": 5,
     "schema_version": 3,
     "solution": false
    }
   },
   "outputs": [],
   "source": [
    "assert lassoEst\n",
    "assert isinstance(lassoEst, LassoCV)\n",
    "assert len(lassoEst.coef_) == 8"
   ]
  },
  {
   "cell_type": "code",
   "execution_count": null,
   "metadata": {
    "colab": {
     "base_uri": "https://localhost:8080/",
     "height": 52
    },
    "executionInfo": {
     "elapsed": 3318,
     "status": "ok",
     "timestamp": 1601496124375,
     "user": {
      "displayName": "Matthew Roos",
      "photoUrl": "https://lh3.googleusercontent.com/a-/AOh14GiyeRFdVCLS_PQVkktJp66dmuu4m19N-Ck1xi8AIA=s64",
      "userId": "16478366312534994918"
     },
     "user_tz": 360
    },
    "id": "T4I8EhOMf-Hx",
    "nbgrader": {
     "grade": false,
     "grade_id": "cell-a658fc6cce0c662e",
     "locked": false,
     "schema_version": 3,
     "solution": false
    },
    "outputId": "89131f7a-f754-4113-af8a-336a493edfd1"
   },
   "outputs": [],
   "source": [
    "print(f\"The mean squared error when training using lasso is {mean_squared_error(y_train, lassoEst.predict(X_train))}.\")\n",
    "print(f\"When testing on the test data, the mean squared error is {mean_squared_error(y_test, lassoEst.predict(X_test))}\")"
   ]
  },
  {
   "cell_type": "markdown",
   "metadata": {},
   "source": [
    "Compare each model's prioritized features. Which model do you think is the best? What do they tell you about this data?"
   ]
  },
  {
   "cell_type": "markdown",
   "metadata": {
    "deletable": false,
    "editable": false,
    "id": "tx7y_EDmf-IB",
    "nbgrader": {
     "cell_type": "markdown",
     "checksum": "1f7640f916f64aeac4af3ec318d3b9cd",
     "grade": false,
     "grade_id": "cell-a1034774d762a001",
     "locked": true,
     "schema_version": 3,
     "solution": false
    }
   },
   "source": [
    "## Feedback"
   ]
  },
  {
   "cell_type": "code",
   "execution_count": null,
   "metadata": {
    "deletable": false,
    "executionInfo": {
     "elapsed": 3420,
     "status": "ok",
     "timestamp": 1601496124507,
     "user": {
      "displayName": "Matthew Roos",
      "photoUrl": "https://lh3.googleusercontent.com/a-/AOh14GiyeRFdVCLS_PQVkktJp66dmuu4m19N-Ck1xi8AIA=s64",
      "userId": "16478366312534994918"
     },
     "user_tz": 360
    },
    "id": "MIUt2oGaf-IB",
    "nbgrader": {
     "cell_type": "code",
     "checksum": "ed936ab53a1391c5e6af8df699a1dbf5",
     "grade": false,
     "grade_id": "feedback",
     "locked": false,
     "schema_version": 3,
     "solution": true
    }
   },
   "outputs": [],
   "source": [
    "def feedback():\n",
    "    \"\"\"Provide feedback on the contents of this exercise\n",
    "    \n",
    "    Returns:\n",
    "        string\n",
    "    \"\"\"\n",
    "    # YOUR CODE HERE\n",
    "    raise NotImplementedError()"
   ]
  },
  {
   "cell_type": "code",
   "execution_count": null,
   "metadata": {
    "deletable": false,
    "editable": false,
    "executionInfo": {
     "elapsed": 3418,
     "status": "ok",
     "timestamp": 1601496124508,
     "user": {
      "displayName": "Matthew Roos",
      "photoUrl": "https://lh3.googleusercontent.com/a-/AOh14GiyeRFdVCLS_PQVkktJp66dmuu4m19N-Ck1xi8AIA=s64",
      "userId": "16478366312534994918"
     },
     "user_tz": 360
    },
    "id": "KCd4r1U1f-IC",
    "nbgrader": {
     "cell_type": "code",
     "checksum": "f39f6185a54850c2f1f9b5b2a17b7543",
     "grade": true,
     "grade_id": "feedback-tests",
     "locked": true,
     "points": 0,
     "schema_version": 3,
     "solution": false
    }
   },
   "outputs": [],
   "source": []
  }
 ],
 "metadata": {
  "colab": {
   "collapsed_sections": [],
   "name": "4a_Feature_Learning_2.ipynb",
   "provenance": []
  },
  "kernelspec": {
   "display_name": "Python 3",
   "language": "python",
   "name": "python3"
  },
  "language_info": {
   "codemirror_mode": {
    "name": "ipython",
    "version": 3
   },
   "file_extension": ".py",
   "mimetype": "text/x-python",
   "name": "python",
   "nbconvert_exporter": "python",
   "pygments_lexer": "ipython3",
   "version": "3.7.4"
  }
 },
 "nbformat": 4,
 "nbformat_minor": 1
}
