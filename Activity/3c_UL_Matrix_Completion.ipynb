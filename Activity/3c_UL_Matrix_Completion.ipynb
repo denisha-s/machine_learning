{
 "cells": [
  {
   "cell_type": "markdown",
   "metadata": {},
   "source": [
    "## CSCI 470 Activities and Case Studies\n",
    "\n",
    "1. For all activities, you are allowed to collaborate with a partner. \n",
    "1. For case studies, you should work individually and are **not** allowed to collaborate.\n",
    "\n",
    "By filling out this notebook and submitting it, you acknowledge that you are aware of the above policies and are agreeing to comply with them."
   ]
  },
  {
   "cell_type": "markdown",
   "metadata": {},
   "source": [
    "Some considerations with regard to how these notebooks will be graded:\n",
    "\n",
    "1. Cells in which \"# YOUR CODE HERE\" is found are the cells where your graded code should be written.\n",
    "2. In order to test out or debug your code you may also create notebook cells or edit existing notebook cells other than \"# YOUR CODE HERE\". We actually highly recommend you do so to gain a better understanding of what is happening. However, during grading, **these changes are ignored**. \n",
    "2. You must ensure that all your code for the particular task is available in the cells that say \"# YOUR CODE HERE\"\n",
    "3. Every cell that says \"# YOUR CODE HERE\" is followed by a \"raise NotImplementedError\". You need to remove that line. During grading, if an error occurs then you will not receive points for your work in that section.\n",
    "4. If your code passes the \"assert\" statements, then no output will result. If your code fails the \"assert\" statements, you will get an \"AssertionError\". Getting an assertion error means you will not receive points for that particular task.\n",
    "5. If you edit the \"assert\" statements to make your code pass, they will still fail when they are graded since the \"assert\" statements will revert to the original. Make sure you don't edit the assert statements.\n",
    "6. We may sometimes have \"hidden\" tests for grading. This means that passing the visible \"assert\" statements is not sufficient. The \"assert\" statements are there as a guide but you need to make sure you understand what you're required to do and ensure that you are doing it correctly. Passing the visible tests is necessary but not sufficient to get the grade for that cell.\n",
    "7. When you are asked to define a function, make sure you **don't** use any variables outside of the parameters passed to the function. You can think of the parameters being passed to the function as a hint. Make sure you're using all of those variables.\n",
    "8. Finally, **make sure you run \"Kernel > Restart and Run All\"** and pass all the asserts before submitting. If you don't restart the kernel, there may be some code that you ran and deleted that is still being used and that was why your asserts were passing."
   ]
  },
  {
   "cell_type": "markdown",
   "metadata": {
    "deletable": false,
    "editable": false,
    "nbgrader": {
     "cell_type": "markdown",
     "checksum": "79dcee6d86cfe7a029c4df99cd85aa9b",
     "grade": false,
     "grade_id": "cell-c5f063695988bbdc",
     "locked": true,
     "schema_version": 3,
     "solution": false
    }
   },
   "source": [
    "# Unsupervised Learning - Matrix Completion"
   ]
  },
  {
   "cell_type": "code",
   "execution_count": null,
   "metadata": {
    "nbgrader": {
     "grade": false,
     "grade_id": "cell-7df2defd51fbfab6",
     "locked": false,
     "schema_version": 3,
     "solution": false
    }
   },
   "outputs": [],
   "source": [
    "!pip install tensorflow\n",
    "!pip install fancyimpute\n",
    "\n",
    "import tensorflow as tf  # fancyimpute uses tensorflow, we'll explicitly load it so that's clear\n",
    "import numpy as np\n",
    "import pandas as pd\n",
    "import matplotlib\n",
    "import matplotlib.pyplot as plt\n",
    "import sklearn as sk\n",
    "from fancyimpute import SimpleFill, KNN, MatrixFactorization\n",
    "\n",
    "%matplotlib inline\n",
    "plt.style.use(\"ggplot\")\n",
    "\n",
    "tf.random.set_seed(0)\n",
    "np.random.seed(0)"
   ]
  },
  {
   "cell_type": "markdown",
   "metadata": {
    "deletable": false,
    "editable": false,
    "nbgrader": {
     "cell_type": "markdown",
     "checksum": "c51931829065107c81e6dfa5c510ac0b",
     "grade": false,
     "grade_id": "cell-83853056a4995f40",
     "locked": true,
     "schema_version": 3,
     "solution": false
    }
   },
   "source": [
    "## Synthetic Data\n",
    "First, let us create some synthetic data that we are going to use to test out a variety of matrix completion algorithms. Note that we force the data in $X$ to have a low rank. "
   ]
  },
  {
   "cell_type": "code",
   "execution_count": null,
   "metadata": {},
   "outputs": [],
   "source": [
    "# Create the data matrix X\n",
    "# If you think of this as a recommendation engine\n",
    "# Select n as the number of users\n",
    "n = 100 \n",
    "# Select m as the number of movies or products\n",
    "m = 50\n",
    "# Select the inner_rank as the number of real genres or categories that movies or products belong to\n",
    "inner_rank = 10\n",
    "user_matrix = np.random.randn(n, inner_rank)\n",
    "item_matrix = np.random.randn(inner_rank, m)\n",
    "# X = np.dot(np.random.randn(n, inner_rank), np.random.randn(inner_rank, m))\n",
    "# X = np.dot(user_matrix, item_matrix)\n",
    "X = user_matrix @ item_matrix"
   ]
  },
  {
   "cell_type": "code",
   "execution_count": null,
   "metadata": {
    "nbgrader": {
     "grade": false,
     "grade_id": "cell-0ac55c585d91159e",
     "locked": false,
     "schema_version": 3,
     "solution": false
    }
   },
   "outputs": [],
   "source": [
    "# Let's visualize the matrix X\n",
    "plt.figure(figsize=(4, 8))\n",
    "plt.imshow(X)\n",
    "plt.grid(False)\n",
    "plt.title(\"Ground Truth\")\n",
    "plt.show()"
   ]
  },
  {
   "cell_type": "markdown",
   "metadata": {},
   "source": [
    "Here we've essentially created a matrix that represents the ground truth of how much each person really likes each product. Now in reality, we don't actually have access to that matrix. We have access to a very tiny view of this matrix because our users don't usually review products to let us know what they like."
   ]
  },
  {
   "cell_type": "markdown",
   "metadata": {
    "deletable": false,
    "editable": false,
    "nbgrader": {
     "cell_type": "markdown",
     "checksum": "31a4b7e05d539c863ac47568686e861e",
     "grade": false,
     "grade_id": "cell-9efcd717d87a7b77",
     "locked": true,
     "schema_version": 3,
     "solution": false
    }
   },
   "source": [
    "## Removing Data From $X$\n",
    "Since we are studying matrix completion algorithms we need to have some missing values! To do this we will randomly remove some data from $X$. \n",
    "\n",
    "Remember... since $X$ can be represented by an `inner_rank` of linearly independent columns it should be relatively easy for a matrix completion algorithm to reconstruct the missing data."
   ]
  },
  {
   "cell_type": "code",
   "execution_count": null,
   "metadata": {
    "nbgrader": {
     "grade": false,
     "grade_id": "cell-8bf1a624f06178d9",
     "locked": false,
     "schema_version": 3,
     "solution": false
    }
   },
   "outputs": [],
   "source": [
    "# What percent of user-movie combinations do we have access to?\n",
    "# For now we'll select an easier case but you can come back and change this value to see how the model performs\n",
    "visible_percentage = 0.6\n",
    "missing_mask = np.random.rand(*X.shape) < (1 - visible_percentage)\n",
    "X_incomplete = X.copy()\n",
    "# missing entries indicated with NaN\n",
    "X_incomplete[missing_mask] = np.nan"
   ]
  },
  {
   "cell_type": "code",
   "execution_count": null,
   "metadata": {
    "nbgrader": {
     "grade": false,
     "grade_id": "cell-0f7b57ff4f66c552",
     "locked": false,
     "schema_version": 3,
     "solution": false
    }
   },
   "outputs": [],
   "source": [
    "# Let's visualize the data matrix X_incomplete\n",
    "plt.figure(figsize=(4, 8))\n",
    "plt.imshow(X_incomplete)\n",
    "plt.grid(False)\n",
    "plt.show()"
   ]
  },
  {
   "cell_type": "markdown",
   "metadata": {
    "deletable": false,
    "editable": false,
    "nbgrader": {
     "cell_type": "markdown",
     "checksum": "87a602dc2ec85572440d5ce331e93c5e",
     "grade": false,
     "grade_id": "cell-f2fd67262427b984",
     "locked": true,
     "schema_version": 3,
     "solution": false
    }
   },
   "source": [
    "## Matrix Completion\n",
    "Now, given the incomplete matrix `X_incomplete` we want to try and fill in the missing values. For this we are going to use the https://github.com/iskandr/fancyimpute package in Python.\n",
    "\n",
    "For the first example, I will provide an example implementation where we fill in all the missing values using `SimpleFill`:"
   ]
  },
  {
   "cell_type": "code",
   "execution_count": null,
   "metadata": {
    "nbgrader": {
     "grade": false,
     "grade_id": "cell-df9eba94ebec763c",
     "locked": false,
     "schema_version": 3,
     "solution": false
    }
   },
   "outputs": [],
   "source": [
    "meanFill = SimpleFill(\"mean\")\n",
    "X_filled_mean = meanFill.fit_transform(X_incomplete)"
   ]
  },
  {
   "cell_type": "code",
   "execution_count": null,
   "metadata": {
    "nbgrader": {
     "grade": false,
     "grade_id": "cell-d4ce509cb9f02ca0",
     "locked": false,
     "schema_version": 3,
     "solution": false
    }
   },
   "outputs": [],
   "source": [
    "f, (ax1, ax2) = plt.subplots(1, 2, figsize=(10,6))\n",
    "\n",
    "ax1.imshow(X)\n",
    "ax1.set_title(\"Original Matrix\")\n",
    "ax1.grid(False)\n",
    "\n",
    "ax2.imshow(X_filled_mean)\n",
    "ax2.set_title(\"Mean Fill Completed Matrix\")\n",
    "ax2.grid(False)\n",
    "plt.show()"
   ]
  },
  {
   "cell_type": "code",
   "execution_count": null,
   "metadata": {
    "nbgrader": {
     "grade": false,
     "grade_id": "cell-0862443f99453500",
     "locked": false,
     "schema_version": 3,
     "solution": false
    }
   },
   "outputs": [],
   "source": [
    "# To test the performance of our matrix completion algorithm we want to compare\n",
    "# the \"filled-in\" values to the original:\n",
    "def mat_completion_mse(X_filled, X_truth, missing_mask):\n",
    "    \"\"\"Calculates the mean squared error of the filled in values vs. the truth\n",
    "    \n",
    "    Args:\n",
    "        X_filled (np.ndarray): The \"filled-in\" matrix from a matrix completion algorithm\n",
    "        X_truth (np.ndarray): The true filled in matrix\n",
    "        missing_mask (np.ndarray): Boolean array of missing values\n",
    "    \n",
    "    Returns:\n",
    "        float: Mean squares error of the filled values\n",
    "    \"\"\"\n",
    "    return ((X_filled[missing_mask] - X_truth[missing_mask]) ** 2).mean()"
   ]
  },
  {
   "cell_type": "code",
   "execution_count": null,
   "metadata": {
    "nbgrader": {
     "grade": false,
     "grade_id": "cell-532e359438e8446e",
     "locked": false,
     "schema_version": 3,
     "solution": false
    }
   },
   "outputs": [],
   "source": [
    "meanFill_mse = mat_completion_mse(X_filled_mean, X, missing_mask)\n",
    "print(\"meanFill MSE: %f\" % meanFill_mse)"
   ]
  },
  {
   "cell_type": "markdown",
   "metadata": {
    "deletable": false,
    "editable": false,
    "nbgrader": {
     "cell_type": "markdown",
     "checksum": "03f7cae12b892a79300ade11dae2a984",
     "grade": false,
     "grade_id": "cell-e28746675948aebb",
     "locked": true,
     "schema_version": 3,
     "solution": false
    }
   },
   "source": [
    "### KNN Completion\n",
    "Next you will use the K-Nearest Neighbors algorithm to fill in the missing values. First, we will need to find the best number of neighbors to use for the KNN algorithm:"
   ]
  },
  {
   "cell_type": "code",
   "execution_count": null,
   "metadata": {
    "deletable": false,
    "nbgrader": {
     "cell_type": "code",
     "checksum": "074241b1a59fd81af9cc5ee9307437d5",
     "grade": false,
     "grade_id": "cell-bb905ed6b3a9527e",
     "locked": false,
     "schema_version": 3,
     "solution": true
    }
   },
   "outputs": [],
   "source": [
    "# Find the best value for k\n",
    "def find_best_k(k_neighbors, complete_mat, incomplete_mat, missing_mask):\n",
    "    \"\"\"Determines the best k to use for matrix completion with KNN\n",
    "    \n",
    "    Args:\n",
    "        k_neighbors (iterable): The list of k's to try\n",
    "        complete_mat (np.ndarray): The original matrix with complete values\n",
    "        incomplete_mat (np.ndarray): The matrix with missing values\n",
    "        missing_mask (np.ndarray): Boolean array of missing values\n",
    "    \n",
    "    Returns:\n",
    "        integer: the best value of k to use for that particular matrix\n",
    "    \"\"\"\n",
    "    best_k = -1\n",
    "    best_k_mse = np.infty\n",
    "    \n",
    "    for neighbors in k_neighbors:\n",
    "        # YOUR CODE HERE\n",
    "        raise NotImplementedError()\n",
    "    return best_k"
   ]
  },
  {
   "cell_type": "code",
   "execution_count": null,
   "metadata": {
    "nbgrader": {
     "grade": false,
     "grade_id": "cell-141e014bb32ec388",
     "locked": false,
     "schema_version": 3,
     "solution": false
    }
   },
   "outputs": [],
   "source": [
    "k_neighbors = [2, 3, 4, 5, 10, 20]\n",
    "best_k = find_best_k(k_neighbors, X, X_incomplete, missing_mask)"
   ]
  },
  {
   "cell_type": "code",
   "execution_count": null,
   "metadata": {},
   "outputs": [],
   "source": [
    "best_k"
   ]
  },
  {
   "cell_type": "code",
   "execution_count": null,
   "metadata": {
    "deletable": false,
    "editable": false,
    "nbgrader": {
     "cell_type": "code",
     "checksum": "7c59de31e48ace615ba2c52694b6461c",
     "grade": true,
     "grade_id": "cell-45bd8cddabf4443a",
     "locked": true,
     "points": 5,
     "schema_version": 3,
     "solution": false
    }
   },
   "outputs": [],
   "source": [
    "assert best_k == 5"
   ]
  },
  {
   "cell_type": "markdown",
   "metadata": {
    "deletable": false,
    "editable": false,
    "nbgrader": {
     "cell_type": "markdown",
     "checksum": "c333570054c96508f9ed13e99df5f930",
     "grade": false,
     "grade_id": "cell-6acf31581c53e8f1",
     "locked": true,
     "schema_version": 3,
     "solution": false
    }
   },
   "source": [
    "Now that we have found the `best_k` to use let's see how well it performed:"
   ]
  },
  {
   "cell_type": "code",
   "execution_count": null,
   "metadata": {
    "deletable": false,
    "nbgrader": {
     "cell_type": "code",
     "checksum": "abab58f33915e096fbe10624c8c021d6",
     "grade": false,
     "grade_id": "cell-7848995ad39c2008",
     "locked": false,
     "schema_version": 3,
     "solution": true
    }
   },
   "outputs": [],
   "source": [
    "# Run KNN with the best_k and store the result in X_filled_knn\n",
    "\n",
    "# YOUR CODE HERE\n",
    "raise NotImplementedError()\n",
    "\n",
    "knnFill_mse = mat_completion_mse(X_filled_knn, X, missing_mask)\n",
    "print(\"knnFill MSE: %f\" % knnFill_mse)"
   ]
  },
  {
   "cell_type": "code",
   "execution_count": null,
   "metadata": {
    "deletable": false,
    "editable": false,
    "nbgrader": {
     "cell_type": "code",
     "checksum": "8a7d04fa905a3f56b476615985f35942",
     "grade": true,
     "grade_id": "cell-4bb7cbb3efc7323b",
     "locked": true,
     "points": 5,
     "schema_version": 3,
     "solution": false
    }
   },
   "outputs": [],
   "source": [
    "assert knnFill_mse < meanFill_mse"
   ]
  },
  {
   "cell_type": "markdown",
   "metadata": {
    "deletable": false,
    "editable": false,
    "nbgrader": {
     "cell_type": "markdown",
     "checksum": "339613aecbfce1f3a2a7dd94d963e199",
     "grade": false,
     "grade_id": "cell-74c1eaa2175da0fd",
     "locked": true,
     "schema_version": 3,
     "solution": false
    }
   },
   "source": [
    "## Visually Comparison of Matrix Completion Algorithms\n",
    "To get a good idea of how these matrix completion algorithms compare we want to create a method that visualizes how well these algorithms actually perform."
   ]
  },
  {
   "cell_type": "markdown",
   "metadata": {
    "deletable": false,
    "editable": false,
    "nbgrader": {
     "cell_type": "markdown",
     "checksum": "2881023516df4f6d45bc40bf6775ab74",
     "grade": false,
     "grade_id": "cell-528e59c4b12cef64",
     "locked": true,
     "schema_version": 3,
     "solution": false
    }
   },
   "source": [
    "#### Creating a Collection of Models\n",
    "Now we create a handful of matrix completion algorithms that we want to visualize:\n",
    " - Mean Fill\n",
    " - K-Nearest Neighbors\n",
    " - MatrixFactorization (an implementaiton using gradient descent)"
   ]
  },
  {
   "cell_type": "code",
   "execution_count": null,
   "metadata": {
    "nbgrader": {
     "grade": false,
     "grade_id": "cell-3d5cf624afcdbce9",
     "locked": false,
     "schema_version": 3,
     "solution": false
    }
   },
   "outputs": [],
   "source": [
    "simpleFill = SimpleFill(\"mean\")\n",
    "knnFill = KNN(k=best_k)\n",
    "mfFill = MatrixFactorization(learning_rate=0.01, rank=20)\n",
    "methods = [simpleFill, knnFill, mfFill]\n",
    "names = [\"SimpleFill\", \"KNN\", \"MatFactor\"]"
   ]
  },
  {
   "cell_type": "code",
   "execution_count": null,
   "metadata": {
    "deletable": false,
    "nbgrader": {
     "cell_type": "code",
     "checksum": "4bfa4de1277fa413ebc9d0f333b2d3f5",
     "grade": false,
     "grade_id": "cell-d2d3aa0fb9bb6dfc",
     "locked": false,
     "schema_version": 3,
     "solution": true
    }
   },
   "outputs": [],
   "source": [
    "def mat_completion_comparison(methods, incomplete_mat, complete_mat, missing_mask):\n",
    "    \"\"\"Using a list of provided matrix completion methods calculate \n",
    "    the completed matrix and the determine the associated \n",
    "    mean-squared-error results.\n",
    "    \n",
    "    Args:\n",
    "        methods (iterable): A list of matrix completion algorithms\n",
    "        incomplete_mat (np.ndarray): The incomplete matrix\n",
    "        complete_mat (np.ndarray): The full matrix\n",
    "        missing_mask (np.ndarray): Boolean array of missing values\n",
    "    \n",
    "    Returns:\n",
    "        filled_mats (iterable): the \"filled-in\" matrices\n",
    "        mses (iterable): the mean square error results\n",
    "    \"\"\"\n",
    "    X_filled_mats = []\n",
    "    mses = []\n",
    "    for method in methods:\n",
    "        # YOUR CODE HERE\n",
    "        raise NotImplementedError()\n",
    "\n",
    "    return X_filled_mats, mses"
   ]
  },
  {
   "cell_type": "markdown",
   "metadata": {},
   "source": [
    "The autograder test below may take a minute or so to run.\n",
    "\n",
    "You can ignore any warnings about `lr` or `learning_rate`."
   ]
  },
  {
   "cell_type": "code",
   "execution_count": null,
   "metadata": {
    "deletable": false,
    "editable": false,
    "nbgrader": {
     "cell_type": "code",
     "checksum": "9b2e05806908f7926fd71430ecbee618",
     "grade": true,
     "grade_id": "cell-6da57a5335f4c9a2",
     "locked": true,
     "points": 10,
     "schema_version": 3,
     "solution": false
    }
   },
   "outputs": [],
   "source": [
    "X_filled_mats, mses = mat_completion_comparison(methods, X_incomplete, X, missing_mask)\n",
    "assert len(X_filled_mats) == len(methods)\n",
    "assert len(mses) == len(methods)"
   ]
  },
  {
   "cell_type": "code",
   "execution_count": null,
   "metadata": {
    "nbgrader": {
     "grade": false,
     "grade_id": "cell-085ac1f2827084a5",
     "locked": false,
     "schema_version": 3,
     "solution": false
    }
   },
   "outputs": [],
   "source": [
    "plt.figure(figsize=(12, 8)) # Change the figure size to your liking\n",
    "\n",
    "for i in range(0, len(methods)):\n",
    "    X_filled = X_filled_mats[i]\n",
    "    mse = mses[i]\n",
    "    ax = plt.subplot(131 + i)\n",
    "    ax.imshow(X_filled)\n",
    "    ax.title.set_text(f'{names[i]} MSE: {mse:0.2f}')\n",
    "    ax.grid(False)\n",
    "    \n",
    "plt.show()"
   ]
  },
  {
   "cell_type": "markdown",
   "metadata": {
    "deletable": false,
    "editable": false,
    "nbgrader": {
     "cell_type": "markdown",
     "checksum": "d3df605202578f6ab3f3bb7dfce8e9e7",
     "grade": false,
     "grade_id": "cell-73cc7955e97ceb8e",
     "locked": true,
     "schema_version": 3,
     "solution": false
    }
   },
   "source": [
    "## Feedback"
   ]
  },
  {
   "cell_type": "code",
   "execution_count": null,
   "metadata": {
    "deletable": false,
    "nbgrader": {
     "cell_type": "code",
     "checksum": "ed936ab53a1391c5e6af8df699a1dbf5",
     "grade": false,
     "grade_id": "feedback",
     "locked": false,
     "schema_version": 3,
     "solution": true
    }
   },
   "outputs": [],
   "source": [
    "def feedback():\n",
    "    \"\"\"Provide feedback on the contents of this exercise\n",
    "    \n",
    "    Returns:\n",
    "        string\n",
    "    \"\"\"\n",
    "    # YOUR CODE HERE\n",
    "    raise NotImplementedError()"
   ]
  },
  {
   "cell_type": "code",
   "execution_count": null,
   "metadata": {
    "deletable": false,
    "editable": false,
    "nbgrader": {
     "cell_type": "code",
     "checksum": "f39f6185a54850c2f1f9b5b2a17b7543",
     "grade": true,
     "grade_id": "feedback-tests",
     "locked": true,
     "points": 0,
     "schema_version": 3,
     "solution": false
    }
   },
   "outputs": [],
   "source": []
  }
 ],
 "metadata": {
  "kernelspec": {
   "display_name": "Python 3",
   "language": "python",
   "name": "python3"
  },
  "language_info": {
   "codemirror_mode": {
    "name": "ipython",
    "version": 3
   },
   "file_extension": ".py",
   "mimetype": "text/x-python",
   "name": "python",
   "nbconvert_exporter": "python",
   "pygments_lexer": "ipython3",
   "version": "3.7.4"
  }
 },
 "nbformat": 4,
 "nbformat_minor": 2
}
