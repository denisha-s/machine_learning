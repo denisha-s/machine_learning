{
 "cells": [
  {
   "cell_type": "markdown",
   "metadata": {},
   "source": [
    "## CSCI 470 Activities and Case Studies\n",
    "\n",
    "1. For all activities, you are allowed to collaborate with a partner. \n",
    "1. For case studies, you should work individually and are **not** allowed to collaborate.\n",
    "\n",
    "By filling out this notebook and submitting it, you acknowledge that you are aware of the above policies and are agreeing to comply with them."
   ]
  },
  {
   "cell_type": "markdown",
   "metadata": {},
   "source": [
    "Some considerations with regard to how these notebooks will be graded:\n",
    "\n",
    "1. Cells in which \"# YOUR CODE HERE\" is found are the cells where your graded code should be written.\n",
    "2. In order to test out or debug your code you may also create notebook cells or edit existing notebook cells other than \"# YOUR CODE HERE\". We actually highly recommend you do so to gain a better understanding of what is happening. However, during grading, **these changes are ignored**. \n",
    "2. You must ensure that all your code for the particular task is available in the cells that say \"# YOUR CODE HERE\"\n",
    "3. Every cell that says \"# YOUR CODE HERE\" is followed by a \"raise NotImplementedError\". You need to remove that line. During grading, if an error occurs then you will not receive points for your work in that section.\n",
    "4. If your code passes the \"assert\" statements, then no output will result. If your code fails the \"assert\" statements, you will get an \"AssertionError\". Getting an assertion error means you will not receive points for that particular task.\n",
    "5. If you edit the \"assert\" statements to make your code pass, they will still fail when they are graded since the \"assert\" statements will revert to the original. Make sure you don't edit the assert statements.\n",
    "6. We may sometimes have \"hidden\" tests for grading. This means that passing the visible \"assert\" statements is not sufficient. The \"assert\" statements are there as a guide but you need to make sure you understand what you're required to do and ensure that you are doing it correctly. Passing the visible tests is necessary but not sufficient to get the grade for that cell.\n",
    "7. When you are asked to define a function, make sure you **don't** use any variables outside of the parameters passed to the function. You can think of the parameters being passed to the function as a hint. Make sure you're using all of those variables.\n",
    "8. Finally, **make sure you run \"Kernel > Restart and Run All\"** and pass all the asserts before submitting. If you don't restart the kernel, there may be some code that you ran and deleted that is still being used and that was why your asserts were passing."
   ]
  },
  {
   "cell_type": "markdown",
   "metadata": {
    "deletable": false,
    "editable": false,
    "nbgrader": {
     "cell_type": "markdown",
     "checksum": "f594a3635e617eeed998face0600250b",
     "grade": false,
     "grade_id": "cell-0361b9973e53f77d",
     "locked": true,
     "schema_version": 3,
     "solution": false
    }
   },
   "source": [
    "# Supervised Learning\n",
    "\n",
    "Yeah, you're reading that right. In this activity, we're finally doing some real machine learning!\n",
    "\n",
    "We're going to:\n",
    "1. Create a $k$NN classification machine learning model using scikit-learn\n",
    "2. Train our model with some synthetic data\n",
    "3. Use our model to make predictions about parts of our synthetic data that it hasn't seen before\n",
    "4. Use those predictions to evaluate our model's performance by comparing its predictions with the unseen data's actual labels\n",
    "\n",
    "## scikit-learn API\n",
    "\n",
    "Models in scikit-learn are called _Estimators_ and the steps to use them are:\n",
    "\n",
    "1. Initialize the model by setting its parameters `model = Model(param_1=val, param_2=val)`\n",
    "1. Fit the model `model.fit(features, labels)`\n",
    "1. Predict labels with the fit model `model.predict(features)`\n"
   ]
  },
  {
   "cell_type": "code",
   "execution_count": null,
   "metadata": {
    "nbgrader": {
     "grade": false,
     "grade_id": "cell-c1fcbda05adad19e",
     "locked": false,
     "schema_version": 3,
     "solution": false
    }
   },
   "outputs": [],
   "source": [
    "import numpy as np\n",
    "import pandas as pd\n",
    "import matplotlib\n",
    "import matplotlib.pyplot as plt\n",
    "import sklearn as sk\n",
    "\n",
    "%matplotlib inline\n",
    "plt.style.use(\"ggplot\")"
   ]
  },
  {
   "cell_type": "code",
   "execution_count": null,
   "metadata": {
    "nbgrader": {
     "grade": false,
     "grade_id": "cell-b6a1d870746bf9f8",
     "locked": false,
     "schema_version": 3,
     "solution": false
    }
   },
   "outputs": [],
   "source": [
    "from sklearn.datasets import make_blobs\n",
    "from sklearn.model_selection import train_test_split"
   ]
  },
  {
   "cell_type": "markdown",
   "metadata": {
    "deletable": false,
    "editable": false,
    "nbgrader": {
     "cell_type": "markdown",
     "checksum": "1bc3676425a3221f8846a7b07ec704d7",
     "grade": false,
     "grade_id": "cell-c6914ce60f45dbc3",
     "locked": true,
     "schema_version": 3,
     "solution": false
    }
   },
   "source": [
    "Let's start by making some synthetic data that we can use to train our model.\n",
    "\n",
    "In the real world, collecting information from an entire population is far too expensive so datasets are built by collecting (hopefully relevant) information about randomly chosen samples of the population. \n",
    "\n",
    "The entire goal of machine learning and statistics is to use these datasets to form understandings of entire populations (without ever actually interacting with the entire population)."
   ]
  },
  {
   "cell_type": "code",
   "execution_count": null,
   "metadata": {
    "nbgrader": {
     "grade": false,
     "grade_id": "cell-e57869fa6babe658",
     "locked": false,
     "schema_version": 3,
     "solution": false
    }
   },
   "outputs": [],
   "source": [
    "# Imagine we have a very large population\n",
    "pop_X, pop_y = make_blobs(n_samples=10000, random_state=0)\n",
    "\n",
    "# We will now collect 10000 random samples from this population\n",
    "X, y = pop_X[:1000], pop_y[:1000]"
   ]
  },
  {
   "cell_type": "markdown",
   "metadata": {
    "deletable": false,
    "editable": false,
    "nbgrader": {
     "cell_type": "markdown",
     "checksum": "cc3e4bc2e51cf3bb5d0600696d10b2ea",
     "grade": false,
     "grade_id": "cell-f635451e3489c023",
     "locked": true,
     "schema_version": 3,
     "solution": false
    }
   },
   "source": [
    "Now we're going to split all our sample data into train and test sets. We do so using sklearn's [`train_test_split`](https://scikit-learn.org/stable/modules/generated/sklearn.model_selection.train_test_split.html) function.\n",
    "\n",
    "This is a very important step when creating machine learning models. In order to fairly evaluate a model's performance, we want to feed it data that neither us or it have ever seen before. Ideally, this allows us to analyze the true strength of our model's estimations on completely new, unseen data from our population.\n",
    "\n",
    "Also notice how we set the `random_state` to `42`. Any number will do so we may as well choose [the answer to life, the universe and everything](https://en.wikipedia.org/wiki/42_(number)#The_Hitchhiker's_Guide_to_the_Galaxy). This ensures that every time we run our program, we get the same splits. This prevents us or our model from ever being exposed to testing data (which would corrupt our testing data's ability to analyze the true strength of our model)."
   ]
  },
  {
   "cell_type": "code",
   "execution_count": null,
   "metadata": {
    "nbgrader": {
     "grade": false,
     "grade_id": "cell-07993a428812c86d",
     "locked": false,
     "schema_version": 3,
     "solution": false
    }
   },
   "outputs": [],
   "source": [
    "X_train, X_test, y_train, y_test = train_test_split(X, y, random_state=42, test_size=0.2)\n",
    "\n",
    "print(f\"All Data:        {len(X)} points\")\n",
    "print(f\"Training data:   {len(X_train)} points\")\n",
    "print(f\"Testing data:    {len(X_test)} points\")"
   ]
  },
  {
   "cell_type": "markdown",
   "metadata": {
    "deletable": false,
    "editable": false,
    "nbgrader": {
     "cell_type": "markdown",
     "checksum": "e522cb824c761f7ab2a2e3c5b5adc702",
     "grade": false,
     "grade_id": "cell-040339d04c95a780",
     "locked": true,
     "schema_version": 3,
     "solution": false,
     "task": false
    }
   },
   "source": [
    "Whenever a dataset evaluates the performance of two+ models and a model is chosen based off the results, that dataset's ability to predict how well the model will perform on completely new, unseen data from a population is corrupted. It is corrupted because the chosen model is almost certainly at least slightly overfit to the dataset used to evaluate performance. \n",
    "\n",
    "Therefore, a test set should only ever be used to see if a model should be deployed to the real world. Ideally, it only gets executed a single time. Using it more than ~three times makes it highly likely the finalized model is going to be at least somewhat overfit to your test set.\n",
    "\n",
    "During [Kaggle competitions](https://www.kaggle.com/competitions), the test set labels are never released to competitors and, while a competition is going, competitors are only allowed to see how their model performs compared to everyone else on a random subset of the test set. At the very end of the competition, everyone's actual rankings are calculated based off how their models perform on the full, never before seen, test set.\n",
    "\n",
    "Hopefully you can see that it is very, very, very important we as model creators know as little as possible about \n",
    "the test set so that we can avoid acidentally overfitting our model to it.\n",
    "\n",
    "Given this reality, creating multiple evaluation sets is oftentimes necessary so that we can choose the best configurations for our model without corrupting our test set. Again, there are many ways to split up data but for now we will use the same `train_test_split` function we used above.\n",
    "\n",
    "*An evaluation set designed to choose the best model parameters is called the validation set*"
   ]
  },
  {
   "cell_type": "code",
   "execution_count": null,
   "metadata": {},
   "outputs": [],
   "source": [
    "X_model, X_valid, y_model, y_valid = train_test_split(X_train, y_train, random_state=42, test_size=0.2)\n",
    "\n",
    "print(f\"New training data:   {len(X_model)} points\")\n",
    "print(f\"Validation data:   {len(X_valid)} points\")"
   ]
  },
  {
   "cell_type": "markdown",
   "metadata": {
    "deletable": false,
    "editable": false,
    "nbgrader": {
     "cell_type": "markdown",
     "checksum": "74bedce30235065130049e2f8cf6df2b",
     "grade": false,
     "grade_id": "cell-e48915399970c894",
     "locked": true,
     "schema_version": 3,
     "solution": false,
     "task": false
    }
   },
   "source": [
    "Now that we've split up our dataset, we can visualize our data. This step is called [Exploratory Data Analysis (EDA)](https://en.wikipedia.org/wiki/Exploratory_data_analysis). During EDA, we create visualizations that help us better understand the main characteristics of our dataset. \n",
    "\n",
    "It's very important that when we're performing EDA, we only ever look at our training dataset. Doing so will prevent us from accidentally formulating unfair understandings of our test data that lead us to create models which achieve better prediction results for our test set compared to those of uncollected samples in a population."
   ]
  },
  {
   "cell_type": "code",
   "execution_count": null,
   "metadata": {},
   "outputs": [],
   "source": [
    "# Let's create a graph where we plot our data across both of its dimensions and color each point by its label\n",
    "plt.scatter(X_train[:, 0], X_train[:, 1], marker='o', c=y_train, s=25, edgecolor='k')\n",
    "plt.title(\"3 classes of data\")\n",
    "plt.xlabel(\"X\")\n",
    "plt.ylabel(\"Y\")\n",
    "plt.show()"
   ]
  },
  {
   "cell_type": "markdown",
   "metadata": {
    "deletable": false,
    "editable": false,
    "nbgrader": {
     "cell_type": "markdown",
     "checksum": "095ed6247e98b86856bed99eb6e2d720",
     "grade": false,
     "grade_id": "cell-9ab6c8cc8c2544e0",
     "locked": true,
     "schema_version": 3,
     "solution": false
    }
   },
   "source": [
    "Our dataset is fairly simple so a single graph is all we really need for sufficient EDA.\n",
    "\n",
    "In the real world, datasets can be much more complicated so more graphs (dot plots, box plots, bar charts, side-by-side comparisons, etc.) may be necessary. A big part of data science is determining the best visualizations to share the characteristics of a given dataset with other people.\n",
    "\n",
    "Also, in the real world, we would now begin cleaning our data. However, for this dataset, we can skip this setp because it is already perfectly clean.\n",
    "\n",
    "Anyways, now that we have a good idea of what our data looks like, we can start thinking about models that will make the strongest predictions. In the reading, we discussed $k$NN estimators, decision trees, and random forests. For our dataset, any of these models will work, so let's start with creating a [$k$NN classifier](https://scikit-learn.org/stable/modules/generated/sklearn.neighbors.KNeighborsClassifier.html).\n",
    "\n",
    "*If at the end of this exercise you want to go further, consider also training a decision tree and random forest model, then comparing each model's performance.*"
   ]
  },
  {
   "cell_type": "code",
   "execution_count": null,
   "metadata": {
    "nbgrader": {
     "grade": false,
     "grade_id": "cell-f5795899913b48fd",
     "locked": false,
     "schema_version": 3,
     "solution": false
    }
   },
   "outputs": [],
   "source": [
    "from sklearn.neighbors import KNeighborsClassifier"
   ]
  },
  {
   "cell_type": "code",
   "execution_count": null,
   "metadata": {
    "nbgrader": {
     "grade": false,
     "grade_id": "cell-ae356332a6393ce5",
     "locked": false,
     "schema_version": 3,
     "solution": false
    }
   },
   "outputs": [],
   "source": [
    "# Step 0 - Define our  model's parameters\n",
    "k = 5\n",
    "# Step 1 - Initialize model with parameters\n",
    "knn = KNeighborsClassifier(n_neighbors=k)\n",
    "# Step 2 - Fit the model with data\n",
    "knn.fit(X_model, y_model)"
   ]
  },
  {
   "cell_type": "markdown",
   "metadata": {
    "deletable": false,
    "editable": false,
    "nbgrader": {
     "cell_type": "markdown",
     "checksum": "177aa651af625f944bf5d89118e397a5",
     "grade": false,
     "grade_id": "cell-cbbc795ff3e0c0ff",
     "locked": true,
     "schema_version": 3,
     "solution": false,
     "task": false
    }
   },
   "source": [
    "Yes, it's really that simple to create a machine learning model! All we had to do was initialize a $k$NN classifier with some parameters and fit it to our data.\n",
    "\n",
    "sklearn implements many other classification estimators that are just as easy to deploy. A list of all of the supervised estimators sklearn implements can be found [here](https://scikit-learn.org/stable/supervised_learning.html). The $k$NN (classification) model we are using is listed in section 1.6.2. Decision trees can be found in section 1.10.1 and random forests in section 1.11.2."
   ]
  },
  {
   "cell_type": "markdown",
   "metadata": {
    "deletable": false,
    "editable": false,
    "nbgrader": {
     "cell_type": "markdown",
     "checksum": "c7e511744234c51771f6c9f182195dc8",
     "grade": false,
     "grade_id": "cell-c5e4646ff572993e",
     "locked": true,
     "schema_version": 3,
     "solution": false
    }
   },
   "source": [
    "Now that we've created and trained a $k$nn model, we need to evaluate how good its predictions are on our validation set.\n",
    "\n",
    "Remember, we are doing *supervised* learning. Practically, this means that we evaluate the strength of our model by:\n",
    "1. Making predictions with it on evaluation data, then\n",
    "2. Evaluating its predictions by comparing them with the evaluation data's actual labels\n",
    "\n",
    "Later in the semester, we will dive into *unsupervised* learning where we won't have pre-labeled data so we'll have to come up with other ways to evaluate a model's performance.\n",
    "\n",
    "But, for now, let's keep things simple and use some of the classification performance metrics that we discussed in class:\n",
    "\n",
    "1. [Confusion matrix](https://scikit-learn.org/stable/modules/generated/sklearn.metrics.confusion_matrix.html)\n",
    "1. [Classification Report](https://scikit-learn.org/stable/modules/generated/sklearn.metrics.classification_report.html)\n",
    "1. [F1 score](https://scikit-learn.org/stable/modules/generated/sklearn.metrics.f1_score.html)\n",
    "\n",
    "As you may expect, there are many more ways to evaluate a model's performance. One widely used metric not covered in this class is called [ROC AUC](https://developers.google.com/machine-learning/crash-course/classification/roc-and-auc). Briefly, it measures a model's ability to maximize true positives at the expense of false positives. A list of all of the evaluation metrics implemented by sklearn can be found [here](https://scikit-learn.org/stable/modules/model_evaluation.html)."
   ]
  },
  {
   "cell_type": "markdown",
   "metadata": {
    "deletable": false,
    "editable": false,
    "nbgrader": {
     "cell_type": "markdown",
     "checksum": "2945c9c0cf354622461e9786d78682ae",
     "grade": false,
     "grade_id": "cell-e32dff57f71f70c6",
     "locked": true,
     "schema_version": 3,
     "solution": false,
     "task": false
    }
   },
   "source": [
    "**Step 1**: Use our model to make predictions about test data it hasn't seen before"
   ]
  },
  {
   "cell_type": "code",
   "execution_count": null,
   "metadata": {},
   "outputs": [],
   "source": [
    "validationPredictions = knn.predict(X_valid)"
   ]
  },
  {
   "cell_type": "markdown",
   "metadata": {
    "deletable": false,
    "editable": false,
    "nbgrader": {
     "cell_type": "markdown",
     "checksum": "1a49ac3f3a4ad840031fbb117d5ab36d",
     "grade": false,
     "grade_id": "cell-2547486505f46929",
     "locked": true,
     "schema_version": 3,
     "solution": false,
     "task": false
    }
   },
   "source": [
    "**Step 2**: Evaluate our model's performance"
   ]
  },
  {
   "cell_type": "code",
   "execution_count": null,
   "metadata": {
    "nbgrader": {
     "grade": false,
     "grade_id": "cell-cb7f2528a5567bd7",
     "locked": false,
     "schema_version": 3,
     "solution": false
    }
   },
   "outputs": [],
   "source": [
    "from sklearn.metrics import classification_report, confusion_matrix, f1_score"
   ]
  },
  {
   "cell_type": "code",
   "execution_count": null,
   "metadata": {
    "nbgrader": {
     "grade": false,
     "grade_id": "cell-7484932823b580a0",
     "locked": false,
     "schema_version": 3,
     "solution": false
    }
   },
   "outputs": [],
   "source": [
    "print(confusion_matrix(y_valid, validationPredictions))"
   ]
  },
  {
   "cell_type": "markdown",
   "metadata": {
    "deletable": false,
    "editable": false,
    "nbgrader": {
     "cell_type": "markdown",
     "checksum": "c8a1c45cd320f20e42b18f6b84c57f04",
     "grade": false,
     "grade_id": "cell-bab201391a8c7985",
     "locked": true,
     "schema_version": 3,
     "solution": false,
     "task": false
    }
   },
   "source": [
    "Ok, it looks like our model is making strong predictions!\n",
    "\n",
    "As discussed in class, a confusion matrix compares our data's true labels (horizontal axis) with the labels our model predicts (vertical axis). We want a confusion matrix's diagonal values to be very large because that indicates our model's predicted labels match the data's actual labels.\n",
    "\n",
    "This is clearly the case for our model! Awesome."
   ]
  },
  {
   "cell_type": "code",
   "execution_count": null,
   "metadata": {
    "nbgrader": {
     "grade": false,
     "grade_id": "cell-5e391c5c23b58d60",
     "locked": false,
     "schema_version": 3,
     "solution": false
    }
   },
   "outputs": [],
   "source": [
    "print(classification_report(y_valid, validationPredictions))"
   ]
  },
  {
   "cell_type": "code",
   "execution_count": null,
   "metadata": {
    "nbgrader": {
     "grade": false,
     "grade_id": "cell-101bb55694b0ead2",
     "locked": false,
     "schema_version": 3,
     "solution": false
    }
   },
   "outputs": [],
   "source": [
    "f1_score(y_valid, validationPredictions, average=\"weighted\")"
   ]
  },
  {
   "cell_type": "markdown",
   "metadata": {
    "deletable": false,
    "editable": false,
    "nbgrader": {
     "cell_type": "markdown",
     "checksum": "74561f59c4cd3df4828f52486b0595ba",
     "grade": false,
     "grade_id": "cell-401d1a757f91cd3e",
     "locked": true,
     "schema_version": 3,
     "solution": false,
     "task": false
    }
   },
   "source": [
    "The classification report and weighted f-1 scores confirm our initial findings from the confusion matrix. Our model is definitely making strong predictions.\n",
    "\n",
    "But can we do any better?\n",
    "\n",
    "Let's figure out if changing our model's parameters would lead to even stronger results. To do this, we'll compare the weighted F-1 scores achieved by a variety of different parameter combinations."
   ]
  },
  {
   "cell_type": "markdown",
   "metadata": {
    "deletable": false,
    "editable": false,
    "nbgrader": {
     "cell_type": "markdown",
     "checksum": "045242233bb14ce78a4aa7fc37834891",
     "grade": false,
     "grade_id": "cell-c4f3d4b0ef20586e",
     "locked": true,
     "schema_version": 3,
     "solution": false
    }
   },
   "source": [
    "**Ok reader, it's your turn. Take the wheel!**\n",
    "\n",
    "Remember, we want to see if we can make our model any better by trying multiple different $k$NN parameter values\n",
    "\n",
    "1. First, we'll train multiple models with different k values and evaluate them on the *training set* (Yes, you read that right. The training set! Use the same dataset you used to train your model when testing your model's performance.).\n",
    "2. Second, we'll train multiple models with those same values of k and evaluate them on the *validation set*.\n",
    "3. From these two sets of results, we can plot our scores to determine the best value of k"
   ]
  },
  {
   "cell_type": "code",
   "execution_count": null,
   "metadata": {
    "deletable": false,
    "nbgrader": {
     "cell_type": "code",
     "checksum": "82fa0019aa5fae94d2e7938d6147a825",
     "grade": false,
     "grade_id": "getKnnTraining",
     "locked": false,
     "schema_version": 3,
     "solution": true
    }
   },
   "outputs": [],
   "source": [
    "def get_knn_training_scores(ks, model_features, model_labels):\n",
    "    \"\"\"Determine the f1-score of k values for kNN on a given data set\n",
    "    Args:\n",
    "        ks (int iterable): iterable of all the k values to apply\n",
    "        model_features (iterable): the features from the model set to train on\n",
    "        model_labels (iterable): the labels from the model set to train on\n",
    "        \n",
    "    Returns:\n",
    "        dictionary: key is the k value and value is the weighted f1_score on the training set\n",
    "    \"\"\"\n",
    "    # YOUR CODE HERE\n",
    "    raise NotImplementedError()"
   ]
  },
  {
   "cell_type": "code",
   "execution_count": null,
   "metadata": {
    "deletable": false,
    "editable": false,
    "nbgrader": {
     "cell_type": "code",
     "checksum": "e2c0795780dbf00fb9d2f83aa603d8a3",
     "grade": true,
     "grade_id": "getKnnTrainingTests",
     "locked": true,
     "points": 5,
     "schema_version": 3,
     "solution": false
    }
   },
   "outputs": [],
   "source": [
    "ks = [1,2,3]\n",
    "test_knn_train = get_knn_training_scores(ks, X_model, y_model)\n",
    "assert list(test_knn_train.keys()) == ks\n",
    "assert len(test_knn_train.keys()) == 3\n",
    "assert np.array(list(test_knn_train.values())).all() <= 1\n",
    "assert np.array(list(test_knn_train.values())).all() > 0"
   ]
  },
  {
   "cell_type": "code",
   "execution_count": null,
   "metadata": {
    "deletable": false,
    "nbgrader": {
     "cell_type": "code",
     "checksum": "9c59b2739815f43cc9ee376e3d51c0ce",
     "grade": false,
     "grade_id": "getKnnValidation",
     "locked": false,
     "schema_version": 3,
     "solution": true
    }
   },
   "outputs": [],
   "source": [
    "def get_knn_validation_scores(ks, model_features, model_labels, validation_features, validation_labels):\n",
    "    \"\"\"Train a model on a dataset then return the F-1 score on another set\n",
    "    Args:\n",
    "        ks (int iterable): iterable of all the k values to apply\n",
    "        model_features (iterable): the features from the model set to train on\n",
    "        model_labels (iterable): the labels from the model set to train on\n",
    "        validation_features (iterable): the features from the validation set to test on\n",
    "        validation_labels (iterable): the labels from the validation set to test on\n",
    "        \n",
    "    Returns:\n",
    "        dictionary: key is the k value and value is the weighted f1_score on the validation set\n",
    "    \"\"\"\n",
    "    # YOUR CODE HERE\n",
    "    raise NotImplementedError()"
   ]
  },
  {
   "cell_type": "code",
   "execution_count": null,
   "metadata": {
    "deletable": false,
    "editable": false,
    "nbgrader": {
     "cell_type": "code",
     "checksum": "fd098501382e00365305e7c304e987e7",
     "grade": true,
     "grade_id": "getKnnValidationTests",
     "locked": true,
     "points": 10,
     "schema_version": 3,
     "solution": false
    }
   },
   "outputs": [],
   "source": [
    "ks = [1,2,3]\n",
    "test_knn_valid = get_knn_validation_scores(ks, X_model, y_model, X_valid, y_valid)\n",
    "assert list(test_knn_train.keys()) == ks\n",
    "assert len(test_knn_train.keys()) == 3\n",
    "assert np.array(list(test_knn_train.values())).all() <= 1\n",
    "assert np.array(list(test_knn_train.values())).all() > 0\n",
    "assert test_knn_valid != test_knn_train"
   ]
  },
  {
   "cell_type": "markdown",
   "metadata": {
    "deletable": false,
    "editable": false,
    "nbgrader": {
     "cell_type": "markdown",
     "checksum": "04d6a5b340d2dcf0d666a11cb9803007",
     "grade": false,
     "grade_id": "cell-61e2cbfa15e77043",
     "locked": true,
     "schema_version": 3,
     "solution": false
    }
   },
   "source": [
    "Now let's use these functions to determine the best value for $k$."
   ]
  },
  {
   "cell_type": "code",
   "execution_count": null,
   "metadata": {
    "nbgrader": {
     "grade": false,
     "grade_id": "cell-289c4bd35e7663f7",
     "locked": false,
     "schema_version": 3,
     "solution": false
    }
   },
   "outputs": [],
   "source": [
    "ksToTest = [1,3,5,7,10,20,50,100]\n",
    "training_scores = get_knn_training_scores(ksToTest, X_model, y_model)\n",
    "validation_scores = get_knn_validation_scores(ksToTest, X_model, y_model, X_valid, y_valid)"
   ]
  },
  {
   "cell_type": "markdown",
   "metadata": {
    "deletable": false,
    "editable": false,
    "nbgrader": {
     "cell_type": "markdown",
     "checksum": "b8a0629143d1b9b875d69617ec1f45ec",
     "grade": false,
     "grade_id": "cell-43acba8d25afb64f",
     "locked": true,
     "schema_version": 3,
     "solution": false
    }
   },
   "source": [
    "Here, we'll plot the training and validation scores that were returned from the functions. "
   ]
  },
  {
   "cell_type": "code",
   "execution_count": null,
   "metadata": {
    "nbgrader": {
     "grade": false,
     "grade_id": "cell-f256f6eadabf3367",
     "locked": false,
     "schema_version": 3,
     "solution": false
    }
   },
   "outputs": [],
   "source": [
    "pd.Series(training_scores, name=\"Training\").plot(kind=\"line\")\n",
    "pd.Series(validation_scores, name=\"Validation\").plot(kind=\"line\", label=\"Validation\")\n",
    "\n",
    "plt.legend()\n",
    "plt.xlabel(\"k\")\n",
    "plt.ylabel(\"F1-score\")\n",
    "plt.show()"
   ]
  },
  {
   "cell_type": "code",
   "execution_count": null,
   "metadata": {
    "deletable": false,
    "nbgrader": {
     "cell_type": "code",
     "checksum": "20746c9d8b4d8f4052af573e0bd280f5",
     "grade": false,
     "grade_id": "cell-f2f1760e17a22d65",
     "locked": false,
     "schema_version": 3,
     "solution": true
    }
   },
   "outputs": [],
   "source": [
    "# Select the best value for k and set it to bestK\n",
    "# YOUR CODE HERE\n",
    "raise NotImplementedError()"
   ]
  },
  {
   "cell_type": "code",
   "execution_count": null,
   "metadata": {
    "nbgrader": {
     "grade": false,
     "grade_id": "cell-6ad6e795b7c768b3",
     "locked": false,
     "schema_version": 3,
     "solution": false
    }
   },
   "outputs": [],
   "source": [
    "clf = KNeighborsClassifier(bestK)\n",
    "clf.fit(X_train, y_train)\n",
    "testPredictions = clf.predict(X_test)"
   ]
  },
  {
   "cell_type": "markdown",
   "metadata": {
    "deletable": false,
    "editable": false,
    "nbgrader": {
     "cell_type": "markdown",
     "checksum": "eb36ce4294aeba62ffe49423aaa90b9a",
     "grade": false,
     "grade_id": "cell-2775822417759272",
     "locked": true,
     "schema_version": 3,
     "solution": false
    }
   },
   "source": [
    "After selecting the best hyperparameter, we can see how well our model does on the test dataset. This is our final check to confirm that our model is sufficient for the real world.\n",
    "\n",
    "This should be a strong representation of how well our model will perform on new, unseen data!\n",
    "\n",
    "Remember, we can't make any changes to our model based off these results. If we did, the changes would corrupt our test set."
   ]
  },
  {
   "cell_type": "code",
   "execution_count": null,
   "metadata": {
    "nbgrader": {
     "grade": false,
     "grade_id": "cell-c8e450019fff3edb",
     "locked": false,
     "schema_version": 3,
     "solution": false
    }
   },
   "outputs": [],
   "source": [
    "print(\"Confusion Matrix: \\n\")\n",
    "print(confusion_matrix(y_test, testPredictions))\n",
    "print(\"\\n\\nClassification Report:\\n\")\n",
    "print(classification_report(y_test, testPredictions))"
   ]
  },
  {
   "cell_type": "code",
   "execution_count": null,
   "metadata": {
    "deletable": false,
    "editable": false,
    "nbgrader": {
     "cell_type": "code",
     "checksum": "fc2c79d021e8b7172c736c21f3141431",
     "grade": true,
     "grade_id": "cell-2dd3fc76c64352de",
     "locked": true,
     "points": 5,
     "schema_version": 3,
     "solution": false
    }
   },
   "outputs": [],
   "source": [
    "assert f1_score(y_test, testPredictions, average=\"weighted\") > 0.92"
   ]
  },
  {
   "cell_type": "markdown",
   "metadata": {
    "deletable": false,
    "editable": false,
    "nbgrader": {
     "cell_type": "markdown",
     "checksum": "fb04a4c8afc9346960fe7f4f22930100",
     "grade": false,
     "grade_id": "cell-820720b8be5c9b88",
     "locked": true,
     "schema_version": 3,
     "solution": false,
     "task": false
    }
   },
   "source": [
    "**When should the training, validation, or test set be used?**\n",
    "\n",
    "- The test set should only be used to evaluate whether or not a model can be deployed to the real world. Model creators should undestand as little about the test set as possible. It should be used as little as possible - ideally only once.\n",
    "\n",
    "- The validation set can be used to choose the best model hyper parameters. Comparing too many model configrations on the same validation set essentially guarantees that the model's configurations will be overfit to the validation set. To help avoid this, there are many cleverly designed ways to create a validation set and, if necessary, multiple validation sets can be created. *It is very important to consider all factors that may contribute to an overfit validation set.*\n",
    "\n",
    "- The training set should be used to create new validation sets or to train new models"
   ]
  },
  {
   "cell_type": "markdown",
   "metadata": {
    "deletable": false,
    "editable": false,
    "nbgrader": {
     "cell_type": "markdown",
     "checksum": "1f64b64c8cc808c3749d52e55a58c8bd",
     "grade": false,
     "grade_id": "cell-d83a5dfbdd78f32e",
     "locked": true,
     "schema_version": 3,
     "solution": false,
     "task": false
    }
   },
   "source": [
    "**Summary**\n",
    "\n",
    "Eggscellent work! We just did real machine learning (and hopefully you agree that it was suprisingly easy)! \n",
    "\n",
    "Right now, our conception of creating machine learning models works something like this:\n",
    "1. Collect sample data from a population\n",
    "1. Split dataset into training and testing sets (and split training set further as needed)\n",
    "1. Perform Exploratory Data Analysis (EDA)\n",
    "1. Clean dataset (not necessary in this activity)\n",
    "1. Choose a good model for the dataset (in this activity, we just guessed that $k$NN is best)\n",
    "1. Choose good parameters for our model\n",
    "1. Evaluate overall performance\n",
    "\n",
    "In the next activity, we will expand on this conception and develop an intuitive understanding of regularization!"
   ]
  },
  {
   "cell_type": "markdown",
   "metadata": {},
   "source": [
    "## Feedback"
   ]
  },
  {
   "cell_type": "code",
   "execution_count": null,
   "metadata": {
    "deletable": false,
    "nbgrader": {
     "cell_type": "code",
     "checksum": "ed936ab53a1391c5e6af8df699a1dbf5",
     "grade": false,
     "grade_id": "feedback",
     "locked": false,
     "schema_version": 3,
     "solution": true
    }
   },
   "outputs": [],
   "source": [
    "def feedback():\n",
    "    \"\"\"Provide feedback on the contents of this exercise\n",
    "    \n",
    "    Returns:\n",
    "        string\n",
    "    \"\"\"\n",
    "    # YOUR CODE HERE\n",
    "    raise NotImplementedError()"
   ]
  },
  {
   "cell_type": "code",
   "execution_count": null,
   "metadata": {
    "deletable": false,
    "editable": false,
    "nbgrader": {
     "cell_type": "code",
     "checksum": "f39f6185a54850c2f1f9b5b2a17b7543",
     "grade": true,
     "grade_id": "feedback-tests",
     "locked": true,
     "points": 0,
     "schema_version": 3,
     "solution": false
    }
   },
   "outputs": [],
   "source": []
  },
  {
   "cell_type": "code",
   "execution_count": null,
   "metadata": {},
   "outputs": [],
   "source": []
  }
 ],
 "metadata": {
  "kernelspec": {
   "display_name": "Python 3",
   "language": "python",
   "name": "python3"
  },
  "language_info": {
   "codemirror_mode": {
    "name": "ipython",
    "version": 3
   },
   "file_extension": ".py",
   "mimetype": "text/x-python",
   "name": "python",
   "nbconvert_exporter": "python",
   "pygments_lexer": "ipython3",
   "version": "3.8.10"
  }
 },
 "nbformat": 4,
 "nbformat_minor": 2
}
