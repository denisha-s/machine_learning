{
  "cells": [
    {
      "cell_type": "markdown",
      "metadata": {
        "id": "laXB7tggI5e8"
      },
      "source": [
        "## CSCI 470 Activities and Case Studies\n",
        "\n",
        "1. For all activities, you are allowed to collaborate with a partner.\n",
        "1. For case studies, you should work individually and are **not** allowed to collaborate.\n",
        "\n",
        "By filling out this notebook and submitting it, you acknowledge that you are aware of the above policies and are agreeing to comply with them."
      ]
    },
    {
      "cell_type": "markdown",
      "metadata": {
        "id": "uX8MGA0dI5fA"
      },
      "source": [
        "Some considerations with regard to how these notebooks will be graded:\n",
        "\n",
        "1. Cells in which \"# YOUR CODE HERE\" is found are the cells where your graded code should be written.\n",
        "2. In order to test out or debug your code you may also create notebook cells or edit existing notebook cells other than \"# YOUR CODE HERE\". We actually highly recommend you do so to gain a better understanding of what is happening. However, during grading, **these changes are ignored**.\n",
        "2. You must ensure that all your code for the particular task is available in the cells that say \"# YOUR CODE HERE\"\n",
        "3. Every cell that says \"# YOUR CODE HERE\" is followed by a \"raise NotImplementedError\". You need to remove that line. During grading, if an error occurs then you will not receive points for your work in that section.\n",
        "4. If your code passes the \"assert\" statements, then no output will result. If your code fails the \"assert\" statements, you will get an \"AssertionError\". Getting an assertion error means you will not receive points for that particular task.\n",
        "5. If you edit the \"assert\" statements to make your code pass, they will still fail when they are graded since the \"assert\" statements will revert to the original. Make sure you don't edit the assert statements.\n",
        "6. We may sometimes have \"hidden\" tests for grading. This means that passing the visible \"assert\" statements is not sufficient. The \"assert\" statements are there as a guide but you need to make sure you understand what you're required to do and ensure that you are doing it correctly. Passing the visible tests is necessary but not sufficient to get the grade for that cell.\n",
        "7. When you are asked to define a function, make sure you **don't** use any variables outside of the parameters passed to the function. You can think of the parameters being passed to the function as a hint. Make sure you're using all of those variables.\n",
        "8. Finally, **make sure you run \"Kernel > Restart and Run All\"** and pass all the asserts before submitting. If you don't restart the kernel, there may be some code that you ran and deleted that is still being used and that was why your asserts were passing."
      ]
    },
    {
      "cell_type": "markdown",
      "metadata": {
        "deletable": false,
        "editable": false,
        "id": "peZlh40I73Ql",
        "nbgrader": {
          "cell_type": "markdown",
          "checksum": "24167670d09bdb61d1a595ce5cbb79c9",
          "grade": false,
          "grade_id": "cell-4fb3a6f3d58fd28b",
          "locked": true,
          "schema_version": 3,
          "solution": false
        }
      },
      "source": [
        "# Deep Learning\n",
        "\n",
        "In this exercise, you will use a deep neural network to predict the values of houses based on some provided input data. You will use keras to build the model. Below is a description of how the keras models are set up."
      ]
    },
    {
      "cell_type": "code",
      "execution_count": 1,
      "metadata": {
        "id": "BklNQ52d73Qx",
        "nbgrader": {
          "grade": false,
          "grade_id": "cell-d07727b5ced87bf2",
          "locked": false,
          "schema_version": 3,
          "solution": false
        }
      },
      "outputs": [],
      "source": [
        "import tensorflow as tf\n",
        "import tensorflow.keras as keras\n",
        "import numpy as np\n",
        "from tensorflow.keras import Sequential\n",
        "from tensorflow.keras.layers import Dense, Dropout\n",
        "from tensorflow.keras.optimizers import SGD, Adam\n",
        "\n",
        "import pandas as pd\n",
        "import sklearn\n",
        "from sklearn.datasets import fetch_california_housing\n",
        "from sklearn.model_selection import train_test_split\n",
        "\n",
        "import matplotlib.pyplot as plt\n",
        "\n",
        "plt.style.use(\"ggplot\")\n",
        "np.random.seed(0)\n",
        "tf.random.set_seed(0)"
      ]
    },
    {
      "cell_type": "code",
      "execution_count": 2,
      "metadata": {
        "id": "lOEAeGxU73Qz"
      },
      "outputs": [],
      "source": [
        "house_data = fetch_california_housing()"
      ]
    },
    {
      "cell_type": "code",
      "execution_count": 3,
      "metadata": {
        "colab": {
          "base_uri": "https://localhost:8080/"
        },
        "id": "Rstw6PPE73Q1",
        "outputId": "54d55505-f0a3-401c-f1f6-9e35e81e0e4e"
      },
      "outputs": [
        {
          "output_type": "stream",
          "name": "stdout",
          "text": [
            ".. _california_housing_dataset:\n",
            "\n",
            "California Housing dataset\n",
            "--------------------------\n",
            "\n",
            "**Data Set Characteristics:**\n",
            "\n",
            "    :Number of Instances: 20640\n",
            "\n",
            "    :Number of Attributes: 8 numeric, predictive attributes and the target\n",
            "\n",
            "    :Attribute Information:\n",
            "        - MedInc        median income in block group\n",
            "        - HouseAge      median house age in block group\n",
            "        - AveRooms      average number of rooms per household\n",
            "        - AveBedrms     average number of bedrooms per household\n",
            "        - Population    block group population\n",
            "        - AveOccup      average number of household members\n",
            "        - Latitude      block group latitude\n",
            "        - Longitude     block group longitude\n",
            "\n",
            "    :Missing Attribute Values: None\n",
            "\n",
            "This dataset was obtained from the StatLib repository.\n",
            "https://www.dcc.fc.up.pt/~ltorgo/Regression/cal_housing.html\n",
            "\n",
            "The target variable is the median house value for California districts,\n",
            "expressed in hundreds of thousands of dollars ($100,000).\n",
            "\n",
            "This dataset was derived from the 1990 U.S. census, using one row per census\n",
            "block group. A block group is the smallest geographical unit for which the U.S.\n",
            "Census Bureau publishes sample data (a block group typically has a population\n",
            "of 600 to 3,000 people).\n",
            "\n",
            "A household is a group of people residing within a home. Since the average\n",
            "number of rooms and bedrooms in this dataset are provided per household, these\n",
            "columns may take surprisingly large values for block groups with few households\n",
            "and many empty houses, such as vacation resorts.\n",
            "\n",
            "It can be downloaded/loaded using the\n",
            ":func:`sklearn.datasets.fetch_california_housing` function.\n",
            "\n",
            ".. topic:: References\n",
            "\n",
            "    - Pace, R. Kelley and Ronald Barry, Sparse Spatial Autoregressions,\n",
            "      Statistics and Probability Letters, 33 (1997) 291-297\n",
            "\n"
          ]
        }
      ],
      "source": [
        "print(house_data[\"DESCR\"])"
      ]
    },
    {
      "cell_type": "code",
      "execution_count": 4,
      "metadata": {
        "id": "V6yomxx_73Q2",
        "nbgrader": {
          "grade": false,
          "grade_id": "cell-9b0245844d72bf80",
          "locked": false,
          "schema_version": 3,
          "solution": false
        }
      },
      "outputs": [],
      "source": [
        "house_features = pd.DataFrame(house_data[\"data\"], columns=house_data[\"feature_names\"])\n",
        "house_prices = pd.Series(house_data[\"target\"])\n",
        "x_train, x_test, y_train, y_test = train_test_split(house_features, house_prices, test_size=0.2, random_state=0)"
      ]
    },
    {
      "cell_type": "code",
      "execution_count": 5,
      "metadata": {
        "colab": {
          "base_uri": "https://localhost:8080/"
        },
        "id": "JS1WEyq473Q2",
        "nbgrader": {
          "grade": false,
          "grade_id": "cell-e2de7844f2c7f49e",
          "locked": false,
          "schema_version": 3,
          "solution": false
        },
        "outputId": "1c22cbef-a56c-4063-8a9c-dae4d69ebdfe"
      },
      "outputs": [
        {
          "output_type": "execute_result",
          "data": {
            "text/plain": [
              "(16512, 8)"
            ]
          },
          "metadata": {},
          "execution_count": 5
        }
      ],
      "source": [
        "x_train.shape"
      ]
    },
    {
      "cell_type": "markdown",
      "metadata": {
        "id": "YDDMD-fc73Q2"
      },
      "source": [
        "This tells us that there are 16512 samples with 8 features each."
      ]
    },
    {
      "cell_type": "code",
      "execution_count": 6,
      "metadata": {
        "colab": {
          "base_uri": "https://localhost:8080/"
        },
        "id": "JJUWPv5M73Q3",
        "nbgrader": {
          "grade": false,
          "grade_id": "cell-33b45d559f48738f",
          "locked": false,
          "schema_version": 3,
          "solution": false
        },
        "outputId": "991a1e02-d832-4178-c6c6-743fe45f6ce2"
      },
      "outputs": [
        {
          "output_type": "execute_result",
          "data": {
            "text/plain": [
              "(16512,)"
            ]
          },
          "metadata": {},
          "execution_count": 6
        }
      ],
      "source": [
        "y_train.shape"
      ]
    },
    {
      "cell_type": "markdown",
      "metadata": {
        "id": "Zw7tYjwQ73Q3"
      },
      "source": [
        "This tells us that there are 16512 samples of a single target."
      ]
    },
    {
      "cell_type": "code",
      "execution_count": 7,
      "metadata": {
        "colab": {
          "base_uri": "https://localhost:8080/"
        },
        "id": "X4LXZO6b73Q4",
        "nbgrader": {
          "grade": false,
          "grade_id": "cell-831e0268417ab95a",
          "locked": false,
          "schema_version": 3,
          "solution": false
        },
        "outputId": "3c3bf2a4-cfa8-4110-ea19-8ba1957116db"
      },
      "outputs": [
        {
          "output_type": "execute_result",
          "data": {
            "text/plain": [
              "(2.072498958938953, 1.1569151048305317, 0.14999, 5.00001)"
            ]
          },
          "metadata": {},
          "execution_count": 7
        }
      ],
      "source": [
        "y_train.mean(), y_train.std(), y_train.min(), y_train.max()"
      ]
    },
    {
      "cell_type": "markdown",
      "metadata": {
        "deletable": false,
        "editable": false,
        "id": "4RNTghM_73Q4",
        "nbgrader": {
          "cell_type": "markdown",
          "checksum": "d7c48fef23f2aa185655ff27a0f3859a",
          "grade": false,
          "grade_id": "cell-2f0fe3b3a560d952",
          "locked": true,
          "schema_version": 3,
          "solution": false
        }
      },
      "source": [
        "The keras model consists of multiple parts:\n",
        "\n",
        "1. Construct the model layers, neurons per layer, and activation functions\n",
        "1. Determine the loss function, metrics, and optimization method\n",
        "1. Fit the model to some data\n",
        "1. Evaluate the model using the same metric\n",
        "\n",
        "Some relevant docs:\n",
        " - [initializers](https://keras.io/initializers/)\n",
        " - [loss functions](https://www.tensorflow.org/api_docs/python/tf/keras/losses)\n",
        " - [regularizations](https://keras.io/regularizers/)\n",
        " - [optimizers](https://keras.io/optimizers/)\n",
        " - [metrics](https://www.tensorflow.org/api_docs/python/tf/keras/metrics)\n"
      ]
    },
    {
      "cell_type": "markdown",
      "metadata": {
        "deletable": false,
        "editable": false,
        "id": "5uuYQoLp73Q4",
        "nbgrader": {
          "cell_type": "markdown",
          "checksum": "bf844c11123af1ac74291ba99ac72d3e",
          "grade": false,
          "grade_id": "cell-cae21934fa064b47",
          "locked": true,
          "schema_version": 3,
          "solution": false
        }
      },
      "source": [
        "First, to construct a model, use the [Sequential](https://keras.io/getting-started/sequential-model-guide/) object. You can pass a list of layers to the sequential object. For this exercise, we will only be using the [Dense](https://keras.io/layers/core/#dense) layers."
      ]
    },
    {
      "cell_type": "code",
      "execution_count": 23,
      "metadata": {
        "deletable": false,
        "id": "K6PeTXhf73Q7",
        "nbgrader": {
          "cell_type": "code",
          "checksum": "4d2aac7a6df929de0a6c49c73b3aea00",
          "grade": false,
          "grade_id": "cell-51879de7032d8823",
          "locked": false,
          "schema_version": 3,
          "solution": true
        },
        "colab": {
          "base_uri": "https://localhost:8080/"
        },
        "outputId": "1ca3464a-b454-4da2-884d-a34ecedd7fe1"
      },
      "outputs": [
        {
          "output_type": "stream",
          "name": "stdout",
          "text": [
            "Model: \"sequential_14\"\n",
            "_________________________________________________________________\n",
            " Layer (type)                Output Shape              Param #   \n",
            "=================================================================\n",
            " layer1 (Dense)              (None, 100)               900       \n",
            "                                                                 \n",
            " layer2 (Dense)              (None, 100)               10100     \n",
            "                                                                 \n",
            " layer3 (Dense)              (None, 100)               10100     \n",
            "                                                                 \n",
            " layer4 (Dense)              (None, 1)                 101       \n",
            "                                                                 \n",
            "=================================================================\n",
            "Total params: 21,201\n",
            "Trainable params: 21,201\n",
            "Non-trainable params: 0\n",
            "_________________________________________________________________\n"
          ]
        }
      ],
      "source": [
        "# Create a list of layers with the variable name \"layers\".\n",
        "#\n",
        "# - The list should contain 3 consecutive hidden layers with 100 neurons each,\n",
        "#   and an output layer with 1 neuron.\n",
        "# - In the first layer, you should specify an input_shape. It is not necessary to do so\n",
        "#   in subsequent layers.\n",
        "# - The output layer should have 1 neuron because we are predicting a single regression target.\n",
        "# - Use any activation you like such as \"relu\" or \"tanh\", you can alternate for each layer\n",
        "#   For your first run, try using the linear activation and then see if modifying the activations\n",
        "#   improves the result.\n",
        "\n",
        "# Pass the list to keras.Sequential and save the returned model to the variable name \"model\".\n",
        "\n",
        "# Optional - give each layer a name and see how that shows up in the model summary.\n",
        "\n",
        "# YOUR CODE HERE\n",
        "\n",
        "layers = [\n",
        "    Dense(100, activation=\"relu\", name=\"layer1\", input_shape=(8,)),\n",
        "    Dense(100, activation=\"relu\", name=\"layer2\"),\n",
        "    Dense(100, activation=\"relu\", name=\"layer3\"),\n",
        "    Dense(1, activation=\"relu\", name=\"layer4\")\n",
        "]\n",
        "\n",
        "model = Sequential(layers)\n",
        "model.summary()"
      ]
    },
    {
      "cell_type": "code",
      "execution_count": 24,
      "metadata": {
        "deletable": false,
        "editable": false,
        "id": "_xI-mvPz73Q8",
        "nbgrader": {
          "cell_type": "code",
          "checksum": "bdcadadcfa2f93a7140b16760cc8c79a",
          "grade": true,
          "grade_id": "cell-ee74eff075f222ed",
          "locked": true,
          "points": 5,
          "schema_version": 3,
          "solution": false
        }
      },
      "outputs": [],
      "source": [
        "assert isinstance(model, Sequential)\n",
        "assert len(layers) == 4\n",
        "for i, layer in enumerate(layers):\n",
        "    assert isinstance(layers[i], Dense)\n",
        "    assert layer.weights[1].shape == [100, 100, 100, 1][i]"
      ]
    },
    {
      "cell_type": "code",
      "execution_count": 25,
      "metadata": {
        "id": "YmiRhX-GI5fG"
      },
      "outputs": [],
      "source": [
        "initial_weights = model.get_weights()"
      ]
    },
    {
      "cell_type": "markdown",
      "metadata": {
        "id": "ET37Z5F273Q8"
      },
      "source": [
        "In TensorFlow, models are \"compiled\" before training. Compiling specifies the type of optimizer (e.g., gradient descent) and loss function, and creates code that will run efficiently on your hardware during training and model prediction.\n",
        "\n",
        "Review the model's `compile()` method, and use it to create compiled code in the cell below.  \n",
        "https://www.tensorflow.org/api_docs/python/tf/keras/Model#compile\n",
        "\n",
        "In this notebook we'll use the [stochastic gradient descent (SGD)](https://www.tensorflow.org/api_docs/python/tf/keras/optimizers/SGD) and the [Adam](https://www.tensorflow.org/api_docs/python/tf/keras/optimizers/Adam) optimizers."
      ]
    },
    {
      "cell_type": "code",
      "execution_count": 28,
      "metadata": {
        "deletable": false,
        "id": "M1HSCPWV73Q8",
        "nbgrader": {
          "cell_type": "code",
          "checksum": "c2964c3f063261c63a62d89a699e3c69",
          "grade": false,
          "grade_id": "cell-9c5dcca57115d02a",
          "locked": false,
          "schema_version": 3,
          "solution": true
        }
      },
      "outputs": [],
      "source": [
        "# - Instantiate an SGD optimizer with learning rate of 1e-7, and save it as \"optimizer\"\n",
        "# - Apply the model's .compile() method to set it up for training.\n",
        "#   - Note that you can use each loss and metric's string name rather\n",
        "#     than instantiating a loss or metric object, and passing the object.\n",
        "#     Because we want to set a non-defaul learning rate, we must\n",
        "#     instantiate an optimizer object and pass that to compile(), rather\n",
        "#     than an optimizer string name.\n",
        "\n",
        "# Set up the model to do the following:\n",
        "# - use stochastic gradient descent (sgd) to fit the model (via your 'optimizer' object)\n",
        "# - use mean absolute error (mae) as its *loss function*\n",
        "# - use mean absolute error (mae) as one of its *metrics*\n",
        "# - use mean squared error (mae) as one of its *metrics*\n",
        "\n",
        "# YOUR CODE HERE\n",
        "optimizer = SGD(learning_rate=1e-7)\n",
        "\n",
        "model.compile(optimizer=optimizer,\n",
        "              loss='mae',\n",
        "              metrics=['mae', 'mse'])"
      ]
    },
    {
      "cell_type": "code",
      "execution_count": 29,
      "metadata": {
        "deletable": false,
        "editable": false,
        "id": "rPDkIZNE73RA",
        "nbgrader": {
          "cell_type": "code",
          "checksum": "7834482fb4dcda0fbfd736e59ef85ab7",
          "grade": true,
          "grade_id": "cell-0746e29c34118826",
          "locked": true,
          "points": 5,
          "schema_version": 3,
          "solution": false
        }
      },
      "outputs": [],
      "source": [
        "assert isinstance(model.optimizer, keras.optimizers.SGD)\n",
        "assert model.loss in [\"mae\", \"mean_absolute_error\"]"
      ]
    },
    {
      "cell_type": "markdown",
      "metadata": {
        "id": "qTmISZBWI5fG"
      },
      "source": [
        "Now we'll train the model for 50 epochs with a batch size of 1000. This means the following:\n",
        "\n",
        "- The training set will be split into batches, each composed of 1000 samples.\n",
        "- Each batch will be processed by the neural network to produce 1000 predications.\n",
        "- The predictions will be compared against the targets to compute the losses.\n",
        "- The loss values are passed backwards through the network to compute the loss gradients for those 1000 samples.\n",
        "- Via the SGD procedure, the averages of those 1000 gradients are used to update the model's parameters.\n",
        "- After all batches have been processed in this manner, one \"epoch\" has been completed.\n",
        "- This is done again and again until the number of specified epochs (50) are completed."
      ]
    },
    {
      "cell_type": "code",
      "execution_count": 30,
      "metadata": {
        "colab": {
          "base_uri": "https://localhost:8080/"
        },
        "id": "rHtGEIqL73RE",
        "nbgrader": {
          "grade": false,
          "grade_id": "cell-d8bbd77fa779d371",
          "locked": false,
          "schema_version": 3,
          "solution": false
        },
        "outputId": "391d8668-76db-4d18-e16d-4039843abe7e"
      },
      "outputs": [
        {
          "output_type": "stream",
          "name": "stdout",
          "text": [
            "Epoch 1/20\n",
            "17/17 [==============================] - 1s 8ms/step - loss: 28.2872 - mae: 28.2872 - mse: 1566.2021\n",
            "Epoch 2/20\n",
            "17/17 [==============================] - 0s 8ms/step - loss: 22.7396 - mae: 22.7396 - mse: 1054.5820\n",
            "Epoch 3/20\n",
            "17/17 [==============================] - 0s 9ms/step - loss: 17.2080 - mae: 17.2080 - mse: 651.6707\n",
            "Epoch 4/20\n",
            "17/17 [==============================] - 0s 8ms/step - loss: 11.7979 - mae: 11.7979 - mse: 356.0590\n",
            "Epoch 5/20\n",
            "17/17 [==============================] - 0s 8ms/step - loss: 6.9721 - mae: 6.9721 - mse: 157.3823\n",
            "Epoch 6/20\n",
            "17/17 [==============================] - 0s 9ms/step - loss: 3.8622 - mae: 3.8622 - mse: 59.4447\n",
            "Epoch 7/20\n",
            "17/17 [==============================] - 0s 9ms/step - loss: 2.7123 - mae: 2.7123 - mse: 28.2538\n",
            "Epoch 8/20\n",
            "17/17 [==============================] - 0s 8ms/step - loss: 2.4212 - mae: 2.4212 - mse: 18.5667\n",
            "Epoch 9/20\n",
            "17/17 [==============================] - 0s 13ms/step - loss: 2.3285 - mae: 2.3285 - mse: 14.7166\n",
            "Epoch 10/20\n",
            "17/17 [==============================] - 0s 14ms/step - loss: 2.2775 - mae: 2.2775 - mse: 12.5978\n",
            "Epoch 11/20\n",
            "17/17 [==============================] - 0s 13ms/step - loss: 2.2424 - mae: 2.2424 - mse: 11.0677\n",
            "Epoch 12/20\n",
            "17/17 [==============================] - 0s 13ms/step - loss: 2.2124 - mae: 2.2124 - mse: 9.9691\n",
            "Epoch 13/20\n",
            "17/17 [==============================] - 0s 13ms/step - loss: 2.1802 - mae: 2.1802 - mse: 8.8449\n",
            "Epoch 14/20\n",
            "17/17 [==============================] - 0s 12ms/step - loss: 2.1524 - mae: 2.1524 - mse: 7.8777\n",
            "Epoch 15/20\n",
            "17/17 [==============================] - 0s 11ms/step - loss: 2.1298 - mae: 2.1298 - mse: 7.2415\n",
            "Epoch 16/20\n",
            "17/17 [==============================] - 0s 11ms/step - loss: 2.1142 - mae: 2.1142 - mse: 6.8528\n",
            "Epoch 17/20\n",
            "17/17 [==============================] - 0s 11ms/step - loss: 2.1042 - mae: 2.1042 - mse: 6.5812\n",
            "Epoch 18/20\n",
            "17/17 [==============================] - 0s 11ms/step - loss: 2.0967 - mae: 2.0967 - mse: 6.3593\n",
            "Epoch 19/20\n",
            "17/17 [==============================] - 0s 12ms/step - loss: 2.0902 - mae: 2.0902 - mse: 6.2059\n",
            "Epoch 20/20\n",
            "17/17 [==============================] - 0s 11ms/step - loss: 2.0854 - mae: 2.0854 - mse: 6.0942\n"
          ]
        }
      ],
      "source": [
        "# Now fit the model\n",
        "n_epochs = 20\n",
        "history = model.fit(x_train, y_train, batch_size=1000, epochs=n_epochs)"
      ]
    },
    {
      "cell_type": "markdown",
      "metadata": {
        "id": "_zpwloLkI5fH"
      },
      "source": [
        "We had you set the learning rate to a very small value, so you could seed the iterative improvement across training epochs. More typicaly learning rates are 1e-3 or 1e-4, but the housing data is so \"simple\" relative to the power of our neural network, we would have had pretty good convergence within a single epoch, and you would not have been able to observe the more typical, steady progress to convergence."
      ]
    },
    {
      "cell_type": "code",
      "execution_count": 31,
      "metadata": {
        "colab": {
          "base_uri": "https://localhost:8080/",
          "height": 432
        },
        "id": "zi8dTaFSI5fH",
        "outputId": "fdd24d5a-ebaa-43d4-8149-ef17b6f8a5ce"
      },
      "outputs": [
        {
          "output_type": "stream",
          "name": "stdout",
          "text": [
            "Training loss on the final epoch was: 2.0854\n"
          ]
        },
        {
          "output_type": "display_data",
          "data": {
            "text/plain": [
              "<Figure size 1200x400 with 2 Axes>"
            ],
            "image/png": "[encoded data removed]"
          },
          "metadata": {}
        }
      ],
      "source": [
        "# Let's plot the training set loss as a function of training epoch, as well\n",
        "# as the metric scores. In general, if you don't see your loss curve flatten\n",
        "# at the end of the training session, you'l want to increase the number of\n",
        "# training epochs, or increase the learning rate.\n",
        "#\n",
        "# In this case, if it doesn't look nearly flat than you've likely specified\n",
        "# your model or learning rate incorrectly.\n",
        "\n",
        "plt.figure(figsize=(12, 4))\n",
        "plt.subplot(1, 2, 1)\n",
        "plt.plot(np.arange(1, n_epochs+1), history.history['loss'])\n",
        "plt.title('Training set loss')\n",
        "plt.xlabel('Epoch')\n",
        "plt.ylabel('Loss')\n",
        "\n",
        "plt.subplot(1, 2, 2)\n",
        "plt.semilogy(np.arange(1, n_epochs+1), history.history['mae'], label='mae')\n",
        "plt.semilogy(np.arange(1, n_epochs+1), history.history['mse'], label='mse')\n",
        "plt.legend()\n",
        "plt.title('Training set metric scores')\n",
        "plt.xlabel('Epoch')\n",
        "plt.ylabel('Error')\n",
        "\n",
        "print(f\"Training loss on the final epoch was: {history.history['loss'][-1]:0.4f}\")"
      ]
    },
    {
      "cell_type": "code",
      "execution_count": 32,
      "metadata": {
        "colab": {
          "base_uri": "https://localhost:8080/"
        },
        "id": "u-9dv4rc73RE",
        "nbgrader": {
          "grade": false,
          "grade_id": "cell-d280c00c6cabc586",
          "locked": false,
          "schema_version": 3,
          "solution": false
        },
        "outputId": "96f830c6-c489-4540-b7b3-aed9d08ed119"
      },
      "outputs": [
        {
          "output_type": "stream",
          "name": "stdout",
          "text": [
            "129/129 [==============================] - 0s 2ms/step - loss: 2.0561 - mae: 2.0561 - mse: 5.6857\n"
          ]
        },
        {
          "output_type": "execute_result",
          "data": {
            "text/plain": [
              "[2.05610728263855, 2.05610728263855, 5.685740947723389]"
            ]
          },
          "metadata": {},
          "execution_count": 32
        }
      ],
      "source": [
        "# Here we can evaluate how our model does based on the test data\n",
        "model.evaluate(x_test, y_test)"
      ]
    },
    {
      "cell_type": "markdown",
      "metadata": {
        "deletable": false,
        "editable": false,
        "id": "HjQ6dSYs73RF",
        "nbgrader": {
          "cell_type": "markdown",
          "checksum": "326bc26a2d582914d7afc0a6aef3f52a",
          "grade": false,
          "grade_id": "cell-f88eeeebe2137b4d",
          "locked": true,
          "schema_version": 3,
          "solution": false
        }
      },
      "source": [
        "Now let's try another optimizer instead of stochastic gradient descent (SGD). [Adam](https://keras.io/optimizers/#adam) is the recommended default for training neural networks since it usually performs quite well. In the next cell, compile the model with Adam instead of SGD and use the same loss and metrics. After compiling, fit the data for as many epochs as you think it takes to see the value start to converge."
      ]
    },
    {
      "cell_type": "code",
      "execution_count": 36,
      "metadata": {
        "colab": {
          "base_uri": "https://localhost:8080/"
        },
        "deletable": false,
        "id": "tbkjvYLx73RF",
        "nbgrader": {
          "cell_type": "code",
          "checksum": "31fc47c0632aae2847e9b28ad900c2fe",
          "grade": false,
          "grade_id": "cell-bee688f3d919be61",
          "locked": false,
          "schema_version": 3,
          "solution": true
        },
        "outputId": "9573b009-2ba9-4290-aa56-7e822099c59a"
      },
      "outputs": [
        {
          "output_type": "stream",
          "name": "stdout",
          "text": [
            "Epoch 1/20\n",
            "17/17 [==============================] - 1s 12ms/step - loss: 23.7263 - mae: 23.7263 - mse: 1169.3585\n",
            "Epoch 2/20\n",
            "17/17 [==============================] - 0s 12ms/step - loss: 8.8930 - mae: 8.8930 - mse: 235.0701\n",
            "Epoch 3/20\n",
            "17/17 [==============================] - 0s 17ms/step - loss: 2.2510 - mae: 2.2510 - mse: 10.2909\n",
            "Epoch 4/20\n",
            "17/17 [==============================] - 0s 16ms/step - loss: 2.0729 - mae: 2.0729 - mse: 5.6367\n",
            "Epoch 5/20\n",
            "17/17 [==============================] - 0s 15ms/step - loss: 2.0725 - mae: 2.0725 - mse: 5.6336\n",
            "Epoch 6/20\n",
            "17/17 [==============================] - 0s 15ms/step - loss: 2.0725 - mae: 2.0725 - mse: 5.6336\n",
            "Epoch 7/20\n",
            "17/17 [==============================] - 0s 16ms/step - loss: 2.0725 - mae: 2.0725 - mse: 5.6336\n",
            "Epoch 8/20\n",
            "17/17 [==============================] - 0s 15ms/step - loss: 2.0725 - mae: 2.0725 - mse: 5.6336\n",
            "Epoch 9/20\n",
            "17/17 [==============================] - 0s 13ms/step - loss: 2.0725 - mae: 2.0725 - mse: 5.6336\n",
            "Epoch 10/20\n",
            "17/17 [==============================] - 0s 9ms/step - loss: 2.0725 - mae: 2.0725 - mse: 5.6336\n",
            "Epoch 11/20\n",
            "17/17 [==============================] - 0s 10ms/step - loss: 2.0725 - mae: 2.0725 - mse: 5.6336\n",
            "Epoch 12/20\n",
            "17/17 [==============================] - 0s 10ms/step - loss: 2.0725 - mae: 2.0725 - mse: 5.6336\n",
            "Epoch 13/20\n",
            "17/17 [==============================] - 0s 9ms/step - loss: 2.0725 - mae: 2.0725 - mse: 5.6336\n",
            "Epoch 14/20\n",
            "17/17 [==============================] - 0s 9ms/step - loss: 2.0725 - mae: 2.0725 - mse: 5.6336\n",
            "Epoch 15/20\n",
            "17/17 [==============================] - 0s 9ms/step - loss: 2.0725 - mae: 2.0725 - mse: 5.6336\n",
            "Epoch 16/20\n",
            "17/17 [==============================] - 0s 9ms/step - loss: 2.0725 - mae: 2.0725 - mse: 5.6336\n",
            "Epoch 17/20\n",
            "17/17 [==============================] - 0s 8ms/step - loss: 2.0725 - mae: 2.0725 - mse: 5.6336\n",
            "Epoch 18/20\n",
            "17/17 [==============================] - 0s 9ms/step - loss: 2.0725 - mae: 2.0725 - mse: 5.6336\n",
            "Epoch 19/20\n",
            "17/17 [==============================] - 0s 8ms/step - loss: 2.0725 - mae: 2.0725 - mse: 5.6336\n",
            "Epoch 20/20\n",
            "17/17 [==============================] - 0s 8ms/step - loss: 2.0725 - mae: 2.0725 - mse: 5.6336\n"
          ]
        }
      ],
      "source": [
        "# - Instantiate an Adam optimizer with learning rate of 1e-5, and save it as \"optimizer\"\n",
        "# - Recompile the model using Adam and the same loss and metrics as previously\n",
        "# - Call .fit() to train you model, using a batch size of 1000. You choose the number of epochs.\n",
        "# - Note that we are now using a larger learning rate, so convergence\n",
        "#   should occur more quickly.\n",
        "\n",
        "# Before starting, we'll reset the model parameters back to their original,\n",
        "# random state, so we aren't trying to train an already trained model.\n",
        "model.set_weights(initial_weights)\n",
        "\n",
        "# YOUR CODE HERE\n",
        "optimizer = Adam(learning_rate=1e-5)\n",
        "\n",
        "model.compile(optimizer=optimizer,\n",
        "              loss='mae',\n",
        "              metrics=['mae', 'mse'])\n",
        "\n",
        "history = model.fit(x_train, y_train,\n",
        "                    batch_size=1000,\n",
        "                    epochs=20)"
      ]
    },
    {
      "cell_type": "code",
      "execution_count": 37,
      "metadata": {
        "deletable": false,
        "editable": false,
        "id": "p1qfXNGA73RG",
        "nbgrader": {
          "cell_type": "code",
          "checksum": "526079ba3785fa572cc21eb9fd5fb7af",
          "grade": true,
          "grade_id": "cell-fe8cd91b8b780964",
          "locked": true,
          "points": 5,
          "schema_version": 3,
          "solution": false
        }
      },
      "outputs": [],
      "source": [
        "assert isinstance(model.optimizer, keras.optimizers.Adam)\n",
        "assert model.loss in [\"mae\", \"mean_absolute_error\"]"
      ]
    },
    {
      "cell_type": "code",
      "execution_count": null,
      "metadata": {
        "id": "W_t7W2xD73RG"
      },
      "outputs": [],
      "source": [
        "# You can optionally visualize the model here, with some added package installs.\n",
        "\n",
        "# tf.keras.utils.plot_model(model, show_shapes=True, show_layer_names=True)"
      ]
    },
    {
      "cell_type": "code",
      "execution_count": 38,
      "metadata": {
        "colab": {
          "base_uri": "https://localhost:8080/",
          "height": 432
        },
        "id": "aUKP0FXhI5fJ",
        "outputId": "e8fb74f5-1cbe-4e26-c732-020de6aa69eb"
      },
      "outputs": [
        {
          "output_type": "stream",
          "name": "stdout",
          "text": [
            "Training loss on the final epoch was: 2.0725\n"
          ]
        },
        {
          "output_type": "display_data",
          "data": {
            "text/plain": [
              "<Figure size 1200x400 with 2 Axes>"
            ],
            "image/png": "[encoded data removed]"
          },
          "metadata": {}
        }
      ],
      "source": [
        "# Let's plot the training loss and metric scores again\n",
        "\n",
        "plt.figure(figsize=(12, 4))\n",
        "plt.subplot(1, 2, 1)\n",
        "plt.plot(np.arange(1, n_epochs+1), history.history['loss'])\n",
        "plt.title('Training set loss')\n",
        "plt.xlabel('Epoch')\n",
        "plt.ylabel('Loss')\n",
        "\n",
        "plt.subplot(1, 2, 2)\n",
        "plt.semilogy(np.arange(1, n_epochs+1), history.history['mae'], label='mae')\n",
        "plt.semilogy(np.arange(1, n_epochs+1), history.history['mse'], label='mse')\n",
        "plt.legend()\n",
        "plt.title('Training set metric scores')\n",
        "plt.xlabel('Epoch')\n",
        "plt.ylabel('Error')\n",
        "\n",
        "print(f\"Training loss on the final epoch was: {history.history['loss'][-1]:0.4f}\")"
      ]
    },
    {
      "cell_type": "code",
      "execution_count": 39,
      "metadata": {
        "colab": {
          "base_uri": "https://localhost:8080/"
        },
        "id": "R3zBxrMk73RG",
        "nbgrader": {
          "grade": false,
          "grade_id": "cell-d5b63d6e873e152e",
          "locked": false,
          "schema_version": 3,
          "solution": false
        },
        "outputId": "3bc3727b-c057-4d96-f855-a1f2c98f7a98"
      },
      "outputs": [
        {
          "output_type": "stream",
          "name": "stdout",
          "text": [
            "129/129 [==============================] - 0s 2ms/step - loss: 2.0528 - mae: 2.0528 - mse: 5.5179\n"
          ]
        },
        {
          "output_type": "execute_result",
          "data": {
            "text/plain": [
              "[2.052795171737671, 2.052795171737671, 5.517921447753906]"
            ]
          },
          "metadata": {},
          "execution_count": 39
        }
      ],
      "source": [
        "model.evaluate(x_test, y_test)"
      ]
    },
    {
      "cell_type": "markdown",
      "metadata": {
        "deletable": false,
        "editable": false,
        "id": "3k88_NmP73RH",
        "nbgrader": {
          "cell_type": "markdown",
          "checksum": "d16731044b4c469ddea89069b3100569",
          "grade": false,
          "grade_id": "cell-9ce06e7b86737575",
          "locked": true,
          "schema_version": 3,
          "solution": false
        }
      },
      "source": [
        "Now recreate the model, again named `model`, with dropout layers. Add two dropout layers, using [`Dropout`](https://www.tensorflow.org/api_docs/python/tf/keras/layers/Dropout), one after the first layer of neurons and one after the second layer of neurons.\n",
        "Create a new list of layers, and name it `layers`, rather than reusing your old list (so that the model parameters will be randomly initialized again). Then construct the model as before.\n",
        "Select a low value of dropout (say, <0.1) that results in a good score."
      ]
    },
    {
      "cell_type": "code",
      "execution_count": 51,
      "metadata": {
        "deletable": false,
        "id": "HUy6UJp273RH",
        "nbgrader": {
          "cell_type": "code",
          "checksum": "6b57f0598104624eee5418f3a538acac",
          "grade": false,
          "grade_id": "cell-d5040e44398f8dc9",
          "locked": false,
          "schema_version": 3,
          "solution": true
        }
      },
      "outputs": [],
      "source": [
        "# Create your new model, with dropout layers.\n",
        "\n",
        "# YOUR CODE HERE\n",
        "layers = [Dense(100, activation=\"relu\", name=\"layer1\", input_shape=(8,)),\n",
        "          Dropout(0.1, name='dropout1'),\n",
        "          Dense(100, activation=\"relu\", name=\"layer2\"),\n",
        "          Dropout(0.1, name='dropout2'),\n",
        "          Dense(100, activation=\"relu\", name=\"layer3\"),\n",
        "          Dense(1, activation=\"relu\", name=\"layer4\")]\n",
        "\n",
        "model = Sequential(layers)"
      ]
    },
    {
      "cell_type": "code",
      "execution_count": 52,
      "metadata": {
        "colab": {
          "base_uri": "https://localhost:8080/"
        },
        "id": "7LeG72RM73RO",
        "nbgrader": {
          "grade": false,
          "grade_id": "cell-6179f8d29fe18a67",
          "locked": false,
          "schema_version": 3,
          "solution": false
        },
        "outputId": "f97a7903-8281-42f2-89f2-e8a1dd08d758"
      },
      "outputs": [
        {
          "output_type": "stream",
          "name": "stdout",
          "text": [
            "Model: \"sequential_21\"\n",
            "_________________________________________________________________\n",
            " Layer (type)                Output Shape              Param #   \n",
            "=================================================================\n",
            " layer1 (Dense)              (None, 100)               900       \n",
            "                                                                 \n",
            " dropout1 (Dropout)          (None, 100)               0         \n",
            "                                                                 \n",
            " layer2 (Dense)              (None, 100)               10100     \n",
            "                                                                 \n",
            " dropout2 (Dropout)          (None, 100)               0         \n",
            "                                                                 \n",
            " layer3 (Dense)              (None, 100)               10100     \n",
            "                                                                 \n",
            " layer4 (Dense)              (None, 1)                 101       \n",
            "                                                                 \n",
            "=================================================================\n",
            "Total params: 21,201\n",
            "Trainable params: 21,201\n",
            "Non-trainable params: 0\n",
            "_________________________________________________________________\n"
          ]
        }
      ],
      "source": [
        "model.summary()"
      ]
    },
    {
      "cell_type": "code",
      "execution_count": 53,
      "metadata": {
        "deletable": false,
        "editable": false,
        "id": "MtrNxcUo73RO",
        "nbgrader": {
          "cell_type": "code",
          "checksum": "1112b38e98fd56d9af81ced88c256d10",
          "grade": true,
          "grade_id": "cell-b6c7e6e2ddc6742a",
          "locked": true,
          "points": 5,
          "schema_version": 3,
          "solution": false
        }
      },
      "outputs": [],
      "source": [
        "assert len(layers) == 6\n",
        "assert isinstance(layers[1], Dropout)\n",
        "assert isinstance(layers[3], Dropout)\n",
        "for i,layer in enumerate(layers):\n",
        "    if i not in [1,3]:\n",
        "        assert isinstance(layers[i], keras.layers.Dense)\n",
        "        assert layer.weights[1].shape == [100, 0, 100, 0, 100, 1][i]"
      ]
    },
    {
      "cell_type": "code",
      "execution_count": 54,
      "metadata": {
        "colab": {
          "base_uri": "https://localhost:8080/"
        },
        "id": "0LVaKsFK73RO",
        "nbgrader": {
          "grade": false,
          "grade_id": "cell-9ed3ec168ee4a1e5",
          "locked": false,
          "schema_version": 3,
          "solution": false
        },
        "outputId": "ea315d92-7e1e-4aa8-89f3-93cbcc741fb4"
      },
      "outputs": [
        {
          "output_type": "stream",
          "name": "stdout",
          "text": [
            "Epoch 1/50\n",
            "17/17 [==============================] - 1s 12ms/step - loss: 32.2146 - mae: 32.2146 - mse: 4213.3271\n",
            "Epoch 2/50\n",
            "17/17 [==============================] - 0s 14ms/step - loss: 22.9853 - mae: 22.9853 - mse: 1886.4014\n",
            "Epoch 3/50\n",
            "17/17 [==============================] - 0s 13ms/step - loss: 16.2151 - mae: 16.2151 - mse: 1218.4020\n",
            "Epoch 4/50\n",
            "17/17 [==============================] - 0s 13ms/step - loss: 11.8372 - mae: 11.8372 - mse: 749.5369\n",
            "Epoch 5/50\n",
            "17/17 [==============================] - 0s 14ms/step - loss: 8.7459 - mae: 8.7459 - mse: 449.9289\n",
            "Epoch 6/50\n",
            "17/17 [==============================] - 0s 13ms/step - loss: 7.1228 - mae: 7.1228 - mse: 335.4692\n",
            "Epoch 7/50\n",
            "17/17 [==============================] - 0s 14ms/step - loss: 5.7941 - mae: 5.7941 - mse: 258.8836\n",
            "Epoch 8/50\n",
            "17/17 [==============================] - 0s 13ms/step - loss: 5.0222 - mae: 5.0222 - mse: 185.5269\n",
            "Epoch 9/50\n",
            "17/17 [==============================] - 0s 14ms/step - loss: 4.4401 - mae: 4.4401 - mse: 146.0096\n",
            "Epoch 10/50\n",
            "17/17 [==============================] - 0s 14ms/step - loss: 4.0381 - mae: 4.0381 - mse: 113.0572\n",
            "Epoch 11/50\n",
            "17/17 [==============================] - 0s 13ms/step - loss: 3.7351 - mae: 3.7351 - mse: 96.5120\n",
            "Epoch 12/50\n",
            "17/17 [==============================] - 0s 14ms/step - loss: 3.4353 - mae: 3.4353 - mse: 99.9761\n",
            "Epoch 13/50\n",
            "17/17 [==============================] - 0s 13ms/step - loss: 3.2805 - mae: 3.2805 - mse: 64.0552\n",
            "Epoch 14/50\n",
            "17/17 [==============================] - 0s 14ms/step - loss: 3.1443 - mae: 3.1443 - mse: 75.7000\n",
            "Epoch 15/50\n",
            "17/17 [==============================] - 0s 15ms/step - loss: 2.8362 - mae: 2.8362 - mse: 40.2650\n",
            "Epoch 16/50\n",
            "17/17 [==============================] - 0s 13ms/step - loss: 2.8588 - mae: 2.8588 - mse: 46.4160\n",
            "Epoch 17/50\n",
            "17/17 [==============================] - 0s 13ms/step - loss: 2.7073 - mae: 2.7073 - mse: 34.4121\n",
            "Epoch 18/50\n",
            "17/17 [==============================] - 0s 14ms/step - loss: 2.6527 - mae: 2.6527 - mse: 30.4632\n",
            "Epoch 19/50\n",
            "17/17 [==============================] - 0s 13ms/step - loss: 2.6158 - mae: 2.6158 - mse: 40.3142\n",
            "Epoch 20/50\n",
            "17/17 [==============================] - 0s 14ms/step - loss: 2.5979 - mae: 2.5979 - mse: 31.8416\n",
            "Epoch 21/50\n",
            "17/17 [==============================] - 0s 13ms/step - loss: 2.5079 - mae: 2.5079 - mse: 25.7014\n",
            "Epoch 22/50\n",
            "17/17 [==============================] - 0s 13ms/step - loss: 2.5115 - mae: 2.5115 - mse: 27.2226\n",
            "Epoch 23/50\n",
            "17/17 [==============================] - 0s 12ms/step - loss: 2.4194 - mae: 2.4194 - mse: 18.7275\n",
            "Epoch 24/50\n",
            "17/17 [==============================] - 0s 12ms/step - loss: 2.4332 - mae: 2.4332 - mse: 25.4427\n",
            "Epoch 25/50\n",
            "17/17 [==============================] - 0s 11ms/step - loss: 2.3337 - mae: 2.3337 - mse: 15.7927\n",
            "Epoch 26/50\n",
            "17/17 [==============================] - 0s 12ms/step - loss: 2.3787 - mae: 2.3787 - mse: 21.0222\n",
            "Epoch 27/50\n",
            "17/17 [==============================] - 0s 12ms/step - loss: 2.3319 - mae: 2.3319 - mse: 18.9163\n",
            "Epoch 28/50\n",
            "17/17 [==============================] - 0s 15ms/step - loss: 2.3409 - mae: 2.3409 - mse: 24.7859\n",
            "Epoch 29/50\n",
            "17/17 [==============================] - 0s 14ms/step - loss: 2.2895 - mae: 2.2895 - mse: 15.2503\n",
            "Epoch 30/50\n",
            "17/17 [==============================] - 0s 14ms/step - loss: 2.2770 - mae: 2.2770 - mse: 13.7132\n",
            "Epoch 31/50\n",
            "17/17 [==============================] - 0s 14ms/step - loss: 2.3204 - mae: 2.3204 - mse: 24.3904\n",
            "Epoch 32/50\n",
            "17/17 [==============================] - 0s 13ms/step - loss: 2.2333 - mae: 2.2333 - mse: 11.7148\n",
            "Epoch 33/50\n",
            "17/17 [==============================] - 0s 15ms/step - loss: 2.2394 - mae: 2.2394 - mse: 11.6700\n",
            "Epoch 34/50\n",
            "17/17 [==============================] - 0s 13ms/step - loss: 2.2916 - mae: 2.2916 - mse: 21.4707\n",
            "Epoch 35/50\n",
            "17/17 [==============================] - 0s 14ms/step - loss: 2.2277 - mae: 2.2277 - mse: 11.8693\n",
            "Epoch 36/50\n",
            "17/17 [==============================] - 0s 18ms/step - loss: 2.2202 - mae: 2.2202 - mse: 12.4037\n",
            "Epoch 37/50\n",
            "17/17 [==============================] - 0s 19ms/step - loss: 2.2013 - mae: 2.2013 - mse: 10.0931\n",
            "Epoch 38/50\n",
            "17/17 [==============================] - 0s 18ms/step - loss: 2.1798 - mae: 2.1798 - mse: 9.5341\n",
            "Epoch 39/50\n",
            "17/17 [==============================] - 0s 17ms/step - loss: 2.1975 - mae: 2.1975 - mse: 11.3433\n",
            "Epoch 40/50\n",
            "17/17 [==============================] - 0s 17ms/step - loss: 2.2215 - mae: 2.2215 - mse: 11.8086\n",
            "Epoch 41/50\n",
            "17/17 [==============================] - 0s 17ms/step - loss: 2.1687 - mae: 2.1687 - mse: 8.8677\n",
            "Epoch 42/50\n",
            "17/17 [==============================] - 0s 18ms/step - loss: 2.1932 - mae: 2.1932 - mse: 11.1555\n",
            "Epoch 43/50\n",
            "17/17 [==============================] - 0s 20ms/step - loss: 2.1613 - mae: 2.1613 - mse: 8.7165\n",
            "Epoch 44/50\n",
            "17/17 [==============================] - 0s 22ms/step - loss: 2.1705 - mae: 2.1705 - mse: 10.0140\n",
            "Epoch 45/50\n",
            "17/17 [==============================] - 0s 20ms/step - loss: 2.1709 - mae: 2.1709 - mse: 9.4916\n",
            "Epoch 46/50\n",
            "17/17 [==============================] - 0s 12ms/step - loss: 2.1620 - mae: 2.1620 - mse: 9.2885\n",
            "Epoch 47/50\n",
            "17/17 [==============================] - 0s 12ms/step - loss: 2.1621 - mae: 2.1621 - mse: 9.6308\n",
            "Epoch 48/50\n",
            "17/17 [==============================] - 0s 12ms/step - loss: 2.1794 - mae: 2.1794 - mse: 11.6952\n",
            "Epoch 49/50\n",
            "17/17 [==============================] - 0s 12ms/step - loss: 2.1758 - mae: 2.1758 - mse: 9.0438\n",
            "Epoch 50/50\n",
            "17/17 [==============================] - 0s 12ms/step - loss: 2.1612 - mae: 2.1612 - mse: 9.8198\n"
          ]
        }
      ],
      "source": [
        "# Because dropout reduces the convergence rate (but may ultimately coverge to\n",
        "# a lower loss), it sometimes requires training for more epochs than otherwise.\n",
        "\n",
        "optimizer = Adam(learning_rate=1e-5)\n",
        "model.compile(optimizer=optimizer, loss='mae', metrics=['mae', \"mse\"])\n",
        "n_epochs = 50\n",
        "history = model.fit(x_train, y_train, batch_size=1000, epochs=n_epochs, verbose=1)"
      ]
    },
    {
      "cell_type": "code",
      "execution_count": 55,
      "metadata": {
        "colab": {
          "base_uri": "https://localhost:8080/",
          "height": 432
        },
        "id": "fHtte7_CI5fK",
        "outputId": "2d545815-95aa-4a87-f5cc-5f34719007d9"
      },
      "outputs": [
        {
          "output_type": "stream",
          "name": "stdout",
          "text": [
            "Training loss on the final epoch was: 2.1612\n"
          ]
        },
        {
          "output_type": "display_data",
          "data": {
            "text/plain": [
              "<Figure size 1200x400 with 2 Axes>"
            ],
            "image/png": "[encoded data removed]"
          },
          "metadata": {}
        }
      ],
      "source": [
        "# Let's plot the training loss and metric scores again\n",
        "\n",
        "plt.figure(figsize=(12, 4))\n",
        "plt.subplot(1, 2, 1)\n",
        "plt.plot(np.arange(1, n_epochs+1), history.history['loss'])\n",
        "plt.title('Training set loss')\n",
        "plt.xlabel('Epoch')\n",
        "plt.ylabel('Loss')\n",
        "\n",
        "plt.subplot(1, 2, 2)\n",
        "plt.semilogy(np.arange(1, n_epochs+1), history.history['mae'], label='mae')\n",
        "plt.semilogy(np.arange(1, n_epochs+1), history.history['mse'], label='mse')\n",
        "plt.legend()\n",
        "plt.title('Training set metric scores')\n",
        "plt.xlabel('Epoch')\n",
        "plt.ylabel('Error')\n",
        "\n",
        "print(f\"Training loss on the final epoch was: {history.history['loss'][-1]:0.4f}\")"
      ]
    },
    {
      "cell_type": "code",
      "execution_count": 56,
      "metadata": {
        "colab": {
          "base_uri": "https://localhost:8080/"
        },
        "id": "bqhv84IvI5fK",
        "outputId": "f851073d-98fd-4dd0-da77-e0e89de756ed"
      },
      "outputs": [
        {
          "output_type": "stream",
          "name": "stdout",
          "text": [
            "129/129 [==============================] - 0s 2ms/step - loss: 2.0528 - mae: 2.0528 - mse: 5.5179\n"
          ]
        },
        {
          "output_type": "execute_result",
          "data": {
            "text/plain": [
              "[2.052795171737671, 2.052795171737671, 5.517921447753906]"
            ]
          },
          "metadata": {},
          "execution_count": 56
        }
      ],
      "source": [
        "model.evaluate(x_test, y_test)"
      ]
    },
    {
      "cell_type": "markdown",
      "metadata": {
        "deletable": false,
        "editable": false,
        "id": "LUex7SPp73RO",
        "nbgrader": {
          "cell_type": "markdown",
          "checksum": "f892cfea01ec6c2301d8cf6df12f2bfc",
          "grade": false,
          "grade_id": "cell-06909b3cd0248748",
          "locked": true,
          "schema_version": 3,
          "solution": false
        }
      },
      "source": [
        "Select a dropout rate that gets an okay score--one that is sufficient to pass the following `assert` test.\n",
        "\n",
        "Note that in this case, dropout did not likely result in better loss or metric scores on the test set versus the models without dropout. Dropout does not always help, but it sometimes does, especially if you have a very large model but a somewhat undersized dataset. In that case, dropout serves as a regularization technique, like L1- or L2-norm weight penalty terms in linear regression."
      ]
    },
    {
      "cell_type": "code",
      "execution_count": 57,
      "metadata": {
        "colab": {
          "base_uri": "https://localhost:8080/"
        },
        "deletable": false,
        "editable": false,
        "id": "QD8pzPFe73RO",
        "nbgrader": {
          "cell_type": "code",
          "checksum": "d1f1a9bcfa2ab8ad1ed3b21b00fb8ba9",
          "grade": true,
          "grade_id": "cell-538bede4947fe364",
          "locked": true,
          "points": 0,
          "schema_version": 3,
          "solution": false
        },
        "outputId": "4942bf58-c1e6-4121-fd7f-5978f675e674"
      },
      "outputs": [
        {
          "output_type": "stream",
          "name": "stdout",
          "text": [
            "129/129 [==============================] - 0s 2ms/step - loss: 2.0528 - mae: 2.0528 - mse: 5.5179\n"
          ]
        }
      ],
      "source": [
        "assert model.evaluate(x_test, y_test)[0] < 3"
      ]
    },
    {
      "cell_type": "markdown",
      "metadata": {
        "deletable": false,
        "editable": false,
        "id": "IPWJ3CQq73RP",
        "nbgrader": {
          "cell_type": "markdown",
          "checksum": "23648526b4581cb6ea5df76b63c45274",
          "grade": false,
          "grade_id": "cell-bdd8daf85b096db9",
          "locked": true,
          "schema_version": 3,
          "solution": false
        }
      },
      "source": [
        "## Feedback"
      ]
    },
    {
      "cell_type": "code",
      "execution_count": 58,
      "metadata": {
        "deletable": false,
        "id": "8ggmw34M73RP",
        "nbgrader": {
          "cell_type": "code",
          "checksum": "ed936ab53a1391c5e6af8df699a1dbf5",
          "grade": false,
          "grade_id": "feedback",
          "locked": false,
          "schema_version": 3,
          "solution": true
        }
      },
      "outputs": [],
      "source": [
        "def feedback():\n",
        "    \"\"\"Provide feedback on the contents of this exercise\n",
        "\n",
        "    Returns:\n",
        "        string\n",
        "    \"\"\"\n",
        "    # YOUR CODE HERE\n",
        "    return \"I did not enjoy this assignment. I had multiple errors occuring.\""
      ]
    },
    {
      "cell_type": "code",
      "execution_count": 59,
      "metadata": {
        "deletable": false,
        "editable": false,
        "id": "l3-dgeRp73RP",
        "nbgrader": {
          "cell_type": "code",
          "checksum": "f39f6185a54850c2f1f9b5b2a17b7543",
          "grade": true,
          "grade_id": "feedback-tests",
          "locked": true,
          "points": 0,
          "schema_version": 3,
          "solution": false
        },
        "colab": {
          "base_uri": "https://localhost:8080/",
          "height": 36
        },
        "outputId": "9e3f8c2e-9bca-4382-9fa1-cb8260abbb32"
      },
      "outputs": [
        {
          "output_type": "execute_result",
          "data": {
            "text/plain": [
              "'I did not enjoy this assignment. I had multiple errors occuring.'"
            ],
            "application/vnd.google.colaboratory.intrinsic+json": {
              "type": "string"
            }
          },
          "metadata": {},
          "execution_count": 59
        }
      ],
      "source": [
        "feedback()"
      ]
    }
  ],
  "metadata": {
    "colab": {
      "provenance": []
    },
    "kernelspec": {
      "display_name": "Python 3",
      "language": "python",
      "name": "python3"
    },
    "language_info": {
      "codemirror_mode": {
        "name": "ipython",
        "version": 3
      },
      "file_extension": ".py",
      "mimetype": "text/x-python",
      "name": "python",
      "nbconvert_exporter": "python",
      "pygments_lexer": "ipython3",
      "version": "3.7.4"
    }
  },
  "nbformat": 4,
  "nbformat_minor": 0
}