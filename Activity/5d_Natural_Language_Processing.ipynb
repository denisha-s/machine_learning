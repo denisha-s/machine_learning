{
 "cells": [
  {
   "cell_type": "markdown",
   "metadata": {},
   "source": [
    "## CSCI 470 Activities and Case Studies\n",
    "\n",
    "1. For all activities, you are allowed to collaborate with a partner. \n",
    "1. For case studies, you should work individually and are **not** allowed to collaborate.\n",
    "\n",
    "By filling out this notebook and submitting it, you acknowledge that you are aware of the above policies and are agreeing to comply with them."
   ]
  },
  {
   "cell_type": "markdown",
   "metadata": {},
   "source": [
    "Some considerations with regard to how these notebooks will be graded:\n",
    "\n",
    "1. Cells in which \"# YOUR CODE HERE\" is found are the cells where your graded code should be written.\n",
    "2. In order to test out or debug your code you may also create notebook cells or edit existing notebook cells other than \"# YOUR CODE HERE\". We actually highly recommend you do so to gain a better understanding of what is happening. However, during grading, **these changes are ignored**. \n",
    "2. You must ensure that all your code for the particular task is available in the cells that say \"# YOUR CODE HERE\"\n",
    "3. Every cell that says \"# YOUR CODE HERE\" is followed by a \"raise NotImplementedError\". You need to remove that line. During grading, if an error occurs then you will not receive points for your work in that section.\n",
    "4. If your code passes the \"assert\" statements, then no output will result. If your code fails the \"assert\" statements, you will get an \"AssertionError\". Getting an assertion error means you will not receive points for that particular task.\n",
    "5. If you edit the \"assert\" statements to make your code pass, they will still fail when they are graded since the \"assert\" statements will revert to the original. Make sure you don't edit the assert statements.\n",
    "6. We may sometimes have \"hidden\" tests for grading. This means that passing the visible \"assert\" statements is not sufficient. The \"assert\" statements are there as a guide but you need to make sure you understand what you're required to do and ensure that you are doing it correctly. Passing the visible tests is necessary but not sufficient to get the grade for that cell.\n",
    "7. When you are asked to define a function, make sure you **don't** use any variables outside of the parameters passed to the function. You can think of the parameters being passed to the function as a hint. Make sure you're using all of those variables.\n",
    "8. Finally, **make sure you run \"Kernel > Restart and Run All\"** and pass all the asserts before submitting. If you don't restart the kernel, there may be some code that you ran and deleted that is still being used and that was why your asserts were passing."
   ]
  },
  {
   "cell_type": "markdown",
   "metadata": {},
   "source": [
    "# Natural Language Processing"
   ]
  },
  {
   "cell_type": "code",
   "execution_count": null,
   "metadata": {
    "nbgrader": {
     "grade": false,
     "grade_id": "cell-7ff8992190e52386",
     "locked": false,
     "schema_version": 3,
     "solution": false
    }
   },
   "outputs": [],
   "source": [
    "# # Uncomment the below line to install\n",
    "# ! pip install pprint\n",
    "# ! pip install spacy\n",
    "# ! python -m spacy download en_core_web_md"
   ]
  },
  {
   "cell_type": "code",
   "execution_count": null,
   "metadata": {
    "nbgrader": {
     "grade": false,
     "grade_id": "cell-839fb7e9db39b4dd",
     "locked": false,
     "schema_version": 3,
     "solution": false
    }
   },
   "outputs": [],
   "source": [
    "import sklearn\n",
    "from sklearn.datasets import fetch_20newsgroups\n",
    "from sklearn.model_selection import train_test_split\n",
    "from sklearn.feature_extraction.text import CountVectorizer, TfidfTransformer, HashingVectorizer\n",
    "from sklearn.decomposition import LatentDirichletAllocation\n",
    "from sklearn.naive_bayes import MultinomialNB, GaussianNB\n",
    "from sklearn.svm import LinearSVC\n",
    "from sklearn.metrics import classification_report, f1_score, accuracy_score\n",
    "import numpy as np\n",
    "import en_core_web_md\n",
    "from pprint import pprint\n",
    "\n",
    "import matplotlib\n",
    "import matplotlib.pyplot as plt\n",
    "plt.style.use(\"ggplot\")"
   ]
  },
  {
   "cell_type": "markdown",
   "metadata": {},
   "source": [
    "## Load and examine the data\n",
    "\n",
    "The \"20 newsgroups\" dataset contains message posts (\"documents\") from newgroup message boards, for 20 different topics.\n",
    "\n",
    "The ultimate goal of the models you construct will be to predict which topic a message belongs to. In order to accomplish these, you'll need to convert the text messages into numerical features, using the various methods we discussed in class. After converting the messages to numeric features, you'll train and test Naive Bayes and SVM models to perform topic classification."
   ]
  },
  {
   "cell_type": "code",
   "execution_count": null,
   "metadata": {
    "nbgrader": {
     "grade": false,
     "grade_id": "cell-32547bf8b3c17d81",
     "locked": false,
     "schema_version": 3,
     "solution": false
    }
   },
   "outputs": [],
   "source": [
    "data = fetch_20newsgroups(subset=\"all\")"
   ]
  },
  {
   "cell_type": "code",
   "execution_count": null,
   "metadata": {
    "nbgrader": {
     "grade": false,
     "grade_id": "cell-222fb692deae0d18",
     "locked": false,
     "schema_version": 3,
     "solution": false
    }
   },
   "outputs": [],
   "source": [
    "print(data.DESCR)"
   ]
  },
  {
   "cell_type": "code",
   "execution_count": null,
   "metadata": {
    "nbgrader": {
     "grade": false,
     "grade_id": "cell-c1f44b15459bea17",
     "locked": false,
     "schema_version": 3,
     "solution": false
    }
   },
   "outputs": [],
   "source": [
    "# Extract the messages and topic labels, and view the topic labels\n",
    "\n",
    "text = data[\"data\"]\n",
    "target = data[\"target\"]\n",
    "print('The following are the 20 topics that a message (\"document\") can belong to:')\n",
    "pprint(data[\"target_names\"])"
   ]
  },
  {
   "cell_type": "code",
   "execution_count": null,
   "metadata": {},
   "outputs": [],
   "source": [
    "# Let's look at an example data sample\n",
    "i_sample = 0\n",
    "print(f'A sample with label number \"{target[i_sample]}\", {data[\"target_names\"][target[i_sample]]}')\n",
    "print('')\n",
    "print(text[i_sample])"
   ]
  },
  {
   "cell_type": "code",
   "execution_count": null,
   "metadata": {
    "nbgrader": {
     "grade": false,
     "grade_id": "cell-2377d43a03f72b0f",
     "locked": false,
     "schema_version": 3,
     "solution": false
    }
   },
   "outputs": [],
   "source": [
    "# This \"20 newsgroups\" dataset has a pre-set train/test split, but in this\n",
    "# assignment we've loaded all the data, and will use a random shuffling and\n",
    "# split of the data, as we typically do.\n",
    "\n",
    "X_train, X_test, y_train, y_test = train_test_split(text, target, random_state=0)\n",
    "\n",
    "print(f\"The training dataset contains {len(X_train)} messages.\")\n",
    "print(f\"The test dataset contains {len(X_test)} messages.\")"
   ]
  },
  {
   "cell_type": "markdown",
   "metadata": {},
   "source": [
    "### Create feature representations\n",
    "\n",
    "Below you will create numerical representations (a vectors) for each message using three methods we discussed in class.\n",
    "1. Bag of Words (BoW)\n",
    "2. Term frequency - Inverse Document Frequency (TF-IDF)\n",
    "3. Hashing\n",
    "\n",
    "Note that TF-IDF representations build upon the BoW representations by scaling the term counts in the Bag of Words document term matrix.\n",
    "\n",
    "Scikit-learn implements the BoW feature representation using [CountVectorizer](http://scikit-learn.org/stable/modules/generated/sklearn.feature_extraction.text.CountVectorizer.html), and it also has implementations for [TF-IDF](http://scikit-learn.org/stable/modules/generated/sklearn.feature_extraction.text.TfidfVectorizer.html#sklearn.feature_extraction.text.TfidfVectorizer) and [hashed vector](http://scikit-learn.org/stable/modules/generated/sklearn.feature_extraction.text.HashingVectorizer.html#sklearn.feature_extraction.text.HashingVectorizer) representations. Determine the feature representations of our dataset using each of those approaches."
   ]
  },
  {
   "cell_type": "markdown",
   "metadata": {},
   "source": [
    "#### Bag of Words"
   ]
  },
  {
   "cell_type": "code",
   "execution_count": null,
   "metadata": {
    "deletable": false,
    "nbgrader": {
     "cell_type": "code",
     "checksum": "2a548affddacf8b2bdadbec20f1d420c",
     "grade": false,
     "grade_id": "cell-f899f3942f01be93",
     "locked": false,
     "schema_version": 3,
     "solution": true
    }
   },
   "outputs": [],
   "source": [
    "%%time\n",
    "# Use \"english\" stopwords and produce a BoW representation for the data using n-grams with\n",
    "# n up to 3 (that is, use unigrams, bigrams, and trigrams).\n",
    "#\n",
    "# Save the vectorizer (transformer) as \"counter\".\n",
    "# Save the transformed data as \"X_train_bow\", and \"X_test_bow\".\n",
    "#\n",
    "# \"Fit\" the BoW transformer using the training data only. During the fitting process\n",
    "# the transformer identifies/learns its unique set of takens/features. When never before\n",
    "# seen tokens are found in the test set (or any other non-training data), they are\n",
    "# ignored. That is, they are not counted and included in the BoW representation matrix.\n",
    "#\n",
    "# Note that the CountVectorizer object is performing some of the text preprocessing\n",
    "# discussed in class, including tokenization and removing stop words (but not lemmatization).\n",
    "# The number of unique token occurences in each document (message) is done after\n",
    "# this preprocessing.\n",
    "\n",
    "# YOUR CODE HERE\n",
    "raise NotImplementedError()"
   ]
  },
  {
   "cell_type": "code",
   "execution_count": null,
   "metadata": {},
   "outputs": [],
   "source": [
    "# Let's see how many features (tokens) are in the BoW representations.\n",
    "# It will be a very large number (> 3M) owing to the use of n-grams with n up\n",
    "# to 3. It is also large to do the many typos, misspellings, or other\n",
    "# character sequences that are not actual english words, and thus treated\n",
    "# as a new/unique token.\n",
    "#\n",
    "# You may want to alter the cell above to use only unigrams, or\n",
    "# only unigrams and bigrams, and see how many features are created in\n",
    "# those situations. But use n-grams with n up to three before moving\n",
    "# forward in the notebook.\n",
    "\n",
    "print(f'The training set has: {X_train_bow.shape[0]:5d} samples and {X_train_bow.shape[1]} features.')\n",
    "print(f'The test set has:     {X_test_bow.shape[0]:5d} samples and {X_test_bow.shape[1]} features.')"
   ]
  },
  {
   "cell_type": "code",
   "execution_count": null,
   "metadata": {
    "deletable": false,
    "editable": false,
    "nbgrader": {
     "cell_type": "code",
     "checksum": "6c4e2d2a908a09be0726df3099868d81",
     "grade": true,
     "grade_id": "cell-740433b073b13510",
     "locked": true,
     "points": 5,
     "schema_version": 3,
     "solution": false
    }
   },
   "outputs": [],
   "source": [
    "assert counter\n",
    "assert counter.stop_words==\"english\"\n",
    "assert counter.ngram_range==(1, 3)\n",
    "assert len(counter.get_feature_names())==3034327\n",
    "assert X_train_bow.shape==(14134, 3034327)\n",
    "assert X_test_bow.shape==(4712, 3034327)"
   ]
  },
  {
   "cell_type": "markdown",
   "metadata": {},
   "source": [
    "#### Term frequency - Inverse document frequency\n",
    "\n",
    "Note that sklearn implements a [`TfidfVectorizer`](http://scikit-learn.org/stable/modules/generated/sklearn.feature_extraction.text.TfidfVectorizer.html) and [`TfidfTransformer`](http://scikit-learn.org/stable/modules/generated/sklearn.feature_extraction.text.TfidfTransformer.html). The main difference between the two is in the inputs to `fit_transform` and `transform`. The [Vectorizer's fit/transform](http://scikit-learn.org/stable/modules/generated/sklearn.feature_extraction.text.TfidfVectorizer.html#sklearn.feature_extraction.text.TfidfVectorizer.fit) take an input of text whereas the [Transformer's](http://scikit-learn.org/stable/modules/generated/sklearn.feature_extraction.text.TfidfTransformer.html#sklearn.feature_extraction.text.TfidfTransformer.fit) take an input of a BoW matrix. Given that we already determined the BoW matrix, it would be more time efficient to use `TfidfTransformer`."
   ]
  },
  {
   "cell_type": "code",
   "execution_count": null,
   "metadata": {
    "deletable": false,
    "nbgrader": {
     "cell_type": "code",
     "checksum": "a3414772ac5b3108202d8dcfca809f42",
     "grade": false,
     "grade_id": "cell-018bdbbae2613aef",
     "locked": false,
     "schema_version": 3,
     "solution": true
    }
   },
   "outputs": [],
   "source": [
    "%%time\n",
    "# Use the BoW representation you just created above to produce a TF-IDF representation of the data\n",
    "#\n",
    "# Save the transformer to \"tfidfer\".\n",
    "# Save the transformed data as \"X_train_tfidf\", and \"X_test_tfidf\".\n",
    "#\n",
    "# As with BoW, using only training data representations for fitting, during\n",
    "# which time the TF-IDF transformer determines the fixed set of tokens that\n",
    "# it will represent.\n",
    "\n",
    "# YOUR CODE HERE\n",
    "raise NotImplementedError()"
   ]
  },
  {
   "cell_type": "code",
   "execution_count": null,
   "metadata": {
    "deletable": false,
    "editable": false,
    "nbgrader": {
     "cell_type": "code",
     "checksum": "002c4691b85e923f64b114fd54088c1f",
     "grade": true,
     "grade_id": "cell-0e6ce5999cd93389",
     "locked": true,
     "points": 5,
     "schema_version": 3,
     "solution": false
    }
   },
   "outputs": [],
   "source": [
    "assert tfidfer\n",
    "assert X_train_tfidf.shape==(14134, 3034327)\n",
    "assert X_test_tfidf.shape==(4712, 3034327)"
   ]
  },
  {
   "cell_type": "markdown",
   "metadata": {
    "deletable": false,
    "editable": false,
    "nbgrader": {
     "cell_type": "markdown",
     "checksum": "5ad711b8f3b748c9fd4a1ff2a0ae7053",
     "grade": false,
     "grade_id": "cell-ed956dd2a828dea8",
     "locked": true,
     "schema_version": 3,
     "solution": false
    }
   },
   "source": [
    "#### Hashing vectorizer\n",
    "\n",
    "So far, we've \"vectorized\" the raw text messages into numerical feature vectors (assembled into a matrix) using BoW and TF-IDF. Both of those techniques determine a vocabulary, a fixed number of tokens, from the training data. When new tokens are found in the test set data they are ignored.\n",
    "\n",
    "The hashing vectorizer remedies (but not without a downside) this situation by using a hash algorithm to convert a text token into an index (location) into the representation vector. A hash algorithm converts any sequence of bits into a bit sequence of fixed length. That fixed length sequence is thus an integer. There are many facets to this, but as this is not a cryptogryphy course (hashing is often used as a method to confirm that a digital document/stream has not been altered), we won't discuss those facets here.\n",
    "\n",
    "The main point is, a hashing vectorizer can deal with test set tokens that is has never seen before, and \"find\" a place for them in the output feature representation."
   ]
  },
  {
   "cell_type": "code",
   "execution_count": null,
   "metadata": {
    "deletable": false,
    "nbgrader": {
     "cell_type": "code",
     "checksum": "b420684464adae5a7a1fa7ce6acadad3",
     "grade": false,
     "grade_id": "cell-2ad00d9b9df56ed5",
     "locked": false,
     "schema_version": 3,
     "solution": true
    }
   },
   "outputs": [],
   "source": [
    "%%time \n",
    "# Use \"english\" stopwords and produce a hashed vector representation for the data using up to trigrams.\n",
    "#\n",
    "# Save the vectorizer as \"hasher\".\n",
    "# Save the transformed data as \"X_train_hash\" and \"X_test_hash\".\n",
    "#\n",
    "# Make sure you set alternate_sign to False so we can use this representation with Multinomial Naive\n",
    "# Bayes later in the notebook.\n",
    "\n",
    "# YOUR CODE HERE\n",
    "raise NotImplementedError()"
   ]
  },
  {
   "cell_type": "code",
   "execution_count": null,
   "metadata": {},
   "outputs": [],
   "source": [
    "# Let's see how many features (tokens) are in the hashed representations\n",
    "\n",
    "print(f'The training set has: {X_train_hash.shape[0]:5d} samples and {X_train_hash.shape[1]} features.')\n",
    "print(f'The test set has:     {X_test_hash.shape[0]:5d} samples and {X_test_hash.shape[1]} features.')"
   ]
  },
  {
   "cell_type": "code",
   "execution_count": null,
   "metadata": {
    "deletable": false,
    "editable": false,
    "nbgrader": {
     "cell_type": "code",
     "checksum": "5fee5c79f5236e12894fdf52279d3f9a",
     "grade": true,
     "grade_id": "cell-f6a5afb5d4f0a4d9",
     "locked": true,
     "points": 5,
     "schema_version": 3,
     "solution": false
    }
   },
   "outputs": [],
   "source": [
    "assert hasher\n",
    "assert hasher.stop_words == \"english\"\n",
    "assert hasher.ngram_range == (1,3)\n",
    "assert X_train_hash.shape == (14134, 1048576)\n",
    "assert X_test_hash.shape == (4712, 1048576)"
   ]
  },
  {
   "cell_type": "markdown",
   "metadata": {},
   "source": [
    "Having passed the asserts above, we see that the hashing vectorizer produced feature vectors with 1048576 features. Recall that the hash algorithm creates outputs with a fixed number of bits, and `2**n_bits` must be the number of possible features in the representation.\n",
    "\n",
    "Just out of curiosity, let's see how many output bits were produced by the hash algorithm."
   ]
  },
  {
   "cell_type": "code",
   "execution_count": null,
   "metadata": {},
   "outputs": [],
   "source": [
    "# Just out of curiosity, let's see how many output bits were produced by the hash algorithm.\n",
    "\n",
    "n_features = X_test_hash.shape[1]\n",
    "n_bits = np.log2(n_features)\n",
    "print(f\"The hash algorithm generated {n_bits}-bit representations, and thus 2^{n_bits}=={n_features} features.\")"
   ]
  },
  {
   "cell_type": "markdown",
   "metadata": {},
   "source": [
    "Compare the time it took to run the count vectorizer versus the hashing vectorizer even though they both will iterate through all the words.\n",
    "\n",
    "Note that TF-IDF built upon the BoW representations, to that BoW time should be added in to the TF-IDF time."
   ]
  },
  {
   "cell_type": "markdown",
   "metadata": {},
   "source": [
    "## A Naive Bayes classifier model, with engineered features\n",
    "\n",
    "New you'll build classifier models that use the vector feature representations you just created.\n",
    "\n",
    "Recall [Naive Bayes Classification](http://scikit-learn.org/stable/modules/naive_bayes.html) which we discussed early on in the supervised learning lectures. We will use Naive Bayes classifiers to predict the topic of the articles and compare our feature representations.\n",
    "\n",
    "Use a Multinomial Naive Bayes classifier to predict the topics."
   ]
  },
  {
   "cell_type": "code",
   "execution_count": null,
   "metadata": {
    "deletable": false,
    "nbgrader": {
     "cell_type": "code",
     "checksum": "cf8ba8d7e6d600d38c11be1dd5c1109f",
     "grade": false,
     "grade_id": "cell-cdf5ba26c387fd97",
     "locked": false,
     "schema_version": 3,
     "solution": true
    }
   },
   "outputs": [],
   "source": [
    "for feat_name, train_feat, test_feat in zip([\"Bag of Words\", \"TF-IDF\", \"Hashing\"],\n",
    "                                            [X_train_bow, X_train_tfidf, X_train_hash],\n",
    "                                            [X_test_bow, X_test_tfidf, X_test_hash]):\n",
    "    \n",
    "    # Create a Multinomial Naive Bayes model and saved it to `mnb`\n",
    "    # Fit the 'mnb' model to the training features and labels, for\n",
    "    # the BoW, TF-IDF, or hashing features in this loop.\n",
    "    # YOUR CODE HERE\n",
    "    raise NotImplementedError()\n",
    "    \n",
    "    y_pred = mnb.predict(test_feat)\n",
    "    print(f\"Results for {feat_name}\")\n",
    "    print(\"-\"*80)\n",
    "    print(classification_report(y_test, y_pred))\n",
    "    print(\"-\"*80)"
   ]
  },
  {
   "cell_type": "code",
   "execution_count": null,
   "metadata": {
    "deletable": false,
    "editable": false,
    "nbgrader": {
     "cell_type": "code",
     "checksum": "c6868948856264f42927eef81e550203",
     "grade": true,
     "grade_id": "cell-b545c8d3793a05e7",
     "locked": true,
     "points": 1,
     "schema_version": 3,
     "solution": false
    }
   },
   "outputs": [],
   "source": [
    "assert isinstance(mnb, MultinomialNB)"
   ]
  },
  {
   "cell_type": "markdown",
   "metadata": {},
   "source": [
    "## Latent Dirichlet Allocation (optional)\n",
    "\n",
    "LDA is a topic modeling approach that can be used to determine high level topics covered in a corpus. Identified topics can help us determine the concepts covered in the corpus and better understand what is being discussed. The topic relevance can be used as a useful feature representation for each document. \n",
    "\n",
    "Scikit-learn has an implementation available for [LDA](https://scikit-learn.org/stable/modules/generated/sklearn.decomposition.LatentDirichletAllocation.html).\n",
    "\n",
    "Fitting this data can take a **very long time** so this code is just provided for you to uncomment it and examine the results. You can continue with the rest of the notebook while this runs."
   ]
  },
  {
   "cell_type": "code",
   "execution_count": null,
   "metadata": {},
   "outputs": [],
   "source": [
    "%%time\n",
    "# Feel free to change the number of topics to find by updating n_components\n",
    "# lda = LatentDirichletAllocation(n_components=30)\n",
    "# lda.fit(X_train_bow)"
   ]
  },
  {
   "cell_type": "code",
   "execution_count": null,
   "metadata": {},
   "outputs": [],
   "source": [
    "def plot_top_words(model, feature_names, n_top_words, title):\n",
    "    rows = model.n_components // 5\n",
    "    if rows % 5 != 0:\n",
    "        rows +=1\n",
    "    fig, axes = plt.subplots(rows, 5, figsize=(45, 15), sharex=True)\n",
    "    axes = axes.flatten()\n",
    "    for topic_idx, topic in enumerate(model.components_):\n",
    "        top_features_ind = topic.argsort()[:-n_top_words - 1:-1]\n",
    "        top_features = [feature_names[i] for i in top_features_ind]\n",
    "        weights = topic[top_features_ind]\n",
    "\n",
    "        ax = axes[topic_idx]\n",
    "        ax.barh(top_features, weights, height=0.7)\n",
    "        ax.set_title(f'Topic {topic_idx +1}',\n",
    "                     fontdict={'fontsize': 30})\n",
    "        ax.invert_yaxis()\n",
    "        ax.tick_params(axis='both', which='major', labelsize=20)\n",
    "        for i in 'top right left'.split():\n",
    "            ax.spines[i].set_visible(False)\n",
    "        fig.suptitle(title, fontsize=40)\n",
    "\n",
    "    plt.subplots_adjust(top=0.90, bottom=0.05, wspace=0.90, hspace=0.3)\n",
    "    plt.show()"
   ]
  },
  {
   "cell_type": "code",
   "execution_count": null,
   "metadata": {},
   "outputs": [],
   "source": [
    "# plot_top_words(lda, counter.get_feature_names(), 10, \"Topic Content\")"
   ]
  },
  {
   "cell_type": "code",
   "execution_count": null,
   "metadata": {},
   "outputs": [],
   "source": [
    "print(f\"The following names are the target classes:\")\n",
    "print(data.target_names)\n",
    "print(f\"What do you think of the similarity between topics you found and the classes? Are these useful topics?\")"
   ]
  },
  {
   "cell_type": "code",
   "execution_count": null,
   "metadata": {},
   "outputs": [],
   "source": [
    "%%time\n",
    "# X_train_lda = lda.transform(X_train_bow)\n",
    "# X_test_lda = lda.transform(X_test_bow)\n",
    "# svm = LinearSVC().fit(X_train_lda, y_train)\n",
    "# y_pred = svm.predict(X_test_lda)\n",
    "# print(classification_report(y_test, y_pred))"
   ]
  },
  {
   "cell_type": "markdown",
   "metadata": {},
   "source": [
    "**PLEASE**  \n",
    "\n",
    "**If you uncommented and ran the above Latent Dirichlet Allocation (LDA) code, recomment it afterwards, as this will help speed up grading time.**  \n",
    "\n",
    "**Thank you!!**"
   ]
  },
  {
   "cell_type": "markdown",
   "metadata": {
    "deletable": false,
    "editable": false,
    "nbgrader": {
     "cell_type": "markdown",
     "checksum": "c96453fa3ea624ebe11c4066e3785057",
     "grade": false,
     "grade_id": "cell-f1fb206ff47bb7a6",
     "locked": true,
     "schema_version": 3,
     "solution": false
    }
   },
   "source": [
    "## Learned Embeddings\n",
    "\n",
    "We'll now move on to the use of __learned__ representations, rather than ones the were, to some degree, engineered (e.g., the decision to base the features on token counts). We will use [spacy](https://spacy.io/), for more sophisticated NLP. Make sure you downloaded the english model in the commented code at the top of the notebook (`en_core_web_md`) before proceeding. It may take some time to download.\n",
    "\n",
    "Spacy allows us to parse text and automatically does the following:\n",
    "- tokenization\n",
    "- lemmatization\n",
    "- sentence splitting\n",
    "- entity recognition\n",
    "- token vector representation\n",
    "\n",
    "\n",
    "__We'll start by creating an example string, and observing the results of `spacy`'s preprocessing. Then you can create your own example string and do the same.__"
   ]
  },
  {
   "cell_type": "code",
   "execution_count": null,
   "metadata": {
    "nbgrader": {
     "grade": false,
     "grade_id": "cell-bdd9ef5d3e965340",
     "locked": false,
     "schema_version": 3,
     "solution": false
    }
   },
   "outputs": [],
   "source": [
    "%%time\n",
    "\n",
    "# The spacy models are of small (sm), medium (md) and large (lg)\n",
    "# sizes. We'll use the medium-sized model.\n",
    "nlp = en_core_web_md.load()"
   ]
  },
  {
   "cell_type": "code",
   "execution_count": null,
   "metadata": {
    "nbgrader": {
     "grade": false,
     "grade_id": "cell-d4194dd187aa95b1",
     "locked": false,
     "schema_version": 3,
     "solution": false
    }
   },
   "outputs": [],
   "source": [
    "text = \"This is the first sentence in this test string. The quick brown fox jumps over the lazy dog.\"\n",
    "\n",
    "parsed_text = nlp(text)\n",
    "\n",
    "for sent in parsed_text.sents:\n",
    "    print(f\"Analyzing sentence: {sent}\")\n",
    "    print(f\"Lemmatization: {sent.lemma_}\")\n",
    "    for token in sent:\n",
    "        print(f\"Analyzing token: {token}\")\n",
    "        if token.is_sent_start:\n",
    "            print(\"This token is the first one in the sentence\")\n",
    "        if token.is_stop:\n",
    "            print(\"Stop word\")\n",
    "        else:\n",
    "            print(\"Not stop word\")\n",
    "        print(f\"Entity type: {token.ent_type_}\")\n",
    "        print(f\"Part of speech: {token.pos_}\")\n",
    "        print(f\"Lemma: {token.lemma_}\")\n",
    "        print(\"-\"*10)\n",
    "    print(\"-\"*50)"
   ]
  },
  {
   "cell_type": "code",
   "execution_count": null,
   "metadata": {
    "deletable": false,
    "nbgrader": {
     "cell_type": "code",
     "checksum": "14751fcb1029c6fe4c1ea2b5336a5410",
     "grade": false,
     "grade_id": "cell-a1f85ff1f2b6b116",
     "locked": false,
     "schema_version": 3,
     "solution": true
    }
   },
   "outputs": [],
   "source": [
    "# Come up with a couple sentences to test out, put them into a single string (pair\n",
    "# of quuotes), and name that string \"my_text\".\n",
    "# Or, go to a website and copy a paragraph from there.\n",
    "\n",
    "# YOUR CODE HERE\n",
    "raise NotImplementedError()"
   ]
  },
  {
   "cell_type": "code",
   "execution_count": null,
   "metadata": {
    "deletable": false,
    "editable": false,
    "nbgrader": {
     "cell_type": "code",
     "checksum": "80badb1bad0222f6ce477e3787c284bc",
     "grade": true,
     "grade_id": "cell-dd4c284f3101e2e6",
     "locked": true,
     "points": 1,
     "schema_version": 3,
     "solution": false
    }
   },
   "outputs": [],
   "source": [
    "assert len(my_text) > 10\n",
    "assert my_text.count(\".\") > 2  # Two or more sentences"
   ]
  },
  {
   "cell_type": "code",
   "execution_count": null,
   "metadata": {
    "nbgrader": {
     "grade": false,
     "grade_id": "cell-fd7fed9c7e3903f4",
     "locked": false,
     "schema_version": 3,
     "solution": false
    }
   },
   "outputs": [],
   "source": [
    "parsed = nlp(my_text)\n",
    "for sent in parsed.sents:\n",
    "    print(f\"Analyzing sentence: {sent}\")\n",
    "    print(f\"Lemmatization: {sent.lemma_}\")\n",
    "    for token in sent:\n",
    "        print(f\"Analyzing token: {token}\")\n",
    "        if token.is_sent_start:\n",
    "            print(\"This token is the first one in the sentence\")\n",
    "        if token.is_stop:\n",
    "            print(\"Stop word\")\n",
    "        else:\n",
    "            print(\"Not stop word\")\n",
    "        print(f\"Entity type: {token.ent_type_}\")\n",
    "        print(f\"Part of speech: {token.pos_}\")\n",
    "        print(f\"Lemma: {token.lemma_}\")\n",
    "        print(\"-\"*10)\n",
    "    print(\"-\"*50)"
   ]
  },
  {
   "cell_type": "markdown",
   "metadata": {
    "deletable": false,
    "editable": false,
    "nbgrader": {
     "cell_type": "markdown",
     "checksum": "86ee98556c7ecd9eb1204436cd5f2ce6",
     "grade": false,
     "grade_id": "cell-1a2a413b9c440b95",
     "locked": true,
     "schema_version": 3,
     "solution": false
    }
   },
   "source": [
    "If we use the larger `spacy` models, we'll get the __GloVe representation__ for some words. GloVe representations are \"pre-trained\" (learned) from a large language corpus. In this case, the GloVe vectors should have 300 features."
   ]
  },
  {
   "cell_type": "code",
   "execution_count": null,
   "metadata": {
    "nbgrader": {
     "grade": false,
     "grade_id": "cell-da272ac031f8d791",
     "locked": false,
     "schema_version": 3,
     "solution": false
    }
   },
   "outputs": [],
   "source": [
    "token.vector.shape"
   ]
  },
  {
   "cell_type": "markdown",
   "metadata": {
    "deletable": false,
    "editable": false,
    "nbgrader": {
     "cell_type": "markdown",
     "checksum": "915b7ab80adeb58c07190fd8ecd0d448",
     "grade": false,
     "grade_id": "cell-7d1247a2cf60bab3",
     "locked": true,
     "schema_version": 3,
     "solution": false
    }
   },
   "source": [
    "## An SVM classifier model, with learned embedding features\n",
    "\n",
    "Now you'll use `spacy` to get GloVe feature representations of a subset of the messages, and then train and test an SVM that makes topic predictions based on those features.\n",
    "\n",
    "Given that the parsing of text takes some time, we will only use __the first 1000 messages__ in our data. __You will get notably lower performance versus the NB models which used the engineered features, but that is almost solely due to the use of a much smaller data set here.__ You may edit the cell below and use more data, but __please__ reset it to 1000 afterwards, or the autograder may not be able to score your notebook."
   ]
  },
  {
   "cell_type": "code",
   "execution_count": null,
   "metadata": {
    "nbgrader": {
     "grade": false,
     "grade_id": "cell-65e1d1dbb5567b87",
     "locked": false,
     "schema_version": 3,
     "solution": false
    }
   },
   "outputs": [],
   "source": [
    "new_X_train, new_X_test, new_y_train, new_y_test = train_test_split(X_train[:1000], y_train[:1000], random_state=0)"
   ]
  },
  {
   "cell_type": "code",
   "execution_count": null,
   "metadata": {
    "deletable": false,
    "nbgrader": {
     "cell_type": "code",
     "checksum": "aafc43301aa0ecfb078b324a43b32553",
     "grade": false,
     "grade_id": "cell-a35e8a4ea5c845f6",
     "locked": false,
     "schema_version": 3,
     "solution": true
    }
   },
   "outputs": [],
   "source": [
    "%%time\n",
    "# Using the \"nlp\" from above, parse every instance of new_X_train\n",
    "# save the document vectors to a np.array called X_train_glove\n",
    "\n",
    "# YOUR CODE HERE\n",
    "raise NotImplementedError()"
   ]
  },
  {
   "cell_type": "code",
   "execution_count": null,
   "metadata": {
    "deletable": false,
    "editable": false,
    "nbgrader": {
     "cell_type": "code",
     "checksum": "3cbbe22214eea789813b27bee43dc314",
     "grade": true,
     "grade_id": "cell-8431bb15ebe0914f",
     "locked": true,
     "points": 3,
     "schema_version": 3,
     "solution": false
    }
   },
   "outputs": [],
   "source": [
    "assert X_train_glove.shape == (len(new_X_train), 300)\n",
    "assert X_test_glove.shape == (len(new_X_test), 300)"
   ]
  },
  {
   "cell_type": "code",
   "execution_count": null,
   "metadata": {
    "nbgrader": {
     "grade": false,
     "grade_id": "cell-5b693b9255ee6aea",
     "locked": false,
     "schema_version": 3,
     "solution": false
    }
   },
   "outputs": [],
   "source": [
    "svm = LinearSVC().fit(X_train_glove, new_y_train)\n",
    "y_pred = svm.predict(X_test_glove)\n",
    "\n",
    "# Due to the smaller data set size, you may get \"Precision and F-score are ill-defined\"\n",
    "# warnings from the classification_report() below. That is anticipated and of no concern.\n",
    "print(classification_report(new_y_test, y_pred))"
   ]
  },
  {
   "cell_type": "markdown",
   "metadata": {
    "deletable": false,
    "editable": false,
    "nbgrader": {
     "cell_type": "markdown",
     "checksum": "483e65acc4062f57f7320d9b4cb0f945",
     "grade": false,
     "grade_id": "cell-75181722913aa756",
     "locked": true,
     "schema_version": 3,
     "solution": false
    }
   },
   "source": [
    "## Feedback"
   ]
  },
  {
   "cell_type": "code",
   "execution_count": null,
   "metadata": {
    "deletable": false,
    "nbgrader": {
     "cell_type": "code",
     "checksum": "ed936ab53a1391c5e6af8df699a1dbf5",
     "grade": false,
     "grade_id": "feedback",
     "locked": false,
     "schema_version": 3,
     "solution": true
    }
   },
   "outputs": [],
   "source": [
    "def feedback():\n",
    "    \"\"\"Provide feedback on the contents of this exercise\n",
    "    \n",
    "    Returns:\n",
    "        string\n",
    "    \"\"\"\n",
    "    # YOUR CODE HERE\n",
    "    raise NotImplementedError()"
   ]
  },
  {
   "cell_type": "code",
   "execution_count": null,
   "metadata": {
    "deletable": false,
    "editable": false,
    "nbgrader": {
     "cell_type": "code",
     "checksum": "f39f6185a54850c2f1f9b5b2a17b7543",
     "grade": true,
     "grade_id": "feedback-tests",
     "locked": true,
     "points": 0,
     "schema_version": 3,
     "solution": false
    }
   },
   "outputs": [],
   "source": []
  }
 ],
 "metadata": {
  "kernelspec": {
   "display_name": "Python 3",
   "language": "python",
   "name": "python3"
  },
  "language_info": {
   "codemirror_mode": {
    "name": "ipython",
    "version": 3
   },
   "file_extension": ".py",
   "mimetype": "text/x-python",
   "name": "python",
   "nbconvert_exporter": "python",
   "pygments_lexer": "ipython3",
   "version": "3.7.4"
  }
 },
 "nbformat": 4,
 "nbformat_minor": 2
}
